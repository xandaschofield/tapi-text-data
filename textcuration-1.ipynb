{
 "cells": [
  {
   "cell_type": "markdown",
   "metadata": {},
   "source": [
    "<img align=\"left\" src=\"https://ithaka-labs.s3.amazonaws.com/static-files/images/tdm/tdmdocs/tapi-logo-small.png\" />\n",
    "\n",
    "This notebook free for educational reuse under [Creative Commons CC BY License](https://creativecommons.org/licenses/by/4.0/).\n",
    "\n",
    "Created by [Xanda Schofield](https://www.cs.hmc.edu/~xanda) for the 2022 Text Analysis Pedagogy Institute, with support from the [National Endowment for the Humanities](https://neh.gov), [JSTOR Labs](https://labs.jstor.org/), and [University of Arizona Libraries](https://new.library.arizona.edu/).\n",
    "\n",
    "For questions/comments/improvements, email xanda@cs.hmc.edu.<br />\n",
    "____"
   ]
  },
  {
   "cell_type": "markdown",
   "metadata": {},
   "source": [
    "# Text Data Curation 1\n",
    "\n",
    "This is lesson 1 of 3 in the educational series on Text Data Curation. This notebook is intended to introduce the basics of treating text documents as data and how to store and filter those documents. \n",
    "\n",
    "**Audience:** `Teachers` / `Learners` / `Researchers`\n",
    "\n",
    "**Use case:** [`How-To`](https://constellate.org/docs/documentation-categories#howtoproblemoriented) \n",
    "\n",
    "**Difficulty:** `Intermediate`\n",
    "This course is open to those with a basic level of proficiency in Python. Taking the Python Basics course the week before is sufficient.\n",
    "\n",
    "**Completion time:** `90 minutes`\n",
    "\n",
    "**Knowledge Required:** \n",
    "```\n",
    "* Python basics (variables, flow control, functions, lists, dictionaries)\n",
    "* How Python libraries work (installation and imports)\n",
    "```\n",
    "\n",
    "**Knowledge Recommended:**\n",
    "```\n",
    "* Basic file operations (open, close, read, write)\n",
    "* How text is stored on computers (encodings, file types)\n",
    "```\n",
    "\n",
    "**Learning Objectives:**\n",
    "After this lesson, learners will be able to:\n",
    "```\n",
    "1. Parse and generate XML, JSON, and CSV files given raw text documents\n",
    "2. Identify when text encodings affect the interpretation of text data\n",
    "3. Use a lexicon to select relevant documents within a text collection\n",
    "4. Use fuzzy matching to remove duplicate items from a collection\n",
    "```\n",
    "**Research Pipeline:**\n",
    "```\n",
    "1. Research steps before this notebook\n",
    "2. **The skills in this notebook**\n",
    "3. Steps after this notebook\n",
    "4. Final steps\n",
    "```\n",
    "___"
   ]
  },
  {
   "cell_type": "markdown",
   "metadata": {},
   "source": [
    "# Required Python Libraries\n",
    "`List out any libraries used and what they are used for`\n",
    "* [Tesseract](https://tesseract-ocr.github.io/) for performing [optical character recognition](https://docs.constellate.org/key-terms/#ocr).\n",
    "* [Pandas](https://pandas.pydata.org/) for manipulating and cleaning data.\n",
    "* [Pdf2image](https://pdf2image.readthedocs.io/en/latest/) for converting pdf files into image files.\n",
    "\n",
    "## Install Required Libraries"
   ]
  },
  {
   "cell_type": "code",
   "execution_count": null,
   "metadata": {},
   "outputs": [],
   "source": [
    "### Install Libraries ###\n",
    "\n",
    "# Using !pip installs\n",
    "!pip install pdf2image\n",
    "\n",
    "# Using %%bash magic with apt-get and yes prompt"
   ]
  },
  {
   "cell_type": "code",
   "execution_count": null,
   "metadata": {},
   "outputs": [],
   "source": [
    "%%bash\n",
    "apt-get install tesseract-ocr\n",
    "y"
   ]
  },
  {
   "cell_type": "code",
   "execution_count": null,
   "metadata": {},
   "outputs": [],
   "source": [
    "### Import Libraries ###\n",
    "import urllib.request\n",
    "import os"
   ]
  },
  {
   "cell_type": "markdown",
   "metadata": {},
   "source": [
    "# Required Data\n",
    "\n",
    "`List out the data sources, including their formats and a few sentences describing the data. Include a link to the data source description, if possible.`\n",
    "\n",
    "**Data Format:** \n",
    "* image files (.jpg, .png)\n",
    "* document files (.pdf)\n",
    "* plain text (.txt)\n",
    "\n",
    "**Data Source:**\n",
    "* [Detroit Open Data Portal](https://data.detroitmi.gov/datasets/detroitmi::dpd-citizen-complaints/about)\n",
    "\n",
    "**Data Quality/Bias:**\n",
    "`Analysis of this data should consider the following quality and bias issues...`\n",
    "\n",
    "**Data Description:**\n",
    "\n",
    "`This lesson uses XXXX data in XXX format from XXXX source. Additional details about the data used.`\n",
    "\n",
    "## Download Required Data"
   ]
  },
  {
   "cell_type": "code",
   "execution_count": null,
   "metadata": {},
   "outputs": [],
   "source": [
    "### Grab files with console `wget` and `mv` ###\n",
    "!wget https://github.com/tesseract-ocr/tessdata/raw/main/eng.traineddata\n",
    "!mv eng.traineddata /usr/share/tesseract-ocr/4.00/tessdata/eng.traineddata\n"
   ]
  },
  {
   "cell_type": "code",
   "execution_count": null,
   "metadata": {},
   "outputs": [],
   "source": [
    "### Grab a single file and supply name ###\n",
    "urllib.request.urlretrieve('https://file.address.txt', 'filename.txt')"
   ]
  },
  {
   "cell_type": "code",
   "execution_count": null,
   "metadata": {},
   "outputs": [],
   "source": [
    "### Retrieve multiple files using a list ###\n",
    "\n",
    "download_urls = [\n",
    "    'https://ithaka-labs.s3.amazonaws.com/static-files/images/tdm/tdmdocs/sample_01.pdf',\n",
    "    'https://ithaka-labs.s3.amazonaws.com/static-files/images/tdm/tdmdocs/sample_02.pdf',\n",
    "    'https://ithaka-labs.s3.amazonaws.com/static-files/images/tdm/tdmdocs/sample_03.pdf'\n",
    "]\n",
    "\n",
    "for url in download_urls:\n",
    "    urllib.request.urlretrieve(url, url.rsplit('/', 1)[-1])"
   ]
  },
  {
   "cell_type": "code",
   "execution_count": null,
   "metadata": {},
   "outputs": [],
   "source": [
    "### Retrieve multiple files using a list ###\n",
    "### With data folder creation using os ###\n",
    "\n",
    "# Files hosted somewhere else (don't store data on GitHub)\n",
    "\n",
    "# Check if a folder exists to hold pdfs. If not, create it.\n",
    "if os.path.exists('sample_pdfs') == False:\n",
    "    os.mkdir('sample_pdfs')\n",
    "\n",
    "# Move into our new directory\n",
    "os.chdir('sample_pdfs')\n",
    "\n",
    "# Download the pdfs into our directory\n",
    "import urllib.request\n",
    "download_urls = [\n",
    "    'https://ithaka-labs.s3.amazonaws.com/static-files/images/tdm/tdmdocs/sample_01.pdf',\n",
    "    'https://ithaka-labs.s3.amazonaws.com/static-files/images/tdm/tdmdocs/sample_02.pdf',\n",
    "    'https://ithaka-labs.s3.amazonaws.com/static-files/images/tdm/tdmdocs/sample_03.pdf'\n",
    "]\n",
    "\n",
    "for url in download_urls:\n",
    "    urllib.request.urlretrieve(url, url.rsplit('/', 1)[-1])\n",
    "    \n",
    "## Move back out of our directory\n",
    "os.chdir('../')\n",
    "\n",
    "## Success message\n",
    "print('Folder created and pdfs added.')"
   ]
  },
  {
   "cell_type": "code",
   "execution_count": null,
   "metadata": {},
   "outputs": [],
   "source": [
    "### Constellate Example ###\n",
    "\n",
    "# Importing your dataset with a dataset ID\n",
    "import constellate\n",
    "# Pull in the sampled dataset (1500 documents) that matches `dataset_id`\n",
    "# in the form of a gzipped JSON lines file.\n",
    "# The .get_dataset() method downloads the gzipped JSONL file\n",
    "# to the /data folder and returns a string for the file name and location\n",
    "dataset_file = constellate.get_dataset(dataset_id)\n",
    "\n",
    "# To download the full dataset (up to a limit of 25,000 documents),\n",
    "# request it first in the builder environment. See the Constellate Client\n",
    "# documentation at: https://constellate.org/docs/constellate-client\n",
    "# Then use the `constellate.download` method show below.\n",
    "#dataset_file = constellate.download(dataset_id, 'jsonl')\n"
   ]
  },
  {
   "cell_type": "markdown",
   "metadata": {},
   "source": [
    "# Introduction\n",
    "\n",
    "```\n",
    "Introduce the lesson topic. Answer questions such as:\n",
    "* Why is it useful? \n",
    "* Why should we learn it? \n",
    "* Who might use it? \n",
    "* Where has it been used by scholars/industry?\n",
    "* What do we need to do it?\n",
    "* What subjects are included in the notebooks?\n",
    "* What is not in this notebook? Where should we look for it?\n",
    "```"
   ]
  },
  {
   "cell_type": "markdown",
   "metadata": {},
   "source": [
    "# Lesson\n",
    "\n",
    "## Style tips for writing your lesson body\n",
    "\n",
    "### Creating your table of contents and sections\n",
    "Break down your sections using markdown headings of different sizes (greater or fewer #s). Users will have access to a table of contents automatically generated by headings. To get a preview of this on your local machine, install:\n",
    "\n",
    "`pip install jupyter_contrib_nbextensions`\n",
    "\n",
    "Then install the javascript and css files using:\n",
    "\n",
    "`jupyter contrib nbextension install --user`\n",
    "\n",
    "Reopen Jupyter Notebook to refresh. Then choose **File** > **Open**. Then the \"NBExtensions\" tab. Unselect \"disable configuration for nbextensions...\" and then choose \"Table of Contents (2)\". You may need to reopen or refresh the current notebook. In the header, you will see the toggle button for the table of contents. For more details, see this [video](https://www.youtube.com/watch?v=_3VD289eOtU).\n",
    "\n",
    "### Markdown cheatsheet\n",
    "\n",
    "A [quick cheatsheet](https://www.markdownguide.org/cheat-sheet/) for useful markdown in Jupyter. When adding images, please be sure to include an alternative description for accessibility purposes.\n",
    "\n",
    "### Data/Image/Video hosting\n",
    "\n",
    "Github is not a good place to store images, data, or other large files for your lesson. Please store them somewhere else (Google Drive, Dropbox, Amazon S3, etc.).\n",
    "\n",
    "### Creating screenshots\n",
    "\n",
    "#### Mac\n",
    "I recommend using command-shift-4 to draw a square around the part of the screen you want to screenshot. I often use [paintbrush](https://paintbrush.sourceforge.io/) for basic editing. For moving images (.gifs), I use command-shift-5 then convert the video using [Gifski](https://github.com/sindresorhus/Gifski). Make sure you use very few frames-per-second because gif file size can get large very quickly.\n",
    "\n",
    "#### Windows\n",
    "I recommend capturing a screenshot using the print-screen key on your keyboard, then pasting into Microsoft Paint. At that point, it is easy to crop just the relevant section.\n",
    "\n",
    "___\n",
    "[Proceed to next lesson: Course Title 2/3 ->](./lesson-2.ipynb)"
   ]
  },
  {
   "cell_type": "markdown",
   "metadata": {},
   "source": [
    "# Exercises (Optional)\n",
    "\n",
    "`If possible, include practice exercises for users to do on their own. These may have clear solutions or be more open-ended.`"
   ]
  },
  {
   "cell_type": "markdown",
   "metadata": {},
   "source": [
    "# Solutions (Optional)\n",
    "`Offer some possible solutions for the practice exercises.`\n"
   ]
  },
  {
   "cell_type": "markdown",
   "metadata": {},
   "source": []
  },
  {
   "cell_type": "markdown",
   "metadata": {},
   "source": [
    "# References (Optional)\n",
    "No citations required but include this if you have cited academic sources. Use whatever format you like, just be consistent. Markdown footnotes are not well-supported in notebooks.[$^{1}$](#1) I suggest using an anchor link with plain html as shown.[$^{2}$](#2)"
   ]
  },
  {
   "cell_type": "markdown",
   "metadata": {},
   "source": [
    "1. <a id=\"1\"></a> Here is an anchor link footnote.\n",
    "2. <a id=\"2\"></a> D'Ignazio, Catherine and Lauren F. Klein. [*Data Feminism*](https://mitpress.mit.edu/books/data-feminism). MIT Press, 2020."
   ]
  }
 ],
 "metadata": {
  "kernelspec": {
   "display_name": "Python 3",
   "language": "python",
   "name": "python3"
  },
  "language_info": {
   "codemirror_mode": {
    "name": "ipython",
    "version": 3
   },
   "file_extension": ".py",
   "mimetype": "text/x-python",
   "name": "python",
   "nbconvert_exporter": "python",
   "pygments_lexer": "ipython3",
   "version": "3.8.5"
  },
  "toc": {
   "base_numbering": 1,
   "nav_menu": {},
   "number_sections": true,
   "sideBar": true,
   "skip_h1_title": false,
   "title_cell": "Table of Contents",
   "title_sidebar": "Contents",
   "toc_cell": false,
   "toc_position": {},
   "toc_section_display": true,
   "toc_window_display": true
  }
 },
 "nbformat": 4,
 "nbformat_minor": 5
}
