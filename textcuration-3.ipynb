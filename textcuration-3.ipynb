{
 "cells": [
  {
   "cell_type": "markdown",
   "id": "b1863aa2",
   "metadata": {},
   "source": [
    "<img align=\"left\" src=\"https://ithaka-labs.s3.amazonaws.com/static-files/images/tdm/tdmdocs/tapi-logo-small.png\" />\n",
    "\n",
    "This notebook free for educational reuse under [Creative Commons CC BY License](https://creativecommons.org/licenses/by/4.0/).\n",
    "\n",
    "Created by [Xanda Schofield](https://www.cs.hmc.edu/~xanda) for the 2022 Text Analysis Pedagogy Institute, with support from the [National Endowment for the Humanities](https://neh.gov), [JSTOR Labs](https://labs.jstor.org/), and [University of Arizona Libraries](https://new.library.arizona.edu/).\n",
    "\n",
    "For questions/comments/improvements, email xanda@cs.hmc.edu.<br />\n",
    "____"
   ]
  },
  {
   "cell_type": "markdown",
   "id": "fbb73582",
   "metadata": {},
   "source": [
    "# Text Data Curation 3\n",
    "\n",
    "This is lesson 3 of 3 in the educational series on Text Data Curation. This notebook is intended to look at how trained models, such as naive Bayes models and topic models, can actually help the text curation process. \n",
    "\n",
    "**Audience:** `Learners` / `Researchers`\n",
    "\n",
    "**Use case:** [`How-To`](https://constellate.org/docs/documentation-categories#howtoproblemoriented) \n",
    "\n",
    "**Difficulty:** `Intermediate`\n",
    "Assumes users are familiar with Python and have been programming for 6+ months. Code makes up a larger part of the notebook and basic concepts related to Python are not explained.\n",
    "\n",
    "**Completion time:** `90 minutes`\n",
    "\n",
    "**Knowledge Required:** \n",
    "* Python basics (variables, flow control, functions, lists, dictionaries)\n",
    "* How Python libraries work (installation and imports)\n",
    "\n",
    "**Knowledge Recommended:**\n",
    "* Basic file operations (open, close, read, write)\n",
    "* How text is stored on computers\n",
    "\n",
    "**Learning Objectives:**\n",
    "After this lesson, learners will be able to:\n",
    "1. Use a lexicon to retrieve interesting documents\n",
    "2. Get a basic scikit-learn classifier running\n",
    "3. Use a simple topic model to check for oddities in a corpus\n",
    "\n",
    "___"
   ]
  },
  {
   "cell_type": "markdown",
   "id": "785b4e29",
   "metadata": {},
   "source": [
    "# Required Python Libraries\n",
    "\n",
    "* `matplotlib`\n",
    "* `nltk`\n",
    "* `numpy`\n",
    "* `seaborn`\n",
    "* `sklearn`\n",
    "\n",
    "## Install Required Libraries"
   ]
  },
  {
   "cell_type": "code",
   "execution_count": null,
   "id": "9d2cce8d",
   "metadata": {},
   "outputs": [],
   "source": [
    "### Install Libraries ###\n",
    "\n",
    "# # Using !pip installs\n",
    "# !pip install spacy\n",
    "# !python -m spacy download en_core_web_sm"
   ]
  },
  {
   "cell_type": "code",
   "execution_count": 1,
   "id": "f1eb2aa9",
   "metadata": {},
   "outputs": [],
   "source": [
    "### Import Libraries ###\n",
    "from collections import Counter\n",
    "import csv\n",
    "import os\n",
    "import urllib.request\n",
    "\n",
    "import matplotlib\n",
    "import seaborn\n",
    "from matplotlib import pyplot as plt\n",
    "from nltk.tokenize import word_tokenize\n",
    "import numpy as np\n",
    "from scipy.stats import spearmanr\n",
    "\n",
    "from sklearn.decomposition import LatentDirichletAllocation\n",
    "from sklearn.feature_extraction.text import CountVectorizer\n",
    "# import spacy"
   ]
  },
  {
   "cell_type": "markdown",
   "id": "4db1a6ae",
   "metadata": {},
   "source": [
    "# Required Data\n",
    "\n",
    "**Data Format:** \n",
    "* comma-separated value (.csv)\n",
    "\n",
    "**Data Source:**\n",
    "* [Rotten Tomatoes Dataset](https://www.kaggle.com/datasets/stefanoleone992/rotten-tomatoes-movies-and-critic-reviews-dataset)\n",
    "\n",
    "\n",
    "## Download Required Data"
   ]
  },
  {
   "cell_type": "code",
   "execution_count": 2,
   "id": "78186209",
   "metadata": {},
   "outputs": [],
   "source": [
    "### Retrieve multiple files using a list ###\n",
    "\n",
    "download_urls = [\n",
    "    'https://cs.hmc.edu/~xanda/data/rotten_tomatoes_critic_reviews_50k.csv',\n",
    "    'https://cs.hmc.edu/~xanda/data/rotten_tomatoes_movies.csv',\n",
    "    'https://cs.hmc.edu/~xanda/data/stoplist_en.txt' # a modification of an English stoplist constructed by David Mimno\n",
    "]\n",
    "\n",
    "for url in download_urls:\n",
    "    urllib.request.urlretrieve(url, url.rsplit('/', 1)[-1])"
   ]
  },
  {
   "cell_type": "markdown",
   "id": "6f11c162",
   "metadata": {},
   "source": [
    "# Introduction\n",
    "\n",
    "```\n",
    "Introduce the lesson topic. Answer questions such as:\n",
    "* Why is it useful? \n",
    "* Why should we learn it? \n",
    "* Who might use it? \n",
    "* Where has it been used by scholars/industry?\n",
    "* What do we need to do it?\n",
    "* What subjects are included in the notebooks?\n",
    "* What is not in this notebook? Where should we look for it?\n",
    "```"
   ]
  },
  {
   "cell_type": "markdown",
   "id": "2a2540b0",
   "metadata": {},
   "source": [
    "# Lesson"
   ]
  },
  {
   "cell_type": "code",
   "execution_count": 3,
   "id": "28ac05e6",
   "metadata": {},
   "outputs": [
    {
     "data": {
      "text/plain": [
       "\"\\nFirst, load in movie review data from RottenTomatoes. Sample will be in a CSV\\nNext, look at data and check features - lengths reasonable? top/bottom features seem normal? Who are our reviewers? What's the fresh vs rotten ratio?\\n+ Develop some hypotheses of things that might cause issues with this data\\nCheck for repeats - should be there (will add some if there aren't)\\nTrain classifier for fresh vs rotten - any obvious features? Find something promising and something weird!\\n+ Specific movie names? (Overrepresent a movie?)\\n+ Unusual features for sentiment?\\nTrain topic model with 5 topics - what do they look like?\\n+ Spot high-frequency unusual features\\n+ Find a weird topic (may need more topics) and look at docs - any sign of why they're together?\\n\\nWhat is the point of this process?\\n+ First, sometimes it's not obvious immediately that something is wrong (ex. unusual feature or copyright text) - that's okay\\n+ Sometimes it's going to be hard to know you need something until you get into it (I need to limit # of each movie) - also okay\\n+ Models fixate on unusual distinguishers so they can actually be good sleuths...so long as you have an evaluation plan afterwards\\n   - Held out test set until the very end\\n   - Human validation (labeling task or comparison task)\\n   \\n   \\nWhat works?\\n+ Keeping a log of choices\\n+ Trying several options at once\\n+ Don't remove stuff unless you have a reason why related to your question\\n+ \\n\""
      ]
     },
     "execution_count": 3,
     "metadata": {},
     "output_type": "execute_result"
    }
   ],
   "source": [
    "\"\"\"\n",
    "First, load in movie review data from RottenTomatoes. Sample will be in a CSV\n",
    "Next, look at data and check features - lengths reasonable? top/bottom features seem normal? Who are our reviewers? What's the fresh vs rotten ratio?\n",
    "+ Develop some hypotheses of things that might cause issues with this data\n",
    "Check for repeats - should be there (will add some if there aren't)\n",
    "Train classifier for fresh vs rotten - any obvious features? Find something promising and something weird!\n",
    "+ Specific movie names? (Overrepresent a movie?)\n",
    "+ Unusual features for sentiment?\n",
    "Train topic model with 5 topics - what do they look like?\n",
    "+ Spot high-frequency unusual features\n",
    "+ Find a weird topic (may need more topics) and look at docs - any sign of why they're together?\n",
    "\n",
    "What is the point of this process?\n",
    "+ First, sometimes it's not obvious immediately that something is wrong (ex. unusual feature or copyright text) - that's okay\n",
    "+ Sometimes it's going to be hard to know you need something until you get into it (I need to limit # of each movie) - also okay\n",
    "+ Models fixate on unusual distinguishers so they can actually be good sleuths...so long as you have an evaluation plan afterwards\n",
    "   - Held out test set until the very end\n",
    "   - Human validation (labeling task or comparison task)\n",
    "   \n",
    "   \n",
    "What works?\n",
    "+ Keeping a log of choices\n",
    "+ Trying several options at once\n",
    "+ Don't remove stuff unless you have a reason why related to your question\n",
    "+ \n",
    "\"\"\""
   ]
  },
  {
   "cell_type": "code",
   "execution_count": 4,
   "id": "d2d8732c",
   "metadata": {},
   "outputs": [],
   "source": [
    "with open(\"rotten_tomatoes_critic_reviews_50k.csv\", encoding='utf-8') as reviews_file:\n",
    "    csvr = csv.DictReader(reviews_file)\n",
    "    review_data = [row for row in csvr]"
   ]
  },
  {
   "cell_type": "code",
   "execution_count": 5,
   "id": "fb3cea03",
   "metadata": {},
   "outputs": [
    {
     "name": "stdout",
     "output_type": "stream",
     "text": [
      "# of reviews: 50000\n",
      "{'rotten_tomatoes_link': 'm/the_king_of_staten_island', 'critic_name': 'Roger Tennis', 'top_critic': 'False', 'publisher_name': 'Cinemaclips.com', 'review_type': 'Fresh', 'review_score': '3.5/5', 'review_date': '2020-06-11', 'review_content': \"SNL's Pete Davidson is a commanding presence in this appealing comedy/drama.\"}\n"
     ]
    }
   ],
   "source": [
    "print(\"# of reviews:\", len(review_data))\n",
    "print(review_data[0])"
   ]
  },
  {
   "cell_type": "code",
   "execution_count": 6,
   "id": "b53e8f25",
   "metadata": {},
   "outputs": [],
   "source": [
    "ID_LINK = 'rotten_tomatoes_link'\n",
    "TYPE = 'review_type'\n",
    "TEXT = 'review_content'"
   ]
  },
  {
   "cell_type": "code",
   "execution_count": 7,
   "id": "52c10f44",
   "metadata": {},
   "outputs": [],
   "source": [
    "with open(\"rotten_tomatoes_movies.csv\", encoding='utf-8') as movies_file:\n",
    "    csvr = csv.DictReader(movies_file)\n",
    "    movie_data = [row for row in csvr]"
   ]
  },
  {
   "cell_type": "code",
   "execution_count": 8,
   "id": "49e00da2",
   "metadata": {},
   "outputs": [
    {
     "name": "stdout",
     "output_type": "stream",
     "text": [
      "# of movies: 17712\n",
      "{'rotten_tomatoes_link': 'm/0814255', 'movie_title': 'Percy Jackson & the Olympians: The Lightning Thief', 'movie_info': \"Always trouble-prone, the life of teenager Percy Jackson (Logan Lerman) gets a lot more complicated when he learns he's the son of the Greek god Poseidon. At a training ground for the children of deities, Percy learns to harness his divine powers and prepare for the adventure of a lifetime: he must prevent a feud among the Olympians from erupting into a devastating war on Earth, and rescue his mother from the clutches of Hades, god of the underworld.\", 'critics_consensus': 'Though it may seem like just another Harry Potter knockoff, Percy Jackson benefits from a strong supporting cast, a speedy plot, and plenty of fun with Greek mythology.', 'content_rating': 'PG', 'genres': 'Action & Adventure, Comedy, Drama, Science Fiction & Fantasy', 'directors': 'Chris Columbus', 'authors': 'Craig Titley, Chris Columbus, Rick Riordan', 'actors': \"Logan Lerman, Brandon T. Jackson, Alexandra Daddario, Jake Abel, Sean Bean, Pierce Brosnan, Steve Coogan, Rosario Dawson, Melina Kanakaredes, Catherine Keener, Kevin Mckidd, Joe Pantoliano, Uma Thurman, Ray Winstone, Julian Richings, Bonita Friedericy, Annie Ilonzeh, Tania Saulnier, Marie Avgeropoulos, Luisa D'Oliveira, Christie Laing, Marielle Jaffe, Elisa King, Chrystal Tisiga, Alexis Knapp, Charlie Gallant, Chelan Simmons, Andrea Brooks, Natassia Malthe, Max Van Ville, Serinda Swan, Dimitri Lekkos, Ona Grauer, Stefanie von Pfetten, Conrad Coates, Erica Cerra, Dylan Neal, Luke Camilleri, Holly Hougham, Ina Geraldine, Raquel Riskin, Yusleidis Oquendo, Janine Edwards, Valerie Tian, Violet Columbus, Sarah Smyth, Merritt Patterson, Julie Luck, Andrea Day, John Stewart, Suzanne Ristic, Deejay Jackson, Matthew Garrick, Stan Carp, Suzanna Ristic, Richard Harmon, Maria Olsen, Robin Lemon, Doyle Devereux, Tom Pickett, VJ Delos-Reyes, Tim Aas, Keith Dallas, Spencer Atkinson, Maya Washington, Loyd Bateman, Victor Ayala, Zane Holtz, Eli Zagoudakis, Matt Reimer, Rob Hayter, Lloyd Bateman, Shawn Beaton, Jarod Joseph, Reilly Dolman, Paul Cummings, Julie Brar, Dejan Loyola, Damian Arman, Mario Casoria, Dorla Bell, Carolyn Adair (II), Jade Pawluk, G. Patrick Currie, Darian Arman, Mariela Zapata, David L. Smith\", 'original_release_date': '2010-02-12', 'streaming_release_date': '2015-11-25', 'runtime': '119', 'production_company': '20th Century Fox', 'tomatometer_status': 'Rotten', 'tomatometer_rating': '49', 'tomatometer_count': '149', 'audience_status': 'Spilled', 'audience_rating': '53', 'audience_count': '254421', 'tomatometer_top_critics_count': '43', 'tomatometer_fresh_critics_count': '73', 'tomatometer_rotten_critics_count': '76'}\n"
     ]
    }
   ],
   "source": [
    "print(\"# of movies:\", len(movie_data))\n",
    "print(movie_data[0])"
   ]
  },
  {
   "cell_type": "code",
   "execution_count": 9,
   "id": "25233731",
   "metadata": {},
   "outputs": [],
   "source": [
    "movie_lookup = {md[ID_LINK]: md for md in movie_data}"
   ]
  },
  {
   "cell_type": "code",
   "execution_count": 10,
   "id": "f9c38861",
   "metadata": {},
   "outputs": [
    {
     "data": {
      "text/plain": [
       "{'rotten_tomatoes_link': 'm/0814255',\n",
       " 'movie_title': 'Percy Jackson & the Olympians: The Lightning Thief',\n",
       " 'movie_info': \"Always trouble-prone, the life of teenager Percy Jackson (Logan Lerman) gets a lot more complicated when he learns he's the son of the Greek god Poseidon. At a training ground for the children of deities, Percy learns to harness his divine powers and prepare for the adventure of a lifetime: he must prevent a feud among the Olympians from erupting into a devastating war on Earth, and rescue his mother from the clutches of Hades, god of the underworld.\",\n",
       " 'critics_consensus': 'Though it may seem like just another Harry Potter knockoff, Percy Jackson benefits from a strong supporting cast, a speedy plot, and plenty of fun with Greek mythology.',\n",
       " 'content_rating': 'PG',\n",
       " 'genres': 'Action & Adventure, Comedy, Drama, Science Fiction & Fantasy',\n",
       " 'directors': 'Chris Columbus',\n",
       " 'authors': 'Craig Titley, Chris Columbus, Rick Riordan',\n",
       " 'actors': \"Logan Lerman, Brandon T. Jackson, Alexandra Daddario, Jake Abel, Sean Bean, Pierce Brosnan, Steve Coogan, Rosario Dawson, Melina Kanakaredes, Catherine Keener, Kevin Mckidd, Joe Pantoliano, Uma Thurman, Ray Winstone, Julian Richings, Bonita Friedericy, Annie Ilonzeh, Tania Saulnier, Marie Avgeropoulos, Luisa D'Oliveira, Christie Laing, Marielle Jaffe, Elisa King, Chrystal Tisiga, Alexis Knapp, Charlie Gallant, Chelan Simmons, Andrea Brooks, Natassia Malthe, Max Van Ville, Serinda Swan, Dimitri Lekkos, Ona Grauer, Stefanie von Pfetten, Conrad Coates, Erica Cerra, Dylan Neal, Luke Camilleri, Holly Hougham, Ina Geraldine, Raquel Riskin, Yusleidis Oquendo, Janine Edwards, Valerie Tian, Violet Columbus, Sarah Smyth, Merritt Patterson, Julie Luck, Andrea Day, John Stewart, Suzanne Ristic, Deejay Jackson, Matthew Garrick, Stan Carp, Suzanna Ristic, Richard Harmon, Maria Olsen, Robin Lemon, Doyle Devereux, Tom Pickett, VJ Delos-Reyes, Tim Aas, Keith Dallas, Spencer Atkinson, Maya Washington, Loyd Bateman, Victor Ayala, Zane Holtz, Eli Zagoudakis, Matt Reimer, Rob Hayter, Lloyd Bateman, Shawn Beaton, Jarod Joseph, Reilly Dolman, Paul Cummings, Julie Brar, Dejan Loyola, Damian Arman, Mario Casoria, Dorla Bell, Carolyn Adair (II), Jade Pawluk, G. Patrick Currie, Darian Arman, Mariela Zapata, David L. Smith\",\n",
       " 'original_release_date': '2010-02-12',\n",
       " 'streaming_release_date': '2015-11-25',\n",
       " 'runtime': '119',\n",
       " 'production_company': '20th Century Fox',\n",
       " 'tomatometer_status': 'Rotten',\n",
       " 'tomatometer_rating': '49',\n",
       " 'tomatometer_count': '149',\n",
       " 'audience_status': 'Spilled',\n",
       " 'audience_rating': '53',\n",
       " 'audience_count': '254421',\n",
       " 'tomatometer_top_critics_count': '43',\n",
       " 'tomatometer_fresh_critics_count': '73',\n",
       " 'tomatometer_rotten_critics_count': '76'}"
      ]
     },
     "execution_count": 10,
     "metadata": {},
     "output_type": "execute_result"
    }
   ],
   "source": [
    "movie_lookup['m/0814255']"
   ]
  },
  {
   "cell_type": "code",
   "execution_count": 11,
   "id": "6ec1d8da",
   "metadata": {},
   "outputs": [
    {
     "name": "stdout",
     "output_type": "stream",
     "text": [
      "m/star_wars_episode_vii_the_force_awakens 48\n",
      "m/solo_a_star_wars_story 46\n",
      "m/suicide_squad_2016 45\n",
      "m/star_wars_the_rise_of_skywalker 44\n",
      "m/spider_man_far_from_home 43\n",
      "m/spider_man_homecoming 42\n",
      "m/ready_player_one 42\n",
      "m/shazam 42\n",
      "m/spotlight_2015 41\n",
      "m/star_wars_the_last_jedi 41\n",
      "m/ready_or_not_2019 37\n",
      "m/star_wars_episode_iii_revenge_of_the_sith 37\n",
      "m/roma_2018 36\n",
      "m/spider_man_into_the_spider_verse 36\n",
      "m/star_trek_11 35\n",
      "m/rocketman_2019 34\n",
      "m/room_2015 34\n",
      "m/split_2017 33\n",
      "m/red_sparrow 33\n",
      "m/sully 33\n",
      "m/rogue_one_a_star_wars_story 31\n",
      "m/sin_city 31\n",
      "m/prometheus_2012 31\n",
      "m/steve_jobs_2015 30\n",
      "m/joker_2019 29\n",
      "m/skyfall 29\n",
      "m/prisoners_2013 29\n",
      "m/shrek_3 29\n",
      "m/richard_jewell 28\n",
      "m/super_8 28\n",
      "m/slumdog_millionaire 28\n",
      "m/spiderman_2 28\n",
      "m/son_of_saul 28\n",
      "m/scott_pilgrims_vs_the_world 28\n",
      "m/san_andreas 27\n",
      "m/star_trek_beyond 27\n",
      "m/silver_linings_playbook 27\n",
      "m/prince_of_persia_sands_of_time 26\n",
      "m/sicario_2015 26\n",
      "m/side_effects_2013 26\n",
      "m/once_upon_a_time_in_hollywood 26\n",
      "m/snowden 26\n",
      "m/avengers_endgame 26\n",
      "m/sideways 26\n",
      "m/sonic_the_hedgehog_2020 25\n",
      "m/a_star_is_born_2018 25\n",
      "m/red_dragon 25\n",
      "m/sorry_to_bother_you_2018 25\n",
      "m/rise_of_the_planet_of_the_apes 25\n",
      "m/shrek_2 25\n",
      "m/spectre_2015 25\n",
      "m/snowpiercer 25\n",
      "m/spiderman 25\n",
      "m/12_years_a_slave 24\n",
      "m/spiderman_3 24\n",
      "m/the_lion_king_2019 24\n",
      "m/captain_marvel 24\n",
      "m/sunshine 24\n",
      "m/speed_racer 24\n",
      "m/saving_mr_banks_2013 23\n",
      "m/seven_psychopaths 23\n",
      "m/star_trek_into_darkness 23\n",
      "m/yesterday_2019 23\n",
      "m/portrait_of_a_lady_on_fire 23\n",
      "m/spy_2015 23\n",
      "m/selma 23\n",
      "m/stuber 23\n",
      "m/snow_white_and_the_huntsman 23\n",
      "m/beauty_and_the_beast_2017 23\n",
      "m/suburbicon 23\n",
      "m/oceans_8 23\n",
      "m/shame_2011 23\n",
      "m/lady_bird 23\n",
      "m/arrival_2016 23\n",
      "m/blade_runner_2049 23\n",
      "m/midsommar 22\n",
      "m/guardians_of_the_galaxy 22\n",
      "m/skyscraper_2018 22\n",
      "m/the_lego_movie_2_the_second_part 22\n",
      "m/blackkklansman 22\n",
      "m/t2_trainspotting 22\n",
      "m/somewhere_2010 22\n",
      "m/birds_of_prey_2020 22\n",
      "m/soloist 22\n",
      "m/get_out 22\n",
      "m/dunkirk_2017 22\n",
      "m/bohemian_rhapsody 22\n",
      "m/sixth_sense 22\n",
      "m/possession 22\n",
      "m/knives_out 22\n",
      "m/rock_of_ages_2012 21\n",
      "m/glass_2019 21\n",
      "m/shaun_of_the_dead 21\n",
      "m/moonlight_2016 21\n",
      "m/1917_2019 21\n",
      "m/district_9 21\n",
      "m/superman_man_of_steel 21\n",
      "m/toy_story_4 21\n",
      "m/us_2019 21\n",
      "m/star_wars_episode_i_the_phantom_menace 21\n"
     ]
    }
   ],
   "source": [
    "num_reviews_by_movie = Counter(rd[ID_LINK] for rd in review_data)\n",
    "top_movies = num_reviews_by_movie.most_common()\n",
    "for movie_title, count in top_movies[:100]:\n",
    "    print(movie_title, count)"
   ]
  },
  {
   "cell_type": "code",
   "execution_count": 12,
   "id": "1eadae16",
   "metadata": {},
   "outputs": [],
   "source": [
    "comedy_ids = set([m[ID_LINK] for m in movie_data if 'Comedy' in m['genres']])"
   ]
  },
  {
   "cell_type": "code",
   "execution_count": 13,
   "id": "b759c7ec",
   "metadata": {
    "scrolled": true
   },
   "outputs": [
    {
     "name": "stdout",
     "output_type": "stream",
     "text": [
      "[('Comedy', 1263), ('Comedy, Drama', 863), ('Comedy, Drama, Romance', 312), ('Comedy, Romance', 273), ('Art House & International, Comedy, Drama', 268), ('Action & Adventure, Comedy', 180), ('Comedy, Kids & Family', 125), ('Comedy, Horror', 96), ('Art House & International, Comedy', 93), ('Action & Adventure, Comedy, Drama', 87), ('Comedy, Drama, Mystery & Suspense', 81), ('Comedy, Science Fiction & Fantasy', 66), ('Animation, Comedy, Kids & Family', 65), ('Art House & International, Comedy, Drama, Romance', 63), ('Classics, Comedy, Drama', 61), ('Classics, Comedy', 59), ('Action & Adventure, Comedy, Science Fiction & Fantasy', 55), ('Comedy, Drama, Musical & Performing Arts', 49), ('Classics, Comedy, Drama, Romance', 46), ('Comedy, Mystery & Suspense', 42), ('Classics, Comedy, Romance', 42), ('Comedy, Musical & Performing Arts', 40), ('Action & Adventure, Animation, Comedy, Kids & Family', 40), ('Action & Adventure, Comedy, Kids & Family', 38), ('Comedy, Drama, Kids & Family', 36), ('Comedy, Horror, Science Fiction & Fantasy', 35), ('Comedy, Drama, Science Fiction & Fantasy', 34), ('Action & Adventure, Comedy, Mystery & Suspense', 32), ('Comedy, Kids & Family, Science Fiction & Fantasy', 31), ('Classics, Comedy, Musical & Performing Arts, Romance', 29), ('Action & Adventure, Comedy, Drama, Mystery & Suspense', 28), ('Action & Adventure, Art House & International, Comedy', 25), ('Art House & International, Comedy, Drama, Mystery & Suspense', 22), ('Animation, Comedy', 21), ('Art House & International, Comedy, Romance', 20), ('Comedy, Documentary', 19), ('Action & Adventure, Comedy, Kids & Family, Science Fiction & Fantasy', 18), ('Classics, Comedy, Musical & Performing Arts', 18), ('Comedy, Documentary, Special Interest', 18), ('Action & Adventure, Animation, Comedy', 18), ('Comedy, Horror, Mystery & Suspense', 17), ('Classics, Comedy, Drama, Musical & Performing Arts', 14), ('Action & Adventure, Comedy, Horror', 14), ('Action & Adventure, Comedy, Romance', 14), ('Comedy, Television', 14), ('Comedy, Musical & Performing Arts, Romance', 14), ('Art House & International, Comedy, Horror', 14), ('Action & Adventure, Art House & International, Comedy, Drama, Mystery & Suspense', 13), ('Art House & International, Comedy, Drama, Musical & Performing Arts', 12), ('Classics, Comedy, Western', 12), ('Comedy, Drama, Musical & Performing Arts, Romance', 12), ('Action & Adventure, Comedy, Drama, Romance', 11), ('Comedy, Drama, Special Interest', 11), ('Comedy, Science Fiction & Fantasy, Romance', 11), ('Comedy, Drama, Gay & Lesbian', 11), ('Action & Adventure, Animation, Comedy, Kids & Family, Science Fiction & Fantasy', 11), ('Comedy, Kids & Family, Television', 10), ('Comedy, Drama, Science Fiction & Fantasy, Romance', 10), ('Action & Adventure, Classics, Comedy, Drama', 10), ('Classics, Comedy, Drama, Musical & Performing Arts, Romance', 10), ('Comedy, Drama, Sports & Fitness', 9), ('Animation, Comedy, Drama', 9), ('Animation, Comedy, Kids & Family, Science Fiction & Fantasy', 9), ('Action & Adventure, Comedy, Drama, Kids & Family', 9), ('Comedy, Special Interest', 9), ('Comedy, Gay & Lesbian', 8), ('Action & Adventure, Art House & International, Comedy, Drama', 8), ('Comedy, Documentary, Drama, Special Interest', 8), ('Classics, Comedy, Drama, Mystery & Suspense', 8), ('Comedy, Documentary, Television', 7), ('Comedy, Kids & Family, Romance', 7), ('Art House & International, Comedy, Drama, Special Interest', 7), ('Action & Adventure, Comedy, Horror, Science Fiction & Fantasy', 7), ('Comedy, Drama, Television', 7), ('Action & Adventure, Classics, Comedy, Drama, Mystery & Suspense', 7), ('Action & Adventure, Comedy, Western', 7), ('Comedy, Documentary, Musical & Performing Arts', 7), ('Action & Adventure, Comedy, Kids & Family, Mystery & Suspense', 7), ('Comedy, Documentary, Special Interest, Television', 6), ('Action & Adventure, Comedy, Mystery & Suspense, Science Fiction & Fantasy', 6), ('Art House & International, Classics, Comedy, Drama, Romance', 6), ('Action & Adventure, Comedy, Drama, Science Fiction & Fantasy', 6), ('Classics, Comedy, Drama, Science Fiction & Fantasy', 6), ('Comedy, Drama, Horror', 6), ('Art House & International, Comedy, Drama, Musical & Performing Arts, Romance', 6), ('Classics, Comedy, Kids & Family', 6), ('Comedy, Drama, Kids & Family, Science Fiction & Fantasy', 6), ('Comedy, Drama, Romance, Gay & Lesbian', 6), ('Art House & International, Comedy, Drama, Science Fiction & Fantasy', 6), ('Art House & International, Comedy, Mystery & Suspense', 5), ('Action & Adventure, Classics, Comedy', 5), ('Comedy, Drama, Horror, Mystery & Suspense', 5), ('Classics, Comedy, Mystery & Suspense', 5), ('Comedy, Western', 5), ('Classics, Comedy, Horror, Science Fiction & Fantasy', 5), ('Art House & International, Comedy, Science Fiction & Fantasy', 4), ('Art House & International, Classics, Comedy, Drama', 4), ('Classics, Comedy, Drama, Kids & Family, Musical & Performing Arts', 4), ('Comedy, Sports & Fitness', 4), ('Comedy, Special Interest, Romance', 4), ('Art House & International, Comedy, Musical & Performing Arts', 4), ('Classics, Comedy, Science Fiction & Fantasy', 4), ('Art House & International, Comedy, Documentary, Drama, Special Interest', 4), ('Action & Adventure, Art House & International, Comedy, Drama, Romance', 4), ('Comedy, Musical & Performing Arts, Science Fiction & Fantasy', 4), ('Comedy, Drama, Mystery & Suspense, Science Fiction & Fantasy', 4), ('Art House & International, Comedy, Drama, Kids & Family', 4), ('Action & Adventure, Art House & International, Comedy, Horror', 4), ('Art House & International, Comedy, Drama, Science Fiction & Fantasy, Romance', 4), ('Action & Adventure, Classics, Comedy, Drama, Romance', 4), ('Classics, Comedy, Kids & Family, Science Fiction & Fantasy', 4), ('Art House & International, Comedy, Science Fiction & Fantasy, Romance', 4), ('Comedy, Documentary, Musical & Performing Arts, Special Interest', 4), ('Comedy, Horror, Mystery & Suspense, Science Fiction & Fantasy', 4), ('Comedy, Kids & Family, Musical & Performing Arts', 4), ('Action & Adventure, Animation, Comedy, Science Fiction & Fantasy', 4), ('Comedy, Horror, Musical & Performing Arts', 4), ('Comedy, Horror, Romance', 4), ('Animation, Comedy, Kids & Family, Musical & Performing Arts', 3), ('Comedy, Mystery & Suspense, Romance', 3), ('Action & Adventure, Comedy, Horror, Mystery & Suspense', 3), ('Classics, Comedy, Kids & Family, Musical & Performing Arts', 3), ('Comedy, Kids & Family, Special Interest', 3), ('Classics, Comedy, Musical & Performing Arts, Western', 3), ('Comedy, Cult Movies', 3), ('Art House & International, Comedy, Musical & Performing Arts, Romance', 3), ('Action & Adventure, Comedy, Kids & Family, Romance', 3), ('Action & Adventure, Art House & International, Comedy, Romance', 3), ('Action & Adventure, Classics, Comedy, Kids & Family, Science Fiction & Fantasy', 3), ('Animation, Comedy, Drama, Kids & Family', 3), ('Comedy, Drama, Kids & Family, Romance', 3), ('Action & Adventure, Comedy, Cult Movies', 3), ('Action & Adventure, Comedy, Kids & Family, Musical & Performing Arts', 3), ('Comedy, Mystery & Suspense, Science Fiction & Fantasy', 3), ('Classics, Comedy, Drama, Science Fiction & Fantasy, Romance', 3), ('Animation, Comedy, Kids & Family, Special Interest', 3), ('Art House & International, Comedy, Drama, Mystery & Suspense, Romance', 3), ('Action & Adventure, Art House & International, Comedy, Mystery & Suspense', 3), ('Action & Adventure, Animation, Art House & International, Comedy', 3), ('Comedy, Drama, Kids & Family, Musical & Performing Arts', 3), ('Art House & International, Classics, Comedy, Drama, Science Fiction & Fantasy', 2), ('Comedy, Cult Movies, Drama', 2), ('Classics, Comedy, Drama, Mystery & Suspense, Romance', 2), ('Comedy, Science Fiction & Fantasy, Special Interest', 2), ('Action & Adventure, Comedy, Drama, Musical & Performing Arts', 2), ('Action & Adventure, Animation, Comedy, Drama, Kids & Family', 2), ('Classics, Comedy, Horror, Mystery & Suspense', 2), ('Action & Adventure, Classics, Comedy, Kids & Family', 2), ('Action & Adventure, Art House & International, Comedy, Mystery & Suspense, Science Fiction & Fantasy', 2), ('Classics, Comedy, Horror', 2), ('Comedy, Musical & Performing Arts, Gay & Lesbian', 2), ('Action & Adventure, Comedy, Mystery & Suspense, Romance', 2), ('Action & Adventure, Comedy, Documentary', 2), ('Comedy, Drama, Musical & Performing Arts, Special Interest', 2), ('Comedy, Horror, Kids & Family', 2), ('Action & Adventure, Classics, Comedy, Western', 2), ('Comedy, Drama, Western', 2), ('Action & Adventure, Art House & International, Classics, Comedy', 2), ('Art House & International, Comedy, Kids & Family, Science Fiction & Fantasy', 2), ('Classics, Comedy, Musical & Performing Arts, Western, Romance', 2), ('Animation, Art House & International, Comedy, Drama', 2), ('Action & Adventure, Comedy, Drama, Mystery & Suspense, Romance', 2), ('Comedy, Documentary, Special Interest, Sports & Fitness', 2), ('Art House & International, Comedy, Special Interest', 2), ('Action & Adventure, Comedy, Drama, Western', 2), ('Animation, Art House & International, Comedy', 2), ('Comedy, Drama, Musical & Performing Arts, Mystery & Suspense', 2), ('Comedy, Documentary, Science Fiction & Fantasy, Special Interest', 2), ('Art House & International, Comedy, Documentary, Drama', 2), ('Action & Adventure, Comedy, Cult Movies, Western', 2), ('Comedy, Romance, Gay & Lesbian', 2), ('Comedy, Drama, Kids & Family, Sports & Fitness', 2), ('Action & Adventure, Art House & International, Comedy, Drama, Musical & Performing Arts, Romance', 2), ('Action & Adventure, Classics, Comedy, Drama, Mystery & Suspense, Romance', 2), ('Animation, Comedy, Science Fiction & Fantasy', 2), ('Action & Adventure, Classics, Comedy, Drama, Musical & Performing Arts', 2), ('Classics, Comedy, Kids & Family, Musical & Performing Arts, Science Fiction & Fantasy', 2), ('Action & Adventure, Classics, Comedy, Horror', 2), ('Art House & International, Comedy, Drama, Romance, Gay & Lesbian', 2), ('Comedy, Drama, Mystery & Suspense, Romance', 2), ('Classics, Comedy, Drama, Horror, Mystery & Suspense', 2), ('Action & Adventure, Art House & International, Comedy, Drama, Horror', 2), ('Action & Adventure, Classics, Comedy, Western, Romance', 2), ('Action & Adventure, Art House & International, Comedy, Documentary, Drama', 2), ('Animation, Art House & International, Comedy, Kids & Family', 2), ('Art House & International, Comedy, Drama, Television', 2), ('Art House & International, Comedy, Drama, Horror', 2), ('Action & Adventure, Comedy, Kids & Family, Television', 2), ('Comedy, Musical & Performing Arts, Mystery & Suspense, Science Fiction & Fantasy', 2), ('Art House & International, Classics, Comedy, Musical & Performing Arts', 2), ('Classics, Comedy, Drama, Kids & Family', 2), ('Comedy, Cult Movies, Horror, Science Fiction & Fantasy', 2), ('Art House & International, Comedy, Drama, Sports & Fitness', 2), ('Classics, Comedy, Drama, Musical & Performing Arts, Science Fiction & Fantasy', 2), ('Animation, Art House & International, Comedy, Drama, Science Fiction & Fantasy', 2), ('Art House & International, Comedy, Horror, Science Fiction & Fantasy', 2), ('Action & Adventure, Classics, Comedy, Mystery & Suspense', 2), ('Comedy, Drama, Kids & Family, Television', 2), ('Action & Adventure, Classics, Comedy, Drama, Musical & Performing Arts, Science Fiction & Fantasy, Romance', 1), ('Comedy, Documentary, Faith & Spirituality', 1), ('Classics, Comedy, Drama, Kids & Family, Romance', 1), ('Action & Adventure, Classics, Comedy, Drama, Musical & Performing Arts, Mystery & Suspense', 1), ('Art House & International, Comedy, Documentary, Drama, Kids & Family, Special Interest', 1), ('Comedy, Documentary, Horror', 1), ('Comedy, Drama, Kids & Family, Mystery & Suspense', 1), ('Action & Adventure, Comedy, Documentary, Musical & Performing Arts', 1), ('Action & Adventure, Art House & International, Comedy, Kids & Family', 1), ('Classics, Comedy, Cult Movies, Horror, Mystery & Suspense', 1), ('Comedy, Musical & Performing Arts, Special Interest', 1), ('Action & Adventure, Animation, Comedy, Drama', 1), ('Art House & International, Comedy, Television, Romance', 1), ('Art House & International, Comedy, Drama, Horror, Science Fiction & Fantasy', 1), ('Classics, Comedy, Cult Movies, Documentary, Drama', 1), ('Animation, Comedy, Kids & Family, Faith & Spirituality', 1), ('Classics, Comedy, Cult Movies, Horror, Musical & Performing Arts', 1), ('Comedy, Cult Movies, Drama, Mystery & Suspense, Science Fiction & Fantasy', 1), ('Action & Adventure, Animation, Comedy, Kids & Family, Musical & Performing Arts', 1), ('Animation, Art House & International, Comedy, Kids & Family, Mystery & Suspense', 1), ('Action & Adventure, Comedy, Cult Movies, Drama, Musical & Performing Arts', 1), ('Classics, Comedy, Drama, Kids & Family, Musical & Performing Arts, Science Fiction & Fantasy', 1), ('Art House & International, Comedy, Western', 1), ('Action & Adventure, Classics, Comedy, Science Fiction & Fantasy', 1), ('Art House & International, Comedy, Drama, Kids & Family, Romance', 1), ('Comedy, Documentary, Kids & Family, Special Interest', 1), ('Comedy, Horror, Kids & Family, Mystery & Suspense', 1), ('Comedy, Cult Movies, Horror, Mystery & Suspense, Science Fiction & Fantasy', 1), ('Action & Adventure, Art House & International, Comedy, Musical & Performing Arts, Mystery & Suspense, Romance', 1), ('Art House & International, Comedy, Drama, Musical & Performing Arts, Special Interest', 1), ('Comedy, Drama, Faith & Spirituality', 1), ('Classics, Comedy, Documentary, Sports & Fitness', 1), ('Action & Adventure, Comedy, Kids & Family, Mystery & Suspense, Science Fiction & Fantasy', 1), ('Comedy, Television, Romance', 1), ('Animation, Classics, Comedy, Horror, Kids & Family', 1), ('Action & Adventure, Art House & International, Comedy, Science Fiction & Fantasy', 1), ('Classics, Comedy, Drama, Mystery & Suspense, Science Fiction & Fantasy, Romance', 1), ('Animation, Comedy, Kids & Family, Musical & Performing Arts, Television', 1), ('Classics, Comedy, Musical & Performing Arts, Science Fiction & Fantasy', 1), ('Animation, Classics, Comedy, Kids & Family, Musical & Performing Arts, Television', 1), ('Animation, Classics, Comedy, Kids & Family', 1), ('Art House & International, Comedy, Kids & Family', 1), ('Action & Adventure, Animation, Art House & International, Comedy, Science Fiction & Fantasy', 1), ('Action & Adventure, Art House & International, Comedy, Special Interest', 1), ('Action & Adventure, Classics, Comedy, Kids & Family, Romance', 1), ('Action & Adventure, Comedy, Kids & Family, Science Fiction & Fantasy, Television', 1), ('Art House & International, Comedy, Drama, Kids & Family, Musical & Performing Arts, Romance', 1), ('Art House & International, Classics, Comedy', 1), ('Action & Adventure, Classics, Comedy, Drama, Musical & Performing Arts, Western, Romance', 1), ('Action & Adventure, Animation, Classics, Comedy, Kids & Family, Musical & Performing Arts', 1), ('Action & Adventure, Comedy, Sports & Fitness', 1), ('Animation, Comedy, Horror, Science Fiction & Fantasy', 1), ('Art House & International, Comedy, Drama, Science Fiction & Fantasy, Special Interest', 1), ('Animation, Comedy, Musical & Performing Arts', 1), ('Action & Adventure, Animation, Comedy, Kids & Family, Mystery & Suspense', 1), ('Comedy, Documentary, Drama, Romance, Gay & Lesbian', 1), ('Classics, Comedy, Drama, Science Fiction & Fantasy, Romance, Faith & Spirituality', 1), ('Action & Adventure, Comedy, Drama, Horror', 1), ('Comedy, Cult Movies, Documentary, Drama, Musical & Performing Arts, Special Interest', 1), ('Comedy, Musical & Performing Arts, Sports & Fitness', 1), ('Comedy, Documentary, Drama, Special Interest, Romance', 1), ('Action & Adventure, Comedy, Drama, Musical & Performing Arts, Romance', 1), ('Art House & International, Classics, Comedy, Drama, Musical & Performing Arts, Science Fiction & Fantasy, Romance', 1), ('Classics, Comedy, Cult Movies, Horror', 1), ('Art House & International, Comedy, Romance, Gay & Lesbian', 1), ('Action & Adventure, Art House & International, Comedy, Drama, Gay & Lesbian', 1), ('Classics, Comedy, Musical & Performing Arts, Special Interest, Romance', 1), ('Action & Adventure, Comedy, Drama, Kids & Family, Science Fiction & Fantasy', 1), ('Action & Adventure, Comedy, Kids & Family, Science Fiction & Fantasy, Romance', 1), ('Action & Adventure, Animation, Classics, Comedy, Kids & Family', 1), ('Action & Adventure, Art House & International, Comedy, Drama, Science Fiction & Fantasy', 1), ('Art House & International, Comedy, Documentary, Drama, Special Interest, Faith & Spirituality', 1), ('Classics, Comedy, Cult Movies, Horror, Musical & Performing Arts, Science Fiction & Fantasy', 1), ('Art House & International, Comedy, Drama, Television, Romance', 1), ('Classics, Comedy, Kids & Family, Television', 1), ('Animation, Comedy, Science Fiction & Fantasy, Television', 1), ('Comedy, Horror, Kids & Family, Mystery & Suspense, Science Fiction & Fantasy', 1), ('Art House & International, Classics, Comedy, Horror, Science Fiction & Fantasy', 1), ('Animation, Comedy, Drama, Kids & Family, Musical & Performing Arts', 1), ('Classics, Comedy, Drama, Western, Romance', 1), ('Comedy, Documentary, Drama, Musical & Performing Arts', 1), ('Animation, Comedy, Kids & Family, Musical & Performing Arts, Science Fiction & Fantasy, Romance', 1), ('Action & Adventure, Classics, Comedy, Cult Movies, Science Fiction & Fantasy', 1), ('Art House & International, Comedy, Musical & Performing Arts, Sports & Fitness', 1), ('Action & Adventure, Comedy, Musical & Performing Arts', 1), ('Action & Adventure, Comedy, Horror, Romance', 1), ('Action & Adventure, Comedy, Horror, Science Fiction & Fantasy, Special Interest', 1), ('Comedy, Musical & Performing Arts, Western', 1), ('Classics, Comedy, Drama, Sports & Fitness', 1), ('Action & Adventure, Animation, Comedy, Cult Movies, Kids & Family, Musical & Performing Arts, Science Fiction & Fantasy', 1), ('Comedy, Musical & Performing Arts, Television', 1), ('Comedy, Documentary, Drama, Television', 1), ('Animation, Comedy, Musical & Performing Arts, Special Interest', 1), ('Action & Adventure, Art House & International, Classics, Comedy, Cult Movies, Horror, Science Fiction & Fantasy', 1), ('Comedy, Horror, Kids & Family, Science Fiction & Fantasy', 1), ('Comedy, Drama, Romance, Gay & Lesbian, Sports & Fitness', 1), ('Art House & International, Comedy, Science Fiction & Fantasy, Special Interest', 1), ('Comedy, Drama, Horror, Special Interest', 1), ('Animation, Comedy, Documentary, Drama, Special Interest, Romance', 1), ('Classics, Comedy, Drama, Musical & Performing Arts, Mystery & Suspense', 1), ('Action & Adventure, Art House & International, Classics, Comedy, Documentary, Drama', 1), ('Action & Adventure, Comedy, Cult Movies, Mystery & Suspense', 1), ('Classics, Comedy, Kids & Family, Mystery & Suspense', 1), ('Art House & International, Comedy, Cult Movies, Drama, Mystery & Suspense', 1), ('Animation, Classics, Comedy, Kids & Family, Mystery & Suspense', 1), ('Comedy, Drama, Horror, Science Fiction & Fantasy', 1), ('Comedy, Musical & Performing Arts, Television, Romance', 1), ('Comedy, Science Fiction & Fantasy, Special Interest, Romance', 1), ('Action & Adventure, Comedy, Drama, Kids & Family, Mystery & Suspense', 1), ('Art House & International, Comedy, Drama, Romance, Sports & Fitness', 1), ('Animation, Classics, Comedy, Kids & Family, Musical & Performing Arts, Science Fiction & Fantasy', 1), ('Action & Adventure, Comedy, Drama, Musical & Performing Arts, Romance, Gay & Lesbian', 1), ('Action & Adventure, Comedy, Drama, Horror, Mystery & Suspense, Science Fiction & Fantasy, Romance', 1), ('Animation, Classics, Comedy, Kids & Family, Special Interest', 1), ('Action & Adventure, Animation, Comedy, Kids & Family, Musical & Performing Arts, Romance', 1), ('Action & Adventure, Classics, Comedy, Kids & Family, Musical & Performing Arts, Science Fiction & Fantasy', 1), ('Comedy, Science Fiction & Fantasy, Romance, Sports & Fitness', 1), ('Comedy, Drama, Kids & Family, Musical & Performing Arts, Television', 1), ('Action & Adventure, Comedy, Musical & Performing Arts, Science Fiction & Fantasy', 1), ('Animation, Comedy, Kids & Family, Musical & Performing Arts, Romance', 1), ('Comedy, Kids & Family, Musical & Performing Arts, Television, Romance', 1), ('Action & Adventure, Classics, Comedy, Drama, Kids & Family, Special Interest', 1), ('Action & Adventure, Comedy, Special Interest', 1), ('Comedy, Documentary, Special Interest, Television, Sports & Fitness', 1), ('Action & Adventure, Animation, Comedy, Drama, Kids & Family, Science Fiction & Fantasy', 1), ('Action & Adventure, Comedy, Kids & Family, Musical & Performing Arts, Science Fiction & Fantasy', 1), ('Action & Adventure, Art House & International, Comedy, Cult Movies, Drama', 1), ('Comedy, Documentary, Kids & Family', 1), ('Action & Adventure, Animation, Comedy, Drama, Kids & Family, Musical & Performing Arts', 1), ('Comedy, Drama, Mystery & Suspense, Sports & Fitness', 1), ('Action & Adventure, Classics, Comedy, Musical & Performing Arts', 1), ('Art House & International, Comedy, Horror, Science Fiction & Fantasy, Special Interest', 1), ('Action & Adventure, Comedy, Kids & Family, Special Interest', 1), ('Comedy, Horror, Mystery & Suspense, Television', 1), ('Comedy, Documentary, Drama', 1), ('Animation, Art House & International, Comedy, Drama, Kids & Family, Science Fiction & Fantasy', 1), ('Action & Adventure, Comedy, Drama, Science Fiction & Fantasy, Television', 1), ('Classics, Comedy, Kids & Family, Western', 1), ('Art House & International, Comedy, Musical & Performing Arts, Science Fiction & Fantasy, Television, Romance', 1), ('Action & Adventure, Classics, Comedy, Musical & Performing Arts, Romance', 1), ('Comedy, Kids & Family, Science Fiction & Fantasy, Romance', 1), ('Animation, Comedy, Drama, Science Fiction & Fantasy', 1), ('Classics, Comedy, Drama, Western', 1), ('Action & Adventure, Art House & International, Comedy, Drama, Kids & Family', 1), ('Classics, Comedy, Drama, Kids & Family, Science Fiction & Fantasy', 1), ('Art House & International, Comedy, Drama, Horror, Musical & Performing Arts', 1), ('Art House & International, Comedy, Cult Movies, Musical & Performing Arts', 1), ('Comedy, Documentary, Drama, Kids & Family, Faith & Spirituality', 1), ('Art House & International, Comedy, Gay & Lesbian', 1), ('Classics, Comedy, Special Interest', 1), ('Comedy, Kids & Family, Western', 1), ('Comedy, Mystery & Suspense, Science Fiction & Fantasy, Romance', 1), ('Comedy, Drama, Horror, Mystery & Suspense, Science Fiction & Fantasy', 1), ('Animation, Anime & Manga, Art House & International, Comedy, Kids & Family', 1), ('Comedy, Cult Movies, Drama, Science Fiction & Fantasy', 1), ('Action & Adventure, Comedy, Drama, Mystery & Suspense, Western', 1), ('Comedy, Documentary, Drama, Romance', 1), ('Comedy, Cult Movies, Horror', 1), ('Action & Adventure, Comedy, Documentary, Sports & Fitness', 1), ('Animation, Classics, Comedy, Drama, Kids & Family', 1), ('Art House & International, Comedy, Science Fiction & Fantasy, Gay & Lesbian', 1), ('Art House & International, Comedy, Special Interest, Romance', 1), ('Action & Adventure, Comedy, Musical & Performing Arts, Science Fiction & Fantasy, Western', 1), ('Action & Adventure, Comedy, Drama, Science Fiction & Fantasy, Romance', 1), ('Comedy, Drama, Faith & Spirituality, Sports & Fitness', 1), ('Action & Adventure, Classics, Comedy, Documentary, Drama, Musical & Performing Arts', 1), ('Action & Adventure, Animation, Comedy, Musical & Performing Arts', 1), ('Action & Adventure, Comedy, Horror, Musical & Performing Arts', 1), ('Art House & International, Comedy, Drama, Mystery & Suspense, Science Fiction & Fantasy', 1), ('Animation, Comedy, Horror, Romance', 1), ('Art House & International, Comedy, Drama, Kids & Family, Science Fiction & Fantasy', 1), ('Action & Adventure, Classics, Comedy, Romance', 1), ('Art House & International, Comedy, Documentary, Drama, Musical & Performing Arts', 1), ('Comedy, Drama, Horror, Romance', 1), ('Art House & International, Classics, Comedy, Gay & Lesbian', 1), ('Action & Adventure, Animation, Comedy, Documentary, Kids & Family', 1), ('Action & Adventure, Art House & International, Comedy, Drama, Musical & Performing Arts', 1), ('Comedy, Horror, Musical & Performing Arts, Television', 1), ('Comedy, Kids & Family, Musical & Performing Arts, Television', 1), ('Comedy, Cult Movies, Mystery & Suspense, Science Fiction & Fantasy', 1), ('Animation, Anime & Manga, Comedy, Romance', 1), ('Action & Adventure, Art House & International, Comedy, Cult Movies, Horror, Science Fiction & Fantasy', 1), ('Classics, Comedy, Science Fiction & Fantasy, Romance', 1), ('Art House & International, Comedy, Documentary, Special Interest, Television', 1), ('Art House & International, Comedy, Drama, Musical & Performing Arts, Science Fiction & Fantasy', 1), ('Action & Adventure, Animation, Comedy, Kids & Family, Musical & Performing Arts, Science Fiction & Fantasy', 1), ('Action & Adventure, Comedy, Science Fiction & Fantasy, Romance', 1), ('Action & Adventure, Animation, Comedy, Horror, Mystery & Suspense', 1), ('Animation, Comedy, Special Interest', 1), ('Action & Adventure, Comedy, Horror, Television', 1), ('Comedy, Drama, Kids & Family, Science Fiction & Fantasy, Television', 1), ('Action & Adventure, Comedy, Drama, Kids & Family, Mystery & Suspense, Science Fiction & Fantasy', 1), ('Animation, Classics, Comedy, Kids & Family, Science Fiction & Fantasy', 1), ('Classics, Comedy, Drama, Special Interest', 1), ('Action & Adventure, Comedy, Mystery & Suspense, Science Fiction & Fantasy, Television', 1), ('Art House & International, Comedy, Horror, Mystery & Suspense', 1), ('Classics, Comedy, Kids & Family, Romance', 1), ('Comedy, Horror, Musical & Performing Arts, Science Fiction & Fantasy', 1), ('Comedy, Mystery & Suspense, Special Interest', 1), ('Classics, Comedy, Drama, Musical & Performing Arts, Western', 1), ('Art House & International, Classics, Comedy, Drama, Mystery & Suspense', 1), ('Action & Adventure, Comedy, Science Fiction & Fantasy, Special Interest', 1), ('Comedy, Drama, Mystery & Suspense, Science Fiction & Fantasy, Romance', 1), ('Comedy, Drama, Science Fiction & Fantasy, Gay & Lesbian', 1), ('Action & Adventure, Art House & International, Comedy, Drama, Mystery & Suspense, Science Fiction & Fantasy', 1), ('Classics, Comedy, Documentary, Musical & Performing Arts, Special Interest', 1), ('Classics, Comedy, Drama, Mystery & Suspense, Special Interest, Romance', 1), ('Comedy, Drama, Horror, Kids & Family', 1)]\n"
     ]
    }
   ],
   "source": [
    "genres = Counter([movie_lookup[c]['genres'] for c in comedy_ids])\n",
    "print(genres.most_common())"
   ]
  },
  {
   "cell_type": "code",
   "execution_count": 14,
   "id": "3ab5262b",
   "metadata": {},
   "outputs": [
    {
     "name": "stdout",
     "output_type": "stream",
     "text": [
      "[('Comedy', 5674), ('Drama', 2377), ('Romance', 1006), ('Action & Adventure', 806), ('Art House & International', 708), ('Kids & Family', 549), ('Classics', 473), ('Science Fiction & Fantasy', 460), ('Mystery & Suspense', 358), ('Musical & Performing Arts', 337), ('Horror', 271), ('Animation', 240), ('Special Interest', 118), ('Documentary', 109), ('Television', 73), ('Western', 49), ('Gay & Lesbian', 40), ('Cult Movies', 32), ('Sports & Fitness', 31), ('Faith & Spirituality', 7), ('Anime & Manga', 2)]\n"
     ]
    }
   ],
   "source": [
    "genres = Counter()\n",
    "for c in comedy_ids:\n",
    "    genres.update(movie_lookup[c]['genres'].split(', '))\n",
    "print(genres.most_common())"
   ]
  },
  {
   "cell_type": "code",
   "execution_count": 15,
   "id": "aa5f2a81",
   "metadata": {},
   "outputs": [],
   "source": [
    "comedy_reviews = [r for r in review_data if r[ID_LINK] in comedy_ids]"
   ]
  },
  {
   "cell_type": "code",
   "execution_count": 16,
   "id": "d292681c",
   "metadata": {},
   "outputs": [
    {
     "name": "stdout",
     "output_type": "stream",
     "text": [
      "16434\n",
      "{'rotten_tomatoes_link': 'm/men_in_black', 'critic_name': 'Mike Massie', 'top_critic': 'False', 'publisher_name': 'Gone With The Twins', 'review_type': 'Fresh', 'review_score': '9/10', 'review_date': '2020-09-14', 'review_content': \"Choosing to go the route of puppets and primarily practical effects, the film's look remains striking, even after years of advancing computer graphics.\"}\n"
     ]
    }
   ],
   "source": [
    "print(len(comedy_reviews))\n",
    "print(comedy_reviews[1000])"
   ]
  },
  {
   "cell_type": "code",
   "execution_count": 17,
   "id": "e6b1f6d8",
   "metadata": {},
   "outputs": [],
   "source": [
    "scores = np.array([cr[TYPE] for cr in comedy_reviews])\n",
    "texts = [cr[TEXT] for cr in comedy_reviews]"
   ]
  },
  {
   "cell_type": "code",
   "execution_count": 18,
   "id": "b8012d84",
   "metadata": {},
   "outputs": [
    {
     "name": "stdout",
     "output_type": "stream",
     "text": [
      "['the', 'and', 'of', 'for', 'in', 'a', 'on', 'is', 'an', 'this', 'to', 'by', 'our', 'that', 'will', 'have', 'are', 'with', 'all', 'must', 'not', 'more', 'their', 'has', 'but', 'can', 'people', 'new', 'world', 'from', 'year', 'which', 'they', 'these', 'you', 'years', 'now', 'than', 'been', 'who', 'should', 'its', 'one', 'make', 'every', 'other', 'those', 'them', 'time', 'was', 'also', 'there', 'many', 'great', 'last', 'first', 'only', 'would', 'when', 'most', 'need', 'own', 'what', 'because']\n"
     ]
    }
   ],
   "source": [
    "with open('stoplist_en.txt') as stop_file:\n",
    "    stoplist = [line.strip() for line in stop_file]\n",
    "print(stoplist)"
   ]
  },
  {
   "cell_type": "code",
   "execution_count": 19,
   "id": "49d69270",
   "metadata": {
    "scrolled": false
   },
   "outputs": [
    {
     "name": "stdout",
     "output_type": "stream",
     "text": [
      "Documents by features: (16434, 9207)\n"
     ]
    }
   ],
   "source": [
    "cv = CountVectorizer(input=texts, min_df=3, stop_words=stoplist)\n",
    "review_features = cv.fit_transform(texts)\n",
    "feature_names = cv.get_feature_names()\n",
    "print(\"Documents by features:\", review_features.shape)"
   ]
  },
  {
   "cell_type": "code",
   "execution_count": 20,
   "id": "56a3aae9",
   "metadata": {},
   "outputs": [
    {
     "name": "stdout",
     "output_type": "stream",
     "text": [
      "192934 words\n",
      "0.1235% nonzero\n",
      "['000', '007', '10', '100', '11', '110', '12', '13', '14', '15']\n",
      "[[0 0 0 0 0 0 0 0 0 0]\n",
      " [0 0 0 0 0 0 0 0 0 0]\n",
      " [0 0 0 0 0 0 0 0 0 0]\n",
      " [0 0 0 0 0 0 0 0 0 0]\n",
      " [0 0 0 0 0 0 0 0 0 0]\n",
      " [0 0 0 0 0 0 0 0 0 0]\n",
      " [0 0 0 0 0 0 0 0 0 0]\n",
      " [0 0 0 0 0 0 0 0 0 0]\n",
      " [0 0 0 0 0 0 0 0 0 0]\n",
      " [0 0 0 0 0 0 0 0 0 0]\n",
      " [0 0 0 0 0 0 0 0 0 0]\n",
      " [0 0 0 0 0 0 0 0 0 0]\n",
      " [0 0 0 0 0 0 0 0 0 0]\n",
      " [0 0 0 0 0 0 0 0 0 0]\n",
      " [0 0 0 0 0 0 0 0 0 0]\n",
      " [0 0 0 0 0 0 0 0 0 0]\n",
      " [0 0 0 0 0 0 0 0 0 0]\n",
      " [0 0 0 0 0 0 0 0 0 0]\n",
      " [0 0 0 0 0 0 0 0 0 0]\n",
      " [0 0 0 0 0 0 0 0 0 0]]\n"
     ]
    }
   ],
   "source": [
    "dense_review_features = review_features.toarray()\n",
    "print(dense_review_features.sum(), \"words\")\n",
    "nonzero_prop = len(dense_review_features.nonzero()[0])/(dense_review_features.shape[0]*dense_review_features.shape[1])\n",
    "print(\"{:.4f}% nonzero\".format(nonzero_prop*100))\n",
    "\n",
    "print(feature_names[:10])\n",
    "print(dense_review_features[:20,:10])"
   ]
  },
  {
   "cell_type": "code",
   "execution_count": 21,
   "id": "7efbc061",
   "metadata": {},
   "outputs": [
    {
     "name": "stdout",
     "output_type": "stream",
     "text": [
      "[5307, 4328, 1238, 2376]\n",
      "['money', 'investment', 'cash', 'dollar']\n"
     ]
    }
   ],
   "source": [
    "money_lexicon = ['money', 'finance', 'income', 'investment', 'cash', 'dollar']\n",
    "money_lexicon_idxs = [feature_names.index(w) for w in money_lexicon if w in feature_names]\n",
    "print(money_lexicon_idxs)\n",
    "print([feature_names[i] for i in money_lexicon_idxs])"
   ]
  },
  {
   "cell_type": "code",
   "execution_count": 22,
   "id": "bf487603",
   "metadata": {},
   "outputs": [],
   "source": [
    "def find_words_by_spearman(lexicon, feature_names, feature_matrix):\n",
    "    \"\"\"uses Spearman rho correlation to find words that are correlated with our lexicon\"\"\"\n",
    "    lexicon_idxs = [feature_names.index(w) for w in lexicon if w in feature_names]\n",
    "    lexicon_sums = np.sum(dense_review_features[:, money_lexicon_idxs], axis=1)\n",
    "    n_features = len(feature_names)\n",
    "    feature_scores = [(spearmanr(lexicon_sums, feature_matrix[:,i]).correlation, feature_names[i]) for i in range(n_features)]\n",
    "    return sorted(feature_scores, reverse=True)"
   ]
  },
  {
   "cell_type": "code",
   "execution_count": 23,
   "id": "a4bd2e4d",
   "metadata": {},
   "outputs": [],
   "source": [
    "money_scores = find_words_by_spearman(money_lexicon, feature_names, dense_review_features)"
   ]
  },
  {
   "cell_type": "code",
   "execution_count": 29,
   "id": "dcdb97bd",
   "metadata": {},
   "outputs": [
    {
     "name": "stdout",
     "output_type": "stream",
     "text": [
      "money 0.8575\n",
      "cash 0.4244\n",
      "dollar 0.2629\n",
      "investment 0.2037\n",
      "billion 0.1761\n",
      "grab 0.1559\n",
      "buy 0.1348\n",
      "fork 0.1171\n",
      "million 0.0895\n",
      "spend 0.0883\n",
      "sent 0.0879\n",
      "happiness 0.0695\n",
      "zealand 0.0673\n",
      "weakness 0.0673\n",
      "tickets 0.0673\n",
      "savior 0.0673\n",
      "sale 0.0673\n",
      "sack 0.0673\n",
      "rudo 0.0673\n",
      "robbins 0.0673\n",
      "pretending 0.0673\n",
      "plotless 0.0673\n",
      "novella 0.0673\n",
      "losers 0.0673\n",
      "limitless 0.0673\n",
      "legit 0.0673\n",
      "individuals 0.0673\n",
      "hollowness 0.0673\n",
      "genteel 0.0673\n",
      "fold 0.0673\n",
      "feelgood 0.0673\n",
      "extras 0.0673\n",
      "drillbit 0.0673\n",
      "dreamy 0.0673\n",
      "dispensing 0.0673\n",
      "disasters 0.0673\n",
      "cursi 0.0673\n",
      "contraption 0.0673\n",
      "congeniality 0.0673\n",
      "basement 0.0673\n",
      "produce 0.0664\n",
      "joyous 0.0664\n",
      "continue 0.0664\n",
      "15 0.0664\n",
      "hope 0.0662\n",
      "quality 0.0639\n",
      "reeves 0.0637\n",
      "corporate 0.0591\n",
      "garcia 0.0583\n",
      "hoary 0.0583\n",
      "terry 0.0580\n",
      "surrender 0.0580\n",
      "stranded 0.0580\n",
      "soda 0.0580\n",
      "sexist 0.0580\n",
      "resources 0.0580\n",
      "replace 0.0580\n",
      "provided 0.0580\n",
      "property 0.0580\n",
      "pointlessly 0.0580\n",
      "millions 0.0580\n",
      "lend 0.0580\n",
      "laced 0.0580\n",
      "katz 0.0580\n",
      "juggling 0.0580\n",
      "incoherent 0.0580\n",
      "harbor 0.0580\n",
      "grabbing 0.0580\n",
      "gigli 0.0580\n",
      "excrement 0.0580\n",
      "eastwood 0.0580\n",
      "demonstrate 0.0580\n",
      "dash 0.0580\n",
      "cost 0.0580\n",
      "converts 0.0580\n",
      "converted 0.0580\n",
      "chunk 0.0580\n",
      "bought 0.0580\n",
      "actively 0.0580\n",
      "2013 0.0580\n",
      "staggering 0.0580\n",
      "timely 0.0570\n",
      "ten 0.0570\n",
      "direct 0.0535\n",
      "reprise 0.0517\n",
      "realise 0.0517\n",
      "paean 0.0517\n",
      "montana 0.0517\n",
      "monologues 0.0517\n",
      "mint 0.0517\n",
      "incessant 0.0517\n",
      "firm 0.0517\n",
      "emoji 0.0517\n",
      "delectable 0.0517\n",
      "blown 0.0517\n",
      "aaron 0.0517\n",
      "mad 0.0506\n",
      "cher 0.0472\n",
      "bothered 0.0472\n",
      "flesh 0.0472\n"
     ]
    }
   ],
   "source": [
    "for score, wd in money_scores[:100]:\n",
    "    print(wd, \"{:.4f}\".format(score))"
   ]
  },
  {
   "cell_type": "code",
   "execution_count": 25,
   "id": "711b5a72",
   "metadata": {
    "scrolled": true
   },
   "outputs": [],
   "source": [
    "n_topics = 25\n",
    "lda = LatentDirichletAllocation(n_components=n_topics,batch_size=len(comedy_reviews))\n",
    "doc_topic_vecs = lda.fit_transform(review_features)\n",
    "topic_word_vecs = lda.components_"
   ]
  },
  {
   "cell_type": "code",
   "execution_count": 26,
   "id": "ca453404",
   "metadata": {
    "scrolled": false
   },
   "outputs": [
    {
     "name": "stdout",
     "output_type": "stream",
     "text": [
      "0 it out movie at like his well series ll gross\n",
      "1 full review spanish it movie film his best he at\n",
      "2 it if be like movie as were could we out\n",
      "3 film as up comedy at it her never heartfelt beautiful\n",
      "4 it too film be movie like so over just much\n",
      "5 it entertaining comedy film movie be characters about into romantic\n",
      "6 film movie director it best kid his since martin another\n",
      "7 it as be so movie he like his about much\n",
      "8 as film it so about witty fun your like or\n",
      "9 it as comedy at out film movie so her about\n",
      "10 it if even as film movie be re films so\n",
      "11 it we as movie comedy be funny about his two\n",
      "12 about it movie de do know or much be comedy\n",
      "13 as film it piece his heart best find comedy be\n",
      "14 it family action comedy rom com disney like film as\n",
      "15 it film movie some like as comedy if be may\n",
      "16 it fun story film something doesn funny be while mean\n",
      "17 it comedy his at director writer movie he as about\n",
      "18 as it movie film just funny be or about his\n",
      "19 as at it low best movie or comedy cast up\n",
      "20 it at be good laugh out loud film some funny\n",
      "21 as comedy it romantic predictable much too characters director story\n",
      "22 movie it as be good film some re comic if\n",
      "23 it film like as up ve just be if seen\n",
      "24 it funny as be very movie film really at just\n"
     ]
    }
   ],
   "source": [
    "n_words_to_print = 10\n",
    "for topic in range(n_topics):\n",
    "    top_word_idxs = np.argsort(topic_word_vecs[topic])[-n_words_to_print:][-1::-1]\n",
    "    top_words = [feature_names[i] for i in top_word_idxs]\n",
    "    print(topic, ' '.join(top_words))\n",
    "    "
   ]
  },
  {
   "cell_type": "code",
   "execution_count": 27,
   "id": "68f8188a",
   "metadata": {},
   "outputs": [
    {
     "name": "stdout",
     "output_type": "stream",
     "text": [
      "0 out like his well series ll gross heart soul lot makes too often little yet us story set script laugh comedy into feels old feel movies no way performance fun good familiar off lives through rather re\n",
      "\n",
      "1 full review spanish his best he like performances director performance anderson out lead good here la fun gives movies among chemistry films very british eye thing after see una laughs my standard so screen making black\n",
      "\n",
      "2 like were could out little about even too so then love had something into ve better never much any his just go real script no up do written brilliant see maybe such may\n",
      "\n",
      "3 up comedy her never heartfelt beautiful story apatow his hilarious two out cast funny judd look us life small delightful well comic man about rather woman performance sweet wonderful john very fresh while off way romantic\n",
      "\n",
      "4 too like so over just much little kids story action even doesn while feels no good out though some looks teen well laughs about he comedy audience characters might together enjoy never look into\n",
      "\n",
      "5 entertaining comedy characters about into romantic love enough up way so actors bad hard down two life your how story far work see funny just some whose while like may too between quirky no\n",
      "\n",
      "6 director best kid his since martin another steve like her about period performance enough much characters story rock list into performances star work back movies love triumph comedies project uneven lady way screenwriter feels off character really\n",
      "\n",
      "7 so he like his about much might comedy too up performance two family makes off character even showcase cinematic humor work half some her despite style here both something acting good mostly gentle may she\n",
      "\n",
      "8 so about witty fun your like her into well character characters even cast good take doesn much way star funny script just isn often pixar both everyone she enough while big fails no his comedy family\n",
      "\n",
      "9 comedy out so her about into just way never again he turns up best his makes version much no story little movies same moore she performance odd such like see character age sci fi shame\n",
      "\n",
      "10 even re films so brothers too better me still original think watch like funny bad probably about much hate hollywood hard enough out almost fan back ll chan don around while subversive\n",
      "\n",
      "11 comedy funny about his two bad characters out too off joke way could how no like work made yet best enough see know thing why movies fun humor better forgettable well he gives\n",
      "\n",
      "12 about de do know much comedy no don like love re special so just que even nothing enough us effects here anything fun say whole funny still trip music family little thing lot up\n",
      "\n",
      "13 piece his heart best find comedy much well life enough laughs sandler fans enjoyable funny trip family movies good between old wedding like way engaging into here work humor tale entertainment about charming get place\n",
      "\n",
      "14 family action comedy rom com disney like sequel up fun bland over sitcom some out animation drama ride despite into good character then adventure pixar funny both back even less sequences animated charming little\n",
      "\n",
      "15 some like comedy may real classic coming so age director even yourself much his story charming gets place no up good her work just making find think love after heart message minor life tale\n",
      "\n",
      "16 fun story something doesn funny while mean humor about comedy very so still characters out he some isn strong lot original makes like bit seem work does feel love good silly no sense movies spirited message had\n",
      "\n",
      "17 comedy his director writer he about american still like into sex seems so hollywood long up story magic don could doesn even does good much no look life feeling around easy old lost teen movies\n",
      "\n",
      "18 just funny about his nor neither good comedy out old come expect up like doesn even where little bad well so enough clever hit go guy date isn does much almost way man\n",
      "\n",
      "19 low best comedy cast up allen good better he key mess how woody no so some performances material farce his about into doesn off funny least drama amusing crazy same horror life just\n",
      "\n",
      "20 good laugh out loud some funny children adults while without moments may enough his least best same jokes too any night performances don over director very humor your feel isn well remarkable aimed light just\n",
      "\n",
      "21 comedy romantic predictable much too characters director story funny plot long minutes less makes entertaining feature big well does so my screenplay his some jokes lot despite about even sex fun waste enjoyable still screwball\n",
      "\n",
      "22 good some re comic about just into his while feels like appeal gets anyone way sometimes too he your out thinking don execution any may two up sort much characters something bad between\n",
      "\n",
      "23 like up ve just seen before isn how without jokes so much off no he any your doesn content ever better even some watching into man down see way over work little out\n",
      "\n",
      "24 funny very really just good so up comedy might never wants like see out well characters get though enough something does through even much some think story lot laughs still little going pretty\n",
      "\n"
     ]
    }
   ],
   "source": [
    "def print_topic_keys(topic_word_vecs, n_words_to_print=20, post_stoplist=[]):\n",
    "    for topic in range(n_topics):\n",
    "        top_word_idxs = np.argsort(topic_word_vecs[topic])[-n_words_to_print+len(post_stoplist):][::-1]\n",
    "        top_words = [feature_names[i] for i in top_word_idxs if feature_names[i] not in post_stoplist]\n",
    "        print(topic, ' '.join(top_words[:n_words_to_print]))\n",
    "        print()\n",
    "    \n",
    "print_topic_keys(topic_word_vecs, n_words_to_print=50, post_stoplist=['it', 'be', 'at', 'movie', 'as', 'or', 'we', 'film', 'if'])"
   ]
  },
  {
   "cell_type": "code",
   "execution_count": 34,
   "id": "662b6081",
   "metadata": {},
   "outputs": [
    {
     "name": "stdout",
     "output_type": "stream",
     "text": [
      "Topic proportion: 0.9657142857094732\n",
      "{'rotten_tomatoes_link': 'm/the_five_year_engagement', 'critic_name': 'Jason Best', 'top_critic': 'False', 'publisher_name': 'Movie Talk', 'review_type': 'Fresh', 'review_score': '', 'review_date': '2012-06-25', 'review_content': \"The Five-Year Engagement seems at times to have taken its title literally - it's way too long. But though the pace sometimes drags, Blunt and Segal are amiable companions and the lack of gross-out gags makes a refreshing change.\"}\n",
      "\n",
      "Topic proportion: 0.9657142857057369\n",
      "{'rotten_tomatoes_link': 'm/donovans_reef', 'critic_name': 'Emanuel Levy', 'top_critic': 'False', 'publisher_name': 'EmanuelLevy.Com', 'review_type': 'Fresh', 'review_score': '', 'review_date': '2008-03-11', 'review_content': 'Though not in top form, director John Ford and star John Wayne, building on previous and better collaborations in this easy-going (and lazy) adventure set in the Pacific, offering good old fun with the Duke, Jack Warden, Dorothy Lamour and Lee Marvin.'}\n",
      "\n",
      "Topic proportion: 0.9657142856682599\n",
      "{'rotten_tomatoes_link': 'm/emma_2020', 'critic_name': 'Michael Phillips', 'top_critic': 'True', 'publisher_name': 'Chicago Tribune', 'review_type': 'Fresh', 'review_score': '3/4', 'review_date': '2020-02-25', 'review_content': 'The movie strains at the outset; the early scenes are dominated by a brisk procession of tidy, somewhat static shots, set into motion by some intrusive music and editing. Then, rather miraculously, it starts getting better and better.'}\n",
      "\n",
      "Topic proportion: 0.9644444444404566\n",
      "{'rotten_tomatoes_link': 'm/the_happytime_murders_2017', 'critic_name': 'Brandon Judell', 'top_critic': 'False', 'publisher_name': 'CultureCatch', 'review_type': 'Fresh', 'review_score': '', 'review_date': '2018-08-26', 'review_content': \"Sort of 'The Big Sleep' meets 'Basic Instinct' meets 'Pee-Wee's Playhouse,' 'The Happytime Murders' wants you to laugh while never letting you forget that here is a hard-hitting parody of our racist, misogynistic society. Well, almost.\"}\n",
      "\n",
      "Topic proportion: 0.9630769230717142\n",
      "{'rotten_tomatoes_link': 'm/the_dictator_2012', 'critic_name': 'Eric Kohn', 'top_critic': 'True', 'publisher_name': 'indieWire', 'review_type': 'Fresh', 'review_score': '', 'review_date': '2012-05-14', 'review_content': 'Transitioning back into a scripted dynamic after his quasi-documentary performance excursions with \"Bruno\" and \"Borat,\" Baron Cohen loses none of his edge, combining slapstick inspiration and social commentary into a hilariously provocative blend.'}\n",
      "\n",
      "Topic proportion: 0.9630769230711052\n",
      "{'rotten_tomatoes_link': 'm/dolittle', 'critic_name': 'Perri Nemiroff', 'top_critic': 'False', 'publisher_name': 'Collider Video', 'review_type': 'Rotten', 'review_score': '4/10', 'review_date': '2020-02-05', 'review_content': \"There's a lot wrong with Dolittle but one of the most shocking of the bunch is that Downey Jr.'s performance doesn't work at all. One might expect him to be well suited to play a lovable jerk, but there's no charm in his rendition of the character.\"}\n",
      "\n",
      "Topic proportion: 0.9630769230704187\n",
      "{'rotten_tomatoes_link': 'm/10009624-promotion', 'critic_name': 'Elizabeth Weitzman', 'top_critic': 'True', 'publisher_name': 'New York Daily News', 'review_type': 'Rotten', 'review_score': '3/5', 'review_date': '2008-06-06', 'review_content': \"There's still a lot to like here, but ultimately the movie reflects its hapless hero a little too well. While we're constantly rooting for it to succeed, the finish line seems forever out of reach.\"}\n",
      "\n",
      "Topic proportion: 0.9615999999945953\n",
      "{'rotten_tomatoes_link': 'm/ice_age_continental_drift', 'critic_name': 'Brian Gibson', 'top_critic': 'False', 'publisher_name': 'Vue Weekly (Edmonton, Alberta)', 'review_type': 'Rotten', 'review_score': '', 'review_date': '2012-07-24', 'review_content': 'Fossilized in a syrupy, always-stick-by-your-family-and-friends formula. Scrat provides the only constant humour. The surrealism and manic slapstick that animation can do so well are dwarfed by adventures with pirates and a clichd teen-fitting-in story.'}\n",
      "\n",
      "Topic proportion: 0.9615999999942533\n",
      "{'rotten_tomatoes_link': 'm/troop_beverly_hills', 'critic_name': 'Roger Ebert', 'top_critic': 'True', 'publisher_name': 'Chicago Sun-Times', 'review_type': 'Rotten', 'review_score': '2/4', 'review_date': '2000-01-01', 'review_content': \"Instead of being a merciless evisceration of the lifestyles of the rich, it's a little morality play in which Long transforms herself into a warm and useful person. Nobody within a mile of this project seems to have possessed an ounce of irony.\"}\n",
      "\n",
      "Topic proportion: 0.961599999993687\n",
      "{'rotten_tomatoes_link': 'm/girl_cut_in_two', 'critic_name': 'Dan Sallitt', 'top_critic': 'False', 'publisher_name': 'Senses of Cinema', 'review_type': 'Rotten', 'review_score': '', 'review_date': '2018-10-12', 'review_content': \"A few flashes of insight or giddy humour, conveyed via portentous close-ups or fast cutting, remind us of Chabrol's directorial power; but he seems rather too casual behind the camera lately.\"}\n",
      "\n",
      "Topic proportion: 0.9615999999922056\n",
      "{'rotten_tomatoes_link': 'm/war_of_the_roses', 'critic_name': 'Rob Vaux', 'top_critic': 'False', 'publisher_name': 'Flipside Movie Emporium', 'review_type': 'Fresh', 'review_score': '4/5', 'review_date': '2002-07-26', 'review_content': \"For anyone who ever spent Valentine's Day alone with a bottle of scotch, for anyone who ever watched the love of their life go stomping out the door, for anyone who ever gazed in hatred at the happy couple spooning in public... this is the movie for you.\"}\n",
      "\n",
      "Topic proportion: 0.959999999993874\n",
      "{'rotten_tomatoes_link': 'm/the_best_exotic_marigold_hotel_2012', 'critic_name': 'Elizabeth Weitzman', 'top_critic': 'True', 'publisher_name': 'New York Daily News', 'review_type': 'Rotten', 'review_score': '2/5', 'review_date': '2012-05-03', 'review_content': \"Madden and screenwriter Ol Parker take the easiest, most familiar paths (we're still doing Viagra jokes?), dropping every opportunity to explore issues like culture clash, loneliness and mortality.\"}\n",
      "\n",
      "Topic proportion: 0.9599999999803239\n",
      "{'rotten_tomatoes_link': 'm/hancock', 'critic_name': 'John Beifuss', 'top_critic': 'False', 'publisher_name': 'Commercial Appeal (Memphis, TN)', 'review_type': 'Rotten', 'review_score': '2.5/4', 'review_date': '2008-07-07', 'review_content': \"Fatally compromised (but) ambitious and clever... It reminds us of the way majority America treats black men in particular, with a humiliating mistrust that's never far behind the admiration expressed for those who 'earn' approval through their talents...\"}\n",
      "\n",
      "Topic proportion: 0.9582608695584703\n",
      "{'rotten_tomatoes_link': 'm/practical_magic', 'critic_name': 'Peg Aloi', 'top_critic': 'False', 'publisher_name': 'Boston Phoenix', 'review_type': 'Fresh', 'review_score': '', 'review_date': '2002-03-24', 'review_content': \"Griffin Dunne's cunningly crafted romp bears only slight resemblance to Alice Hoffman's romantic novel, but its wry humor and lush imagery make for a fun, feel-good movie just in time for Halloween.\"}\n",
      "\n",
      "Topic proportion: 0.9582608695576657\n",
      "{'rotten_tomatoes_link': 'm/about_a_boy', 'critic_name': 'Alex Sandell', 'top_critic': 'False', 'publisher_name': 'Juicy Cerebellum', 'review_type': 'Fresh', 'review_score': '6/10', 'review_date': '2002-05-13', 'review_content': \"A fun motion picture worthy of a matinee viewing after you've memorized all of the lines from Attack of the Clones and are still busy waiting for Men in Black II. It's summer in Hollywood; did you expect anything more?\"}\n",
      "\n",
      "Topic proportion: 0.9582608695468646\n",
      "{'rotten_tomatoes_link': 'm/secretary', 'critic_name': 'Ken Fox', 'top_critic': 'False', 'publisher_name': 'TV Guide', 'review_type': 'Rotten', 'review_score': '2.5/5', 'review_date': '2002-09-20', 'review_content': \"Before it takes a sudden turn and devolves into a bizarre sort of romantic comedy, Steven Shainberg's adaptation of Mary Gaitskill's harrowing short story ... is a brilliantly played, deeply unsettling experience.\"}\n",
      "\n",
      "Topic proportion: 0.9563636363581676\n",
      "{'rotten_tomatoes_link': 'm/toy_story_4', 'critic_name': 'Utibe Gautt Ate', 'top_critic': 'False', 'publisher_name': 'Black Girl Nerds', 'review_type': 'Fresh', 'review_score': '3.5/5', 'review_date': '2019-06-17', 'review_content': \"'Toy Story 4' seems aimed at those of us who grew up with the franchise that first graced silver screens twenty-four years ago. However, it also re-opens the story for an entirely new generation.\"}\n",
      "\n",
      "Topic proportion: 0.956363636357373\n",
      "{'rotten_tomatoes_link': 'm/wish_i_was_here', 'critic_name': 'J. R. Jones', 'top_critic': 'True', 'publisher_name': 'Chicago Reader', 'review_type': 'Fresh', 'review_score': '', 'review_date': '2014-07-17', 'review_content': \"The earlier, comedic scenes work a lot better than the later, dramatic ones, thanks mainly to Braff's wide-eyed, deadpan performance and good supporting work from Kate Hudson.\"}\n",
      "\n",
      "Topic proportion: 0.9563636363570961\n",
      "{'rotten_tomatoes_link': 'm/long_shot_2019', 'critic_name': 'Sara Clements', 'top_critic': 'False', 'publisher_name': 'The Simple Cinephile', 'review_type': 'Fresh', 'review_score': '', 'review_date': '2019-05-06', 'review_content': \"Rogen's awkward and comedic charm is ever present and with Theron's first turn at comedy, she delivers a hilarious performance worthy of a mic drop, proving she can do it all.\"}\n",
      "\n",
      "Topic proportion: 0.9563636363559693\n",
      "{'rotten_tomatoes_link': 'm/american_reunion_2012', 'critic_name': 'William Bibbiani', 'top_critic': 'False', 'publisher_name': 'CraveOnline', 'review_type': 'Rotten', 'review_score': '4/10', 'review_date': '2012-08-22', 'review_content': \"Tries so hard to be this generation's The Big Chill that the very reason why it exists - sexy, gross out, adolescent fun - feels thoroughly out of place.\"}\n",
      "\n",
      "Topic proportion: 0.9563636363547124\n",
      "{'rotten_tomatoes_link': 'm/antman', 'critic_name': 'Allen Almachar', 'top_critic': 'False', 'publisher_name': 'The MacGuffin', 'review_type': 'Fresh', 'review_score': 'B+', 'review_date': '2020-07-15', 'review_content': \"The performances of the main cast, the refreshing display of Ant-Man's abilities, Michael Pena's superb comedic role, and a weird yet dynamic finale make this a superhero blockbuster worth checking out.\"}\n",
      "\n",
      "Topic proportion: 0.9542857142791146\n",
      "{'rotten_tomatoes_link': 'm/buffalo_66', 'critic_name': 'Emanuel Levy', 'top_critic': 'False', 'publisher_name': 'EmanuelLevy.Com', 'review_type': 'Fresh', 'review_score': 'B-', 'review_date': '2009-07-15', 'review_content': 'Actor Vincent Gallo makes a feature directing debut with this bizarre, self-indulgent tale of a troubled guy, played by him in a narcissistic mode, who has never reconciled his unhappy childhood.'}\n",
      "\n",
      "Topic proportion: 0.9542857142776471\n",
      "{'rotten_tomatoes_link': 'm/my_old_lady', 'critic_name': 'Stella Papamichael', 'top_critic': 'False', 'publisher_name': 'Radio Times', 'review_type': 'Fresh', 'review_score': '3/5', 'review_date': '2014-11-21', 'review_content': \"Skeletons tumble out of the closet in rather a clumsy fashion, so it's just as well that Horovitz has managed to attract a refined cast who are able to put some meat on those old bones.\"}\n",
      "\n",
      "Topic proportion: 0.9542857142775771\n",
      "{'rotten_tomatoes_link': 'm/1100039-bait', 'critic_name': 'James Sanford', 'top_critic': 'False', 'publisher_name': 'Kalamazoo Gazette', 'review_type': 'Rotten', 'review_score': '', 'review_date': '2002-06-10', 'review_content': 'includes all the key ingredients for what Hollywood passes off as an \"urban comedy.\" ... The finale of \"Bait\" finds a screaming infant and his drugged mother strapped to a bomb -- funny stuff, huh?'}\n",
      "\n",
      "Topic proportion: 0.9542857142707268\n",
      "{'rotten_tomatoes_link': 'm/10009596-old_dogs', 'critic_name': 'Matt Soergel', 'top_critic': 'False', 'publisher_name': 'Florida Times-Union', 'review_type': 'Rotten', 'review_score': '1.5/4', 'review_date': '2009-11-25', 'review_content': 'As if to compensate, \"Old Dogs\" continually cuts away from Williams\\' antics to \"cute\" reaction shots from an actual old dog. That\\'s a really bad sign for a movie.'}\n",
      "\n",
      "Topic proportion: 0.9542857142642442\n",
      "{'rotten_tomatoes_link': 'm/god_bless_america_2011', 'critic_name': 'Austin Kennedy', 'top_critic': 'False', 'publisher_name': 'Sin Magazine', 'review_type': 'Fresh', 'review_score': '3.5/4', 'review_date': '2012-05-12', 'review_content': \"It's jawdroppingly hilarious! You'll laugh, but then will feel guilty for laughing. I love movies that make me uncomfortable. Remember how dark HEATHERS was? Well, this is 10 times darker!\"}\n",
      "\n",
      "Topic proportion: 0.9542857142492855\n",
      "{'rotten_tomatoes_link': 'm/sunshine_cleaning', 'critic_name': 'Ty Burr', 'top_critic': 'True', 'publisher_name': 'Boston Globe', 'review_type': 'Fresh', 'review_score': '2.5/4', 'review_date': '2009-03-19', 'review_content': \"It's an honest little movie, well written by Megan Holley, well directed by Christine Jeffs, and very well played by Amy Adams and Emily Blunt as the sisters.\"}\n",
      "\n",
      "Topic proportion: 0.9519999999937803\n",
      "{'rotten_tomatoes_link': 'm/youth_in_revolt', 'critic_name': 'Kurt Loder', 'top_critic': 'False', 'publisher_name': 'MTV', 'review_type': 'Fresh', 'review_score': '4/5', 'review_date': '2010-01-08', 'review_content': 'It has all the hallmarks of a Michael Cera movie. This time out, though, Cera opens up his familiar whimsical-nerd character, inserts a grenade (well, a small grenade) and pulls the pin.'}\n",
      "\n",
      "Topic proportion: 0.9519999999936755\n",
      "{'rotten_tomatoes_link': 'm/jack_and_jill_2011', 'critic_name': 'Marc Savlov', 'top_critic': 'False', 'publisher_name': 'Austin Chronicle', 'review_type': 'Rotten', 'review_score': '0.5/5', 'review_date': '2011-11-18', 'review_content': \"It's front-loaded with enough cameos from the likes of Regis Philbin and Drew Carey to sink most crappy comedies, and, indeed, this one finally makes it to an actual pleasure cruise, - the pleasure.\"}\n",
      "\n",
      "Topic proportion: 0.9519999999927548\n",
      "{'rotten_tomatoes_link': 'm/rv', 'critic_name': 'Mike Sage', 'top_critic': 'False', 'publisher_name': 'Peterborough This Week', 'review_type': 'Rotten', 'review_score': '2/5', 'review_date': '2006-04-28', 'review_content': 'if getting rained on by fecal matter and fisticuffs with ferocious raccoons (played by three tracks of off-camera Foley-SFX) tickle your funny-bone, then by all means board this trailer-park dump.'}\n",
      "\n",
      "Topic proportion: 0.9519999999912017\n",
      "{'rotten_tomatoes_link': 'm/severance', 'critic_name': 'Bruce Westbrook', 'top_critic': 'True', 'publisher_name': 'Houston Chronicle', 'review_type': 'Fresh', 'review_score': '2.5/4', 'review_date': '2007-06-08', 'review_content': 'The cast shows spark and gusto, especially Laura Harris as a vulnerable yet intrepid survivor type and Danny Dyer as a bent druggie who straightens out long enough to fight back.'}\n",
      "\n",
      "Topic proportion: 0.9519999999885327\n",
      "{'rotten_tomatoes_link': 'm/all_stars', 'critic_name': 'Henry Fitzherbert', 'top_critic': 'False', 'publisher_name': 'Daily Express (UK)', 'review_type': 'Rotten', 'review_score': '3/5', 'review_date': '2020-05-07', 'review_content': \"It's formulaic but fun and energetically performed with an engaging performance by Ashley Jensen as the centres sparky supervisor. The dance sequences are well staged, including some inventive fantasy sequences.\"}\n",
      "\n",
      "Topic proportion: 0.9519999999883342\n",
      "{'rotten_tomatoes_link': 'm/knight_and_day', 'critic_name': \"Clint O'Connor\", 'top_critic': 'False', 'publisher_name': 'Cleveland Plain Dealer', 'review_type': 'Rotten', 'review_score': 'C+', 'review_date': '2010-06-23', 'review_content': 'Though it boasts the shiny white teeth star power of Tom Cruise and Cameron Diaz and offers a cute premise, Knight and Day is a flimsy enterprise.'}\n",
      "\n",
      "Topic proportion: 0.9494736842039828\n",
      "{'rotten_tomatoes_link': 'm/when_in_rome', 'critic_name': 'Andrea Gronvall', 'top_critic': 'True', 'publisher_name': 'Chicago Reader', 'review_type': 'Rotten', 'review_score': '', 'review_date': '2010-01-29', 'review_content': 'Josh Duhamel plays the smitten sports reporter who helps Kristen Bell mount her big art show, \"Pain\"-a fitting title, given the agony induced by this godawful comedy.'}\n",
      "\n",
      "Topic proportion: 0.9494736842037075\n",
      "{'rotten_tomatoes_link': 'm/ted_2', 'critic_name': \"David 'Mad Dog' Bradley\", 'top_critic': 'False', 'publisher_name': 'Rip It Up', 'review_type': 'Rotten', 'review_score': '2.5/5', 'review_date': '2015-12-31', 'review_content': \"Director and Ted voicer Seth MacFarlane's follow-up to 2012's Ted has plenty of his trademark crude humour but it all feels rather desperate and silly.\"}\n",
      "\n",
      "Topic proportion: 0.9494736842032184\n",
      "{'rotten_tomatoes_link': 'm/micmacs', 'critic_name': 'Philip Martin', 'top_critic': 'False', 'publisher_name': 'Arkansas Democrat-Gazette', 'review_type': 'Fresh', 'review_score': '86/100', 'review_date': '2010-07-26', 'review_content': \"As a filmmaker, [Jeunet's] prime virtues have to do with textural details, discursive forays into character, little grace notes that accrete into rueful human - and humane - comedy.\"}\n",
      "\n",
      "Topic proportion: 0.9494736842003797\n",
      "{'rotten_tomatoes_link': 'm/the_hummingbird_project', 'critic_name': 'David Parkinson', 'top_critic': 'False', 'publisher_name': 'Radio Times', 'review_type': 'Fresh', 'review_score': '3/5', 'review_date': '2019-06-17', 'review_content': \"But, while it falls some way below the standards set by Nguyen's Oscar-nominated child-soldier saga, War Witch (2012), this has a cockeyed conviction that keeps you watching.\"}\n",
      "\n",
      "Topic proportion: 0.9494736842001167\n",
      "{'rotten_tomatoes_link': 'm/1208806-its_complicated', 'critic_name': 'Moira MacDonald', 'top_critic': 'True', 'publisher_name': 'Seattle Times', 'review_type': 'Rotten', 'review_score': '2.5/4', 'review_date': '2009-12-25', 'review_content': \"There's nothing inherently wrong with a little fantasy; indeed, a lot of us like gazing at lavishly set tables and meticulously chosen throw pillows. But It's Complicated suffers from terminal niceness.\"}\n",
      "\n",
      "Topic proportion: 0.9494736841977006\n",
      "{'rotten_tomatoes_link': 'm/real_genius', 'critic_name': 'Kate Hudson', 'top_critic': 'False', 'publisher_name': 'Pajiba', 'review_type': 'Fresh', 'review_score': '', 'review_date': '2019-06-06', 'review_content': \"Friends, the world is a wacky, wonderful tapestry of opinions and taste. However, there is one universal truth that I must insist we all acknowledge: Real Genius is the best movie of 1985. If you disagree, I'll see you in hell.\"}\n",
      "\n",
      "Topic proportion: 0.9494736841888528\n",
      "{'rotten_tomatoes_link': 'm/hyde_park_on_hudson', 'critic_name': 'Matt Patches', 'top_critic': 'False', 'publisher_name': 'Hollywood.com', 'review_type': 'Rotten', 'review_score': '1.5/5', 'review_date': '2012-12-04', 'review_content': 'Hyde Park on Hudson always goes back to ... a vapid core idea that only offers the filmmakers an opportunity to shoot dynamic driving scenes through scenic upstate New York.'}\n",
      "\n",
      "Topic proportion: 0.949473683823568\n",
      "{'rotten_tomatoes_link': 'm/school_of_rock', 'critic_name': 'Bill Pearis', 'top_critic': 'False', 'publisher_name': 'Citysearch', 'review_type': 'Fresh', 'review_score': '9/10', 'review_date': '2003-10-02', 'review_content': 'Jack Black has played the in-your-face slacker many times before, but with a script written specifically to showcase his particular genius, he completely aces this exam.'}\n",
      "\n",
      "Topic proportion: 0.9466666666626196\n",
      "{'rotten_tomatoes_link': 'm/harold_and_kumar_go_to_white_castle', 'critic_name': 'Derek Adams', 'top_critic': 'True', 'publisher_name': 'Time Out', 'review_type': 'Fresh', 'review_score': '', 'review_date': '2006-02-09', 'review_content': 'Behind all the Farrelly-esque gross-out humour and Cheech & Chong-isms lies a sensitive little picture with a deftly handled anti-racism slant.'}\n",
      "\n",
      "Topic proportion: 0.9466666666607015\n",
      "{'rotten_tomatoes_link': 'm/brothers_of_the_head', 'critic_name': 'David Ansen', 'top_critic': 'True', 'publisher_name': 'Newsweek', 'review_type': 'Fresh', 'review_score': '', 'review_date': '2018-02-07', 'review_content': \"The twins are played by 19-year-old real-life brothers Luke and Harry Treadaway. They're sexy, touching and macabre, and you can't keep your eyes off them.\"}\n",
      "\n",
      "Topic proportion: 0.9466666666591042\n",
      "{'rotten_tomatoes_link': 'm/finding_forrester', 'critic_name': 'James Sanford', 'top_critic': 'False', 'publisher_name': 'Kalamazoo Gazette', 'review_type': 'Fresh', 'review_score': '', 'review_date': '2002-06-15', 'review_content': 'Granted, Connery has done the act many times before, and yet he always seems to pull it off with uncommon grace and good humor.'}\n",
      "\n",
      "Topic proportion: 0.9466666666578294\n",
      "{'rotten_tomatoes_link': 'm/baby_mama', 'critic_name': 'Wesley Morris', 'top_critic': 'True', 'publisher_name': 'Boston Globe', 'review_type': 'Fresh', 'review_score': '3/4', 'review_date': '2008-04-25', 'review_content': 'The movie was written and directed by a man, Michael McCullers. But it cuts out the obligatory middleman and lets two women make us laugh, often very hard.'}\n",
      "\n",
      "Topic proportion: 0.9466666666578102\n",
      "{'rotten_tomatoes_link': 'm/miss_congeniality_2', 'critic_name': 'MaryAnn Johanson', 'top_critic': 'False', 'publisher_name': 'Flick Filosopher', 'review_type': 'Rotten', 'review_score': '', 'review_date': '2005-03-24', 'review_content': \"Bullock['s]... phony 'adorableness' [is] half laughable Hollywood concept of what it means to be 'bohemian' and half deep self-hatred of the attempt at individuality...\"}\n",
      "\n",
      "Topic proportion: 0.9466666666574222\n",
      "{'rotten_tomatoes_link': 'm/ace_ventura_pet_detective', 'critic_name': 'Jonathan Rosenbaum', 'top_critic': 'True', 'publisher_name': 'Chicago Reader', 'review_type': 'Rotten', 'review_score': '', 'review_date': '2010-11-08', 'review_content': 'The most obnoxious case of masculine swagger since Andrew Dice Clay, with just a tad of Paul Lynde thrown in for spice, Jim Carrey defies you not to bolt for the exit.'}\n",
      "\n",
      "Topic proportion: 0.946666666657264\n",
      "{'rotten_tomatoes_link': 'm/before_we_go', 'critic_name': 'Brian Orndorf', 'top_critic': 'False', 'publisher_name': 'Blu-ray.com', 'review_type': 'Rotten', 'review_score': 'C-', 'review_date': '2015-09-02', 'review_content': '\"Before We Go\" contracts a case of the cutes one too many times, hunting for a way to be likeable and romantic when the material demands restraint, trusting in the nature of basic human decency.'}\n",
      "\n",
      "Topic proportion: 0.9466666666556048\n",
      "{'rotten_tomatoes_link': 'm/quartet_2012', 'critic_name': 'Mark Adams', 'top_critic': 'False', 'publisher_name': 'Screen International', 'review_type': 'Fresh', 'review_score': '', 'review_date': '2013-12-22', 'review_content': \"Dustin Hoffman's directorial debut is an affectionate, moving and charming film that offers a series of wonderful roles for a distinguished cast of veteran British performers.\"}\n",
      "\n",
      "Topic proportion: 0.9466666666546278\n",
      "{'rotten_tomatoes_link': 'm/1016819-producers', 'critic_name': 'Bob Bloom', 'top_critic': 'False', 'publisher_name': 'Journal and Courier (Lafayette, IN)', 'review_type': 'Fresh', 'review_score': '5/5', 'review_date': '2003-03-21', 'review_content': 'Great, great, great! \"Springtime for Hitler,\" one of the funniest sequences ever put on film! Wilder is great, Mostel, a force of nature. Always fresh, no matter how often you see it.'}\n",
      "\n"
     ]
    }
   ],
   "source": [
    "def get_top_docs_by_topic(docs, doc_topic_vecs, topic, n_top_docs=50):\n",
    "    doc_idxs = doc_topic_vecs[:,topic].argsort()[:-n_top_docs-1:-1]\n",
    "    for idx in doc_idxs:\n",
    "        print(\"Topic proportion:\", doc_topic_vecs[idx][topic])\n",
    "        print(docs[idx])\n",
    "        print()\n",
    "\n",
    "get_top_docs_by_topic(comedy_reviews, doc_topic_vecs, 0)"
   ]
  },
  {
   "cell_type": "markdown",
   "id": "8816e0f8",
   "metadata": {},
   "source": [
    "___\n",
    "\n",
    "For access to all three lessons, go to [https://github.com/xandaschofield/tapi-text-data]"
   ]
  },
  {
   "cell_type": "code",
   "execution_count": null,
   "id": "fc9dfb64",
   "metadata": {},
   "outputs": [],
   "source": []
  }
 ],
 "metadata": {
  "kernelspec": {
   "display_name": "Python 3 (ipykernel)",
   "language": "python",
   "name": "python3"
  },
  "language_info": {
   "codemirror_mode": {
    "name": "ipython",
    "version": 3
   },
   "file_extension": ".py",
   "mimetype": "text/x-python",
   "name": "python",
   "nbconvert_exporter": "python",
   "pygments_lexer": "ipython3",
   "version": "3.9.7"
  },
  "toc": {
   "base_numbering": 1,
   "nav_menu": {},
   "number_sections": true,
   "sideBar": true,
   "skip_h1_title": false,
   "title_cell": "Table of Contents",
   "title_sidebar": "Contents",
   "toc_cell": false,
   "toc_position": {},
   "toc_section_display": true,
   "toc_window_display": true
  }
 },
 "nbformat": 4,
 "nbformat_minor": 5
}
