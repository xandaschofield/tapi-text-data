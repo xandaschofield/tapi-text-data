{
 "cells": [
  {
   "cell_type": "markdown",
   "id": "b1863aa2",
   "metadata": {},
   "source": [
    "<img align=\"left\" src=\"https://ithaka-labs.s3.amazonaws.com/static-files/images/tdm/tdmdocs/tapi-logo-small.png\" />\n",
    "\n",
    "This notebook free for educational reuse under [Creative Commons CC BY License](https://creativecommons.org/licenses/by/4.0/).\n",
    "\n",
    "Created by [Xanda Schofield](https://www.cs.hmc.edu/~xanda) for the 2022 Text Analysis Pedagogy Institute, with support from the [National Endowment for the Humanities](https://neh.gov), [JSTOR Labs](https://labs.jstor.org/), and [University of Arizona Libraries](https://new.library.arizona.edu/).\n",
    "\n",
    "For questions/comments/improvements, email xanda@cs.hmc.edu.<br />\n",
    "____"
   ]
  },
  {
   "cell_type": "markdown",
   "id": "fbb73582",
   "metadata": {},
   "source": [
    "# Text Data Curation 3\n",
    "\n",
    "This is lesson 3 of 3 in the educational series on Text Data Curation. This notebook is intended to look at how trained models, such as naive Bayes models and topic models, can actually help the text curation process. \n",
    "\n",
    "**Audience:** `Learners` / `Researchers`\n",
    "\n",
    "**Use case:** [`How-To`](https://constellate.org/docs/documentation-categories#howtoproblemoriented) \n",
    "\n",
    "**Difficulty:** `Intermediate`\n",
    "Assumes users are familiar with Python and have been programming for 6+ months. Code makes up a larger part of the notebook and basic concepts related to Python are not explained.\n",
    "\n",
    "**Completion time:** `90 minutes`\n",
    "\n",
    "**Knowledge Required:** \n",
    "```\n",
    "* Python basics (variables, flow control, functions, lists, dictionaries)\n",
    "* How Python libraries work (installation and imports)\n",
    "```\n",
    "\n",
    "**Knowledge Recommended:**\n",
    "```\n",
    "* Basic file operations (open, close, read, write)\n",
    "* How text is stored on computers\n",
    "```\n",
    "\n",
    "**Learning Objectives:**\n",
    "After this lesson, learners will be able to:\n",
    "```\n",
    "1. Describe and implement an XXXX for XXXX\n",
    "2. Convert XXXX into XXXX for the purpose of XXXX\n",
    "3. Develop a workflow in order to XXXX\n",
    "4. Be familiar with XXXXX resources for pursuing the topic\n",
    "```\n",
    "**Research Pipeline:**\n",
    "```\n",
    "1. Research steps before this notebook\n",
    "2. **The skills in this notebook**\n",
    "3. Steps after this notebook\n",
    "4. Final steps\n",
    "```\n",
    "___"
   ]
  },
  {
   "cell_type": "markdown",
   "id": "785b4e29",
   "metadata": {},
   "source": [
    "# Required Python Libraries\n",
    "`List out any libraries used and what they are used for`\n",
    "* [Tesseract](https://tesseract-ocr.github.io/) for performing [optical character recognition](https://docs.constellate.org/key-terms/#ocr).\n",
    "* [Pandas](https://pandas.pydata.org/) for manipulating and cleaning data.\n",
    "* [Pdf2image](https://pdf2image.readthedocs.io/en/latest/) for converting pdf files into image files.\n",
    "\n",
    "## Install Required Libraries"
   ]
  },
  {
   "cell_type": "code",
   "execution_count": 7,
   "id": "9d2cce8d",
   "metadata": {},
   "outputs": [
    {
     "name": "stdout",
     "output_type": "stream",
     "text": [
      "Requirement already satisfied: spacy in c:\\users\\xanda\\anaconda3\\lib\\site-packages (3.3.1)\n",
      "Requirement already satisfied: typer<0.5.0,>=0.3.0 in c:\\users\\xanda\\anaconda3\\lib\\site-packages (from spacy) (0.4.1)\n",
      "Requirement already satisfied: wasabi<1.1.0,>=0.9.1 in c:\\users\\xanda\\anaconda3\\lib\\site-packages (from spacy) (0.9.1)\n",
      "Requirement already satisfied: murmurhash<1.1.0,>=0.28.0 in c:\\users\\xanda\\anaconda3\\lib\\site-packages (from spacy) (1.0.7)\n",
      "Requirement already satisfied: preshed<3.1.0,>=3.0.2 in c:\\users\\xanda\\anaconda3\\lib\\site-packages (from spacy) (3.0.6)\n",
      "Requirement already satisfied: cymem<2.1.0,>=2.0.2 in c:\\users\\xanda\\anaconda3\\lib\\site-packages (from spacy) (2.0.6)\n",
      "Requirement already satisfied: spacy-loggers<2.0.0,>=1.0.0 in c:\\users\\xanda\\anaconda3\\lib\\site-packages (from spacy) (1.0.2)\n",
      "Requirement already satisfied: srsly<3.0.0,>=2.4.3 in c:\\users\\xanda\\anaconda3\\lib\\site-packages (from spacy) (2.4.3)\n",
      "Requirement already satisfied: catalogue<2.1.0,>=2.0.6 in c:\\users\\xanda\\anaconda3\\lib\\site-packages (from spacy) (2.0.7)\n",
      "Requirement already satisfied: pathy>=0.3.5 in c:\\users\\xanda\\anaconda3\\lib\\site-packages (from spacy) (0.6.1)\n",
      "Requirement already satisfied: blis<0.8.0,>=0.4.0 in c:\\users\\xanda\\anaconda3\\lib\\site-packages (from spacy) (0.7.8)\n",
      "Requirement already satisfied: pydantic!=1.8,!=1.8.1,<1.9.0,>=1.7.4 in c:\\users\\xanda\\anaconda3\\lib\\site-packages (from spacy) (1.8.2)\n",
      "Requirement already satisfied: tqdm<5.0.0,>=4.38.0 in c:\\users\\xanda\\anaconda3\\lib\\site-packages (from spacy) (4.62.3)\n",
      "Requirement already satisfied: thinc<8.1.0,>=8.0.14 in c:\\users\\xanda\\anaconda3\\lib\\site-packages (from spacy) (8.0.17)\n",
      "Requirement already satisfied: setuptools in c:\\users\\xanda\\anaconda3\\lib\\site-packages (from spacy) (58.0.4)\n",
      "Requirement already satisfied: langcodes<4.0.0,>=3.2.0 in c:\\users\\xanda\\anaconda3\\lib\\site-packages (from spacy) (3.3.0)\n",
      "Requirement already satisfied: requests<3.0.0,>=2.13.0 in c:\\users\\xanda\\anaconda3\\lib\\site-packages (from spacy) (2.26.0)\n",
      "Requirement already satisfied: spacy-legacy<3.1.0,>=3.0.9 in c:\\users\\xanda\\anaconda3\\lib\\site-packages (from spacy) (3.0.9)\n",
      "Requirement already satisfied: jinja2 in c:\\users\\xanda\\anaconda3\\lib\\site-packages (from spacy) (2.11.3)\n",
      "Requirement already satisfied: numpy>=1.15.0 in c:\\users\\xanda\\anaconda3\\lib\\site-packages (from spacy) (1.20.3)\n",
      "Requirement already satisfied: packaging>=20.0 in c:\\users\\xanda\\anaconda3\\lib\\site-packages (from spacy) (21.0)\n",
      "Requirement already satisfied: pyparsing>=2.0.2 in c:\\users\\xanda\\anaconda3\\lib\\site-packages (from packaging>=20.0->spacy) (3.0.4)\n",
      "Requirement already satisfied: smart-open<6.0.0,>=5.0.0 in c:\\users\\xanda\\anaconda3\\lib\\site-packages (from pathy>=0.3.5->spacy) (5.2.1)\n",
      "Requirement already satisfied: typing-extensions>=3.7.4.3 in c:\\users\\xanda\\anaconda3\\lib\\site-packages (from pydantic!=1.8,!=1.8.1,<1.9.0,>=1.7.4->spacy) (3.10.0.2)\n",
      "Requirement already satisfied: idna<4,>=2.5 in c:\\users\\xanda\\anaconda3\\lib\\site-packages (from requests<3.0.0,>=2.13.0->spacy) (3.2)\n",
      "Requirement already satisfied: charset-normalizer~=2.0.0 in c:\\users\\xanda\\anaconda3\\lib\\site-packages (from requests<3.0.0,>=2.13.0->spacy) (2.0.4)\n",
      "Requirement already satisfied: certifi>=2017.4.17 in c:\\users\\xanda\\anaconda3\\lib\\site-packages (from requests<3.0.0,>=2.13.0->spacy) (2021.10.8)\n",
      "Requirement already satisfied: urllib3<1.27,>=1.21.1 in c:\\users\\xanda\\anaconda3\\lib\\site-packages (from requests<3.0.0,>=2.13.0->spacy) (1.26.7)\n",
      "Requirement already satisfied: colorama in c:\\users\\xanda\\anaconda3\\lib\\site-packages (from tqdm<5.0.0,>=4.38.0->spacy) (0.4.4)\n",
      "Requirement already satisfied: click<9.0.0,>=7.1.1 in c:\\users\\xanda\\anaconda3\\lib\\site-packages (from typer<0.5.0,>=0.3.0->spacy) (8.0.3)\n",
      "Requirement already satisfied: MarkupSafe>=0.23 in c:\\users\\xanda\\anaconda3\\lib\\site-packages (from jinja2->spacy) (1.1.1)\n",
      "Collecting en-core-web-sm==3.3.0\n",
      "  Downloading https://github.com/explosion/spacy-models/releases/download/en_core_web_sm-3.3.0/en_core_web_sm-3.3.0-py3-none-any.whl (12.8 MB)\n",
      "Requirement already satisfied: spacy<3.4.0,>=3.3.0.dev0 in c:\\users\\xanda\\anaconda3\\lib\\site-packages (from en-core-web-sm==3.3.0) (3.3.1)\n",
      "Requirement already satisfied: spacy-loggers<2.0.0,>=1.0.0 in c:\\users\\xanda\\anaconda3\\lib\\site-packages (from spacy<3.4.0,>=3.3.0.dev0->en-core-web-sm==3.3.0) (1.0.2)\n",
      "Requirement already satisfied: murmurhash<1.1.0,>=0.28.0 in c:\\users\\xanda\\anaconda3\\lib\\site-packages (from spacy<3.4.0,>=3.3.0.dev0->en-core-web-sm==3.3.0) (1.0.7)\n",
      "Requirement already satisfied: spacy-legacy<3.1.0,>=3.0.9 in c:\\users\\xanda\\anaconda3\\lib\\site-packages (from spacy<3.4.0,>=3.3.0.dev0->en-core-web-sm==3.3.0) (3.0.9)\n",
      "Requirement already satisfied: cymem<2.1.0,>=2.0.2 in c:\\users\\xanda\\anaconda3\\lib\\site-packages (from spacy<3.4.0,>=3.3.0.dev0->en-core-web-sm==3.3.0) (2.0.6)\n",
      "Requirement already satisfied: tqdm<5.0.0,>=4.38.0 in c:\\users\\xanda\\anaconda3\\lib\\site-packages (from spacy<3.4.0,>=3.3.0.dev0->en-core-web-sm==3.3.0) (4.62.3)\n",
      "Requirement already satisfied: wasabi<1.1.0,>=0.9.1 in c:\\users\\xanda\\anaconda3\\lib\\site-packages (from spacy<3.4.0,>=3.3.0.dev0->en-core-web-sm==3.3.0) (0.9.1)\n",
      "Requirement already satisfied: langcodes<4.0.0,>=3.2.0 in c:\\users\\xanda\\anaconda3\\lib\\site-packages (from spacy<3.4.0,>=3.3.0.dev0->en-core-web-sm==3.3.0) (3.3.0)\n",
      "Requirement already satisfied: typer<0.5.0,>=0.3.0 in c:\\users\\xanda\\anaconda3\\lib\\site-packages (from spacy<3.4.0,>=3.3.0.dev0->en-core-web-sm==3.3.0) (0.4.1)\n",
      "Requirement already satisfied: numpy>=1.15.0 in c:\\users\\xanda\\anaconda3\\lib\\site-packages (from spacy<3.4.0,>=3.3.0.dev0->en-core-web-sm==3.3.0) (1.20.3)\n",
      "Requirement already satisfied: catalogue<2.1.0,>=2.0.6 in c:\\users\\xanda\\anaconda3\\lib\\site-packages (from spacy<3.4.0,>=3.3.0.dev0->en-core-web-sm==3.3.0) (2.0.7)\n",
      "Requirement already satisfied: pydantic!=1.8,!=1.8.1,<1.9.0,>=1.7.4 in c:\\users\\xanda\\anaconda3\\lib\\site-packages (from spacy<3.4.0,>=3.3.0.dev0->en-core-web-sm==3.3.0) (1.8.2)\n",
      "Requirement already satisfied: packaging>=20.0 in c:\\users\\xanda\\anaconda3\\lib\\site-packages (from spacy<3.4.0,>=3.3.0.dev0->en-core-web-sm==3.3.0) (21.0)\n",
      "Requirement already satisfied: blis<0.8.0,>=0.4.0 in c:\\users\\xanda\\anaconda3\\lib\\site-packages (from spacy<3.4.0,>=3.3.0.dev0->en-core-web-sm==3.3.0) (0.7.8)\n",
      "Requirement already satisfied: requests<3.0.0,>=2.13.0 in c:\\users\\xanda\\anaconda3\\lib\\site-packages (from spacy<3.4.0,>=3.3.0.dev0->en-core-web-sm==3.3.0) (2.26.0)\n",
      "Requirement already satisfied: pathy>=0.3.5 in c:\\users\\xanda\\anaconda3\\lib\\site-packages (from spacy<3.4.0,>=3.3.0.dev0->en-core-web-sm==3.3.0) (0.6.1)\n",
      "Requirement already satisfied: setuptools in c:\\users\\xanda\\anaconda3\\lib\\site-packages (from spacy<3.4.0,>=3.3.0.dev0->en-core-web-sm==3.3.0) (58.0.4)\n",
      "Requirement already satisfied: preshed<3.1.0,>=3.0.2 in c:\\users\\xanda\\anaconda3\\lib\\site-packages (from spacy<3.4.0,>=3.3.0.dev0->en-core-web-sm==3.3.0) (3.0.6)\n",
      "Requirement already satisfied: thinc<8.1.0,>=8.0.14 in c:\\users\\xanda\\anaconda3\\lib\\site-packages (from spacy<3.4.0,>=3.3.0.dev0->en-core-web-sm==3.3.0) (8.0.17)\n",
      "Requirement already satisfied: srsly<3.0.0,>=2.4.3 in c:\\users\\xanda\\anaconda3\\lib\\site-packages (from spacy<3.4.0,>=3.3.0.dev0->en-core-web-sm==3.3.0) (2.4.3)\n",
      "Requirement already satisfied: jinja2 in c:\\users\\xanda\\anaconda3\\lib\\site-packages (from spacy<3.4.0,>=3.3.0.dev0->en-core-web-sm==3.3.0) (2.11.3)\n",
      "Requirement already satisfied: pyparsing>=2.0.2 in c:\\users\\xanda\\anaconda3\\lib\\site-packages (from packaging>=20.0->spacy<3.4.0,>=3.3.0.dev0->en-core-web-sm==3.3.0) (3.0.4)\n",
      "Requirement already satisfied: smart-open<6.0.0,>=5.0.0 in c:\\users\\xanda\\anaconda3\\lib\\site-packages (from pathy>=0.3.5->spacy<3.4.0,>=3.3.0.dev0->en-core-web-sm==3.3.0) (5.2.1)\n",
      "Requirement already satisfied: typing-extensions>=3.7.4.3 in c:\\users\\xanda\\anaconda3\\lib\\site-packages (from pydantic!=1.8,!=1.8.1,<1.9.0,>=1.7.4->spacy<3.4.0,>=3.3.0.dev0->en-core-web-sm==3.3.0) (3.10.0.2)\n",
      "Requirement already satisfied: urllib3<1.27,>=1.21.1 in c:\\users\\xanda\\anaconda3\\lib\\site-packages (from requests<3.0.0,>=2.13.0->spacy<3.4.0,>=3.3.0.dev0->en-core-web-sm==3.3.0) (1.26.7)\n",
      "Requirement already satisfied: charset-normalizer~=2.0.0 in c:\\users\\xanda\\anaconda3\\lib\\site-packages (from requests<3.0.0,>=2.13.0->spacy<3.4.0,>=3.3.0.dev0->en-core-web-sm==3.3.0) (2.0.4)\n",
      "Requirement already satisfied: idna<4,>=2.5 in c:\\users\\xanda\\anaconda3\\lib\\site-packages (from requests<3.0.0,>=2.13.0->spacy<3.4.0,>=3.3.0.dev0->en-core-web-sm==3.3.0) (3.2)\n",
      "Requirement already satisfied: certifi>=2017.4.17 in c:\\users\\xanda\\anaconda3\\lib\\site-packages (from requests<3.0.0,>=2.13.0->spacy<3.4.0,>=3.3.0.dev0->en-core-web-sm==3.3.0) (2021.10.8)\n",
      "Requirement already satisfied: colorama in c:\\users\\xanda\\anaconda3\\lib\\site-packages (from tqdm<5.0.0,>=4.38.0->spacy<3.4.0,>=3.3.0.dev0->en-core-web-sm==3.3.0) (0.4.4)\n",
      "Requirement already satisfied: click<9.0.0,>=7.1.1 in c:\\users\\xanda\\anaconda3\\lib\\site-packages (from typer<0.5.0,>=0.3.0->spacy<3.4.0,>=3.3.0.dev0->en-core-web-sm==3.3.0) (8.0.3)\n",
      "Requirement already satisfied: MarkupSafe>=0.23 in c:\\users\\xanda\\anaconda3\\lib\\site-packages (from jinja2->spacy<3.4.0,>=3.3.0.dev0->en-core-web-sm==3.3.0) (1.1.1)\n",
      "[+] Download and installation successful\n",
      "You can now load the package via spacy.load('en_core_web_sm')\n"
     ]
    }
   ],
   "source": [
    "### Install Libraries ###\n",
    "\n",
    "# # Using !pip installs\n",
    "# !pip install spacy\n",
    "# !python -m spacy download en_core_web_sm"
   ]
  },
  {
   "cell_type": "code",
   "execution_count": 89,
   "id": "f1eb2aa9",
   "metadata": {},
   "outputs": [],
   "source": [
    "### Import Libraries ###\n",
    "from collections import Counter\n",
    "import csv\n",
    "import os\n",
    "import urllib.request\n",
    "\n",
    "from matplotlib import pyplot as plt\n",
    "from nltk.tokenize import word_tokenize\n",
    "import numpy as np\n",
    "import seaborn\n",
    "from sklearn.decomposition import LatentDirichletAllocation\n",
    "from sklearn.feature_extraction.text import CountVectorizer\n",
    "from sklearn.metrics import confusion_matrix\n",
    "from sklearn.model_selection import cross_val_predict, train_test_split\n",
    "from sklearn.naive_bayes import MultinomialNB\n",
    "# import spacy"
   ]
  },
  {
   "cell_type": "markdown",
   "id": "4db1a6ae",
   "metadata": {},
   "source": [
    "# Required Data\n",
    "\n",
    "**Data Format:** \n",
    "* comma-separated value (.csv)\n",
    "\n",
    "**Data Source:**\n",
    "* [Rotten Tomatoes Dataset](https://www.kaggle.com/datasets/stefanoleone992/rotten-tomatoes-movies-and-critic-reviews-dataset)\n",
    "\n",
    "\n",
    "## Download Required Data"
   ]
  },
  {
   "cell_type": "code",
   "execution_count": null,
   "id": "78186209",
   "metadata": {},
   "outputs": [],
   "source": [
    "### Retrieve multiple files using a list ###\n",
    "\n",
    "download_urls = [\n",
    "    'https://cs.hmc.edu/~xanda/data/poemas_metadata.json'\n",
    "]\n",
    "\n",
    "for url in download_urls:\n",
    "    urllib.request.urlretrieve(url, url.rsplit('/', 1)[-1])"
   ]
  },
  {
   "cell_type": "markdown",
   "id": "6f11c162",
   "metadata": {},
   "source": [
    "# Introduction\n",
    "\n",
    "```\n",
    "Introduce the lesson topic. Answer questions such as:\n",
    "* Why is it useful? \n",
    "* Why should we learn it? \n",
    "* Who might use it? \n",
    "* Where has it been used by scholars/industry?\n",
    "* What do we need to do it?\n",
    "* What subjects are included in the notebooks?\n",
    "* What is not in this notebook? Where should we look for it?\n",
    "```"
   ]
  },
  {
   "cell_type": "markdown",
   "id": "2a2540b0",
   "metadata": {},
   "source": [
    "# Lesson"
   ]
  },
  {
   "cell_type": "code",
   "execution_count": 4,
   "id": "28ac05e6",
   "metadata": {},
   "outputs": [],
   "source": [
    "\"\"\"\n",
    "First, load in movie review data from RottenTomatoes. Sample will be in a CSV\n",
    "Next, look at data and check features - lengths reasonable? top/bottom features seem normal? Who are our reviewers? What's the fresh vs rotten ratio?\n",
    "+ Develop some hypotheses of things that might cause issues with this data\n",
    "Check for repeats - should be there (will add some if there aren't)\n",
    "Train classifier for fresh vs rotten - any obvious features? Find something promising and something weird!\n",
    "+ Specific movie names? (Overrepresent a movie?)\n",
    "+ Unusual features for sentiment?\n",
    "Train topic model with 5 topics - what do they look like?\n",
    "+ Spot high-frequency unusual features\n",
    "+ Find a weird topic (may need more topics) and look at docs - any sign of why they're together?\n",
    "\n",
    "What is the point of this process?\n",
    "+ First, sometimes it's not obvious immediately that something is wrong (ex. unusual feature or copyright text) - that's okay\n",
    "+ Sometimes it's going to be hard to know you need something until you get into it (I need to limit # of each movie) - also okay\n",
    "+ Models fixate on unusual distinguishers so they can actually be good sleuths...so long as you have an evaluation plan afterwards\n",
    "   - Held out test set until the very end\n",
    "   - Human validation (labeling task or comparison task)\n",
    "   \n",
    "   \n",
    "What works?\n",
    "+ Keeping a log of choices\n",
    "+ Trying several options at once\n",
    "+ Don't remove stuff unless you have a reason why related to your question\n",
    "+ \n",
    "\"\"\""
   ]
  },
  {
   "cell_type": "code",
   "execution_count": 26,
   "id": "f26dbe43",
   "metadata": {},
   "outputs": [],
   "source": [
    "with open(\"rotten_tomatoes_critic_reviews.csv\", encoding='utf-8') as reviews_file:\n",
    "    csvr = csv.DictReader(reviews_file)\n",
    "    review_data = [row for row in csvr]"
   ]
  },
  {
   "cell_type": "code",
   "execution_count": 32,
   "id": "fb3cea03",
   "metadata": {},
   "outputs": [
    {
     "name": "stdout",
     "output_type": "stream",
     "text": [
      "# of reviews: 1130017\n",
      "{'rotten_tomatoes_link': 'm/0814255', 'critic_name': 'Andrew L. Urban', 'top_critic': 'False', 'publisher_name': 'Urban Cinefile', 'review_type': 'Fresh', 'review_score': '', 'review_date': '2010-02-06', 'review_content': 'A fantasy adventure that fuses Greek mythology to contemporary American places and values. Anyone around 15 (give or take a couple of years) will thrill to the visual spectacle'}\n"
     ]
    }
   ],
   "source": [
    "print(\"# of reviews:\", len(review_data))\n",
    "print(review_data[0])"
   ]
  },
  {
   "cell_type": "code",
   "execution_count": 71,
   "id": "b53e8f25",
   "metadata": {},
   "outputs": [],
   "source": [
    "ID_LINK = 'rotten_tomatoes_link'\n",
    "TYPE = 'review_type'\n",
    "TEXT = 'review_content'"
   ]
  },
  {
   "cell_type": "code",
   "execution_count": 27,
   "id": "52c10f44",
   "metadata": {},
   "outputs": [],
   "source": [
    "with open(\"rotten_tomatoes_movies.csv\", encoding='utf-8') as movies_file:\n",
    "    csvr = csv.DictReader(movies_file)\n",
    "    movie_data = [row for row in csvr]"
   ]
  },
  {
   "cell_type": "code",
   "execution_count": 33,
   "id": "49e00da2",
   "metadata": {},
   "outputs": [
    {
     "name": "stdout",
     "output_type": "stream",
     "text": [
      "# of movies: 17712\n",
      "{'rotten_tomatoes_link': 'm/0814255', 'movie_title': 'Percy Jackson & the Olympians: The Lightning Thief', 'movie_info': \"Always trouble-prone, the life of teenager Percy Jackson (Logan Lerman) gets a lot more complicated when he learns he's the son of the Greek god Poseidon. At a training ground for the children of deities, Percy learns to harness his divine powers and prepare for the adventure of a lifetime: he must prevent a feud among the Olympians from erupting into a devastating war on Earth, and rescue his mother from the clutches of Hades, god of the underworld.\", 'critics_consensus': 'Though it may seem like just another Harry Potter knockoff, Percy Jackson benefits from a strong supporting cast, a speedy plot, and plenty of fun with Greek mythology.', 'content_rating': 'PG', 'genres': 'Action & Adventure, Comedy, Drama, Science Fiction & Fantasy', 'directors': 'Chris Columbus', 'authors': 'Craig Titley, Chris Columbus, Rick Riordan', 'actors': \"Logan Lerman, Brandon T. Jackson, Alexandra Daddario, Jake Abel, Sean Bean, Pierce Brosnan, Steve Coogan, Rosario Dawson, Melina Kanakaredes, Catherine Keener, Kevin Mckidd, Joe Pantoliano, Uma Thurman, Ray Winstone, Julian Richings, Bonita Friedericy, Annie Ilonzeh, Tania Saulnier, Marie Avgeropoulos, Luisa D'Oliveira, Christie Laing, Marielle Jaffe, Elisa King, Chrystal Tisiga, Alexis Knapp, Charlie Gallant, Chelan Simmons, Andrea Brooks, Natassia Malthe, Max Van Ville, Serinda Swan, Dimitri Lekkos, Ona Grauer, Stefanie von Pfetten, Conrad Coates, Erica Cerra, Dylan Neal, Luke Camilleri, Holly Hougham, Ina Geraldine, Raquel Riskin, Yusleidis Oquendo, Janine Edwards, Valerie Tian, Violet Columbus, Sarah Smyth, Merritt Patterson, Julie Luck, Andrea Day, John Stewart, Suzanne Ristic, Deejay Jackson, Matthew Garrick, Stan Carp, Suzanna Ristic, Richard Harmon, Maria Olsen, Robin Lemon, Doyle Devereux, Tom Pickett, VJ Delos-Reyes, Tim Aas, Keith Dallas, Spencer Atkinson, Maya Washington, Loyd Bateman, Victor Ayala, Zane Holtz, Eli Zagoudakis, Matt Reimer, Rob Hayter, Lloyd Bateman, Shawn Beaton, Jarod Joseph, Reilly Dolman, Paul Cummings, Julie Brar, Dejan Loyola, Damian Arman, Mario Casoria, Dorla Bell, Carolyn Adair (II), Jade Pawluk, G. Patrick Currie, Darian Arman, Mariela Zapata, David L. Smith\", 'original_release_date': '2010-02-12', 'streaming_release_date': '2015-11-25', 'runtime': '119', 'production_company': '20th Century Fox', 'tomatometer_status': 'Rotten', 'tomatometer_rating': '49', 'tomatometer_count': '149', 'audience_status': 'Spilled', 'audience_rating': '53', 'audience_count': '254421', 'tomatometer_top_critics_count': '43', 'tomatometer_fresh_critics_count': '73', 'tomatometer_rotten_critics_count': '76'}\n"
     ]
    }
   ],
   "source": [
    "print(\"# of movies:\", len(movie_data))\n",
    "print(movie_data[0])"
   ]
  },
  {
   "cell_type": "code",
   "execution_count": 55,
   "id": "25233731",
   "metadata": {},
   "outputs": [],
   "source": [
    "movie_lookup = {md[ID_LINK]: md for md in movie_data}"
   ]
  },
  {
   "cell_type": "code",
   "execution_count": 56,
   "id": "f9c38861",
   "metadata": {},
   "outputs": [
    {
     "data": {
      "text/plain": [
       "{'rotten_tomatoes_link': 'm/0814255',\n",
       " 'movie_title': 'Percy Jackson & the Olympians: The Lightning Thief',\n",
       " 'movie_info': \"Always trouble-prone, the life of teenager Percy Jackson (Logan Lerman) gets a lot more complicated when he learns he's the son of the Greek god Poseidon. At a training ground for the children of deities, Percy learns to harness his divine powers and prepare for the adventure of a lifetime: he must prevent a feud among the Olympians from erupting into a devastating war on Earth, and rescue his mother from the clutches of Hades, god of the underworld.\",\n",
       " 'critics_consensus': 'Though it may seem like just another Harry Potter knockoff, Percy Jackson benefits from a strong supporting cast, a speedy plot, and plenty of fun with Greek mythology.',\n",
       " 'content_rating': 'PG',\n",
       " 'genres': 'Action & Adventure, Comedy, Drama, Science Fiction & Fantasy',\n",
       " 'directors': 'Chris Columbus',\n",
       " 'authors': 'Craig Titley, Chris Columbus, Rick Riordan',\n",
       " 'actors': \"Logan Lerman, Brandon T. Jackson, Alexandra Daddario, Jake Abel, Sean Bean, Pierce Brosnan, Steve Coogan, Rosario Dawson, Melina Kanakaredes, Catherine Keener, Kevin Mckidd, Joe Pantoliano, Uma Thurman, Ray Winstone, Julian Richings, Bonita Friedericy, Annie Ilonzeh, Tania Saulnier, Marie Avgeropoulos, Luisa D'Oliveira, Christie Laing, Marielle Jaffe, Elisa King, Chrystal Tisiga, Alexis Knapp, Charlie Gallant, Chelan Simmons, Andrea Brooks, Natassia Malthe, Max Van Ville, Serinda Swan, Dimitri Lekkos, Ona Grauer, Stefanie von Pfetten, Conrad Coates, Erica Cerra, Dylan Neal, Luke Camilleri, Holly Hougham, Ina Geraldine, Raquel Riskin, Yusleidis Oquendo, Janine Edwards, Valerie Tian, Violet Columbus, Sarah Smyth, Merritt Patterson, Julie Luck, Andrea Day, John Stewart, Suzanne Ristic, Deejay Jackson, Matthew Garrick, Stan Carp, Suzanna Ristic, Richard Harmon, Maria Olsen, Robin Lemon, Doyle Devereux, Tom Pickett, VJ Delos-Reyes, Tim Aas, Keith Dallas, Spencer Atkinson, Maya Washington, Loyd Bateman, Victor Ayala, Zane Holtz, Eli Zagoudakis, Matt Reimer, Rob Hayter, Lloyd Bateman, Shawn Beaton, Jarod Joseph, Reilly Dolman, Paul Cummings, Julie Brar, Dejan Loyola, Damian Arman, Mario Casoria, Dorla Bell, Carolyn Adair (II), Jade Pawluk, G. Patrick Currie, Darian Arman, Mariela Zapata, David L. Smith\",\n",
       " 'original_release_date': '2010-02-12',\n",
       " 'streaming_release_date': '2015-11-25',\n",
       " 'runtime': '119',\n",
       " 'production_company': '20th Century Fox',\n",
       " 'tomatometer_status': 'Rotten',\n",
       " 'tomatometer_rating': '49',\n",
       " 'tomatometer_count': '149',\n",
       " 'audience_status': 'Spilled',\n",
       " 'audience_rating': '53',\n",
       " 'audience_count': '254421',\n",
       " 'tomatometer_top_critics_count': '43',\n",
       " 'tomatometer_fresh_critics_count': '73',\n",
       " 'tomatometer_rotten_critics_count': '76'}"
      ]
     },
     "execution_count": 56,
     "metadata": {},
     "output_type": "execute_result"
    }
   ],
   "source": [
    "movie_lookup['m/0814255']"
   ]
  },
  {
   "cell_type": "code",
   "execution_count": 57,
   "id": "6ec1d8da",
   "metadata": {},
   "outputs": [
    {
     "name": "stdout",
     "output_type": "stream",
     "text": [
      "m/star_wars_the_rise_of_skywalker 992\n",
      "m/solo_a_star_wars_story 948\n",
      "m/star_wars_the_last_jedi 946\n",
      "m/rogue_one_a_star_wars_story 892\n",
      "m/spider_man_far_from_home 880\n",
      "m/star_wars_episode_vii_the_force_awakens 874\n",
      "m/ready_player_one 866\n",
      "m/shazam 808\n",
      "m/spider_man_homecoming 780\n",
      "m/roma_2018 774\n",
      "m/spider_man_into_the_spider_verse 766\n",
      "m/suicide_squad_2016 756\n",
      "m/rocketman_2019 754\n",
      "m/skyfall 754\n",
      "m/spotlight_2015 734\n",
      "m/spectre_2015 718\n",
      "m/star_trek_11 704\n",
      "m/sully 682\n",
      "m/room_2015 624\n",
      "m/steve_jobs_2015 624\n",
      "m/star_trek_beyond 618\n",
      "m/selma 616\n",
      "m/prometheus_2012 610\n",
      "m/split_2017 610\n",
      "m/portrait_of_a_lady_on_fire 604\n",
      "m/sorry_to_bother_you_2018 604\n",
      "m/star_wars_episode_iii_revenge_of_the_sith 598\n",
      "m/ready_or_not_2019 596\n",
      "m/red_sparrow 592\n",
      "m/quantum_of_solace 588\n",
      "m/star_trek_into_darkness 584\n",
      "m/richard_jewell 578\n",
      "m/slumdog_millionaire 576\n",
      "m/super_8 576\n",
      "m/joker_2019 574\n",
      "m/skyscraper_2018 572\n",
      "m/sicario_day_of_the_soldado 570\n",
      "m/silence_2017 562\n",
      "m/once_upon_a_time_in_hollywood 554\n",
      "m/rampage_2018 550\n",
      "m/spiderman_2 548\n",
      "m/ralph_breaks_the_internet 544\n",
      "m/sicario_2015 544\n",
      "m/scott_pilgrims_vs_the_world 542\n",
      "m/rise_of_the_planet_of_the_apes 538\n",
      "m/us_2019 535\n",
      "m/avengers_endgame 528\n",
      "m/source_code 524\n",
      "m/captain_marvel 523\n",
      "m/spiderman_3 522\n",
      "m/saving_mr_banks_2013 520\n",
      "m/a_star_is_born_2018 517\n",
      "m/snowden 514\n",
      "m/spy_2015 514\n",
      "m/black_panther_2018 512\n",
      "m/silver_linings_playbook 512\n",
      "m/suburbicon 508\n",
      "m/snowpiercer 506\n",
      "m/star_wars_episode_ii_attack_of_the_clones 506\n",
      "m/prisoners_2013 504\n",
      "m/sin_city 504\n",
      "m/ratatouille 500\n",
      "m/robin_hood_2010 498\n",
      "m/searching_2018 496\n",
      "m/sherlock_holmes_2009 490\n",
      "m/spiderman 490\n",
      "m/straight_outta_compton 490\n",
      "m/san_andreas 488\n",
      "m/snow_white_and_the_huntsman 474\n",
      "m/sonic_the_hedgehog_2020 474\n",
      "m/southpaw_2015 474\n",
      "m/avengers_infinity_war 472\n",
      "m/precious 472\n",
      "m/shrek_2 472\n",
      "m/signs 472\n",
      "m/real_steel 466\n",
      "m/sausage_party 466\n",
      "m/sideways 466\n",
      "m/star_wars_episode_i_the_phantom_menace 464\n",
      "m/rush_2013 462\n",
      "m/rock_of_ages_2012 460\n",
      "m/wonder_woman_2017 459\n",
      "m/la_la_land 458\n",
      "m/son_of_saul 458\n",
      "m/scary_stories_to_tell_in_the_dark 457\n",
      "m/knives_out 454\n",
      "m/prince_of_persia_sands_of_time 454\n",
      "m/sherlock_holmes_a_game_of_shadows 454\n",
      "m/dunkirk_2017 453\n",
      "m/shoplifters 452\n",
      "m/parasite_2019 451\n",
      "m/the_shape_of_water_2017 448\n",
      "m/shame_2011 446\n",
      "m/1917_2019 444\n",
      "m/first_man 444\n",
      "m/side_effects_2013 444\n",
      "m/simpsons_movie 444\n",
      "m/toy_story_4 444\n",
      "m/rango 442\n",
      "m/stuber 440\n"
     ]
    }
   ],
   "source": [
    "num_reviews_by_movie = Counter(rd[ID_LINK] for rd in review_data)\n",
    "top_movies = num_reviews_by_movie.most_common()\n",
    "for movie_title, count in top_movies[:100]:\n",
    "    print(movie_title, count)"
   ]
  },
  {
   "cell_type": "code",
   "execution_count": 63,
   "id": "1eadae16",
   "metadata": {},
   "outputs": [],
   "source": [
    "comedy_ids = set([m[ID_LINK] for m in movie_data if 'Comedy' in m['genres']])"
   ]
  },
  {
   "cell_type": "code",
   "execution_count": 64,
   "id": "b759c7ec",
   "metadata": {
    "scrolled": true
   },
   "outputs": [
    {
     "name": "stdout",
     "output_type": "stream",
     "text": [
      "[('Comedy', 1263), ('Comedy, Drama', 863), ('Comedy, Drama, Romance', 312), ('Comedy, Romance', 273), ('Art House & International, Comedy, Drama', 268), ('Action & Adventure, Comedy', 180), ('Comedy, Kids & Family', 125), ('Comedy, Horror', 96), ('Art House & International, Comedy', 93), ('Action & Adventure, Comedy, Drama', 87), ('Comedy, Drama, Mystery & Suspense', 81), ('Comedy, Science Fiction & Fantasy', 66), ('Animation, Comedy, Kids & Family', 65), ('Art House & International, Comedy, Drama, Romance', 63), ('Classics, Comedy, Drama', 61), ('Classics, Comedy', 59), ('Action & Adventure, Comedy, Science Fiction & Fantasy', 55), ('Comedy, Drama, Musical & Performing Arts', 49), ('Classics, Comedy, Drama, Romance', 46), ('Classics, Comedy, Romance', 42), ('Comedy, Mystery & Suspense', 42), ('Action & Adventure, Animation, Comedy, Kids & Family', 40), ('Comedy, Musical & Performing Arts', 40), ('Action & Adventure, Comedy, Kids & Family', 38), ('Comedy, Drama, Kids & Family', 36), ('Comedy, Horror, Science Fiction & Fantasy', 35), ('Comedy, Drama, Science Fiction & Fantasy', 34), ('Action & Adventure, Comedy, Mystery & Suspense', 32), ('Comedy, Kids & Family, Science Fiction & Fantasy', 31), ('Classics, Comedy, Musical & Performing Arts, Romance', 29), ('Action & Adventure, Comedy, Drama, Mystery & Suspense', 28), ('Action & Adventure, Art House & International, Comedy', 25), ('Art House & International, Comedy, Drama, Mystery & Suspense', 22), ('Animation, Comedy', 21), ('Art House & International, Comedy, Romance', 20), ('Comedy, Documentary', 19), ('Classics, Comedy, Musical & Performing Arts', 18), ('Action & Adventure, Comedy, Kids & Family, Science Fiction & Fantasy', 18), ('Action & Adventure, Animation, Comedy', 18), ('Comedy, Documentary, Special Interest', 18), ('Comedy, Horror, Mystery & Suspense', 17), ('Classics, Comedy, Drama, Musical & Performing Arts', 14), ('Art House & International, Comedy, Horror', 14), ('Action & Adventure, Comedy, Horror', 14), ('Action & Adventure, Comedy, Romance', 14), ('Comedy, Musical & Performing Arts, Romance', 14), ('Comedy, Television', 14), ('Action & Adventure, Art House & International, Comedy, Drama, Mystery & Suspense', 13), ('Comedy, Drama, Musical & Performing Arts, Romance', 12), ('Art House & International, Comedy, Drama, Musical & Performing Arts', 12), ('Classics, Comedy, Western', 12), ('Action & Adventure, Animation, Comedy, Kids & Family, Science Fiction & Fantasy', 11), ('Comedy, Drama, Gay & Lesbian', 11), ('Comedy, Science Fiction & Fantasy, Romance', 11), ('Action & Adventure, Comedy, Drama, Romance', 11), ('Comedy, Drama, Special Interest', 11), ('Classics, Comedy, Drama, Musical & Performing Arts, Romance', 10), ('Comedy, Drama, Science Fiction & Fantasy, Romance', 10), ('Action & Adventure, Classics, Comedy, Drama', 10), ('Comedy, Kids & Family, Television', 10), ('Comedy, Special Interest', 9), ('Comedy, Drama, Sports & Fitness', 9), ('Animation, Comedy, Drama', 9), ('Action & Adventure, Comedy, Drama, Kids & Family', 9), ('Animation, Comedy, Kids & Family, Science Fiction & Fantasy', 9), ('Comedy, Gay & Lesbian', 8), ('Action & Adventure, Art House & International, Comedy, Drama', 8), ('Classics, Comedy, Drama, Mystery & Suspense', 8), ('Comedy, Documentary, Drama, Special Interest', 8), ('Comedy, Documentary, Musical & Performing Arts', 7), ('Comedy, Kids & Family, Romance', 7), ('Action & Adventure, Comedy, Western', 7), ('Art House & International, Comedy, Drama, Special Interest', 7), ('Action & Adventure, Classics, Comedy, Drama, Mystery & Suspense', 7), ('Comedy, Drama, Television', 7), ('Action & Adventure, Comedy, Horror, Science Fiction & Fantasy', 7), ('Action & Adventure, Comedy, Kids & Family, Mystery & Suspense', 7), ('Comedy, Documentary, Television', 7), ('Classics, Comedy, Drama, Science Fiction & Fantasy', 6), ('Comedy, Drama, Horror', 6), ('Action & Adventure, Comedy, Mystery & Suspense, Science Fiction & Fantasy', 6), ('Art House & International, Classics, Comedy, Drama, Romance', 6), ('Classics, Comedy, Kids & Family', 6), ('Comedy, Drama, Kids & Family, Science Fiction & Fantasy', 6), ('Action & Adventure, Comedy, Drama, Science Fiction & Fantasy', 6), ('Comedy, Documentary, Special Interest, Television', 6), ('Art House & International, Comedy, Drama, Science Fiction & Fantasy', 6), ('Comedy, Drama, Romance, Gay & Lesbian', 6), ('Art House & International, Comedy, Drama, Musical & Performing Arts, Romance', 6), ('Classics, Comedy, Mystery & Suspense', 5), ('Action & Adventure, Classics, Comedy', 5), ('Classics, Comedy, Horror, Science Fiction & Fantasy', 5), ('Art House & International, Comedy, Mystery & Suspense', 5), ('Comedy, Western', 5), ('Comedy, Drama, Horror, Mystery & Suspense', 5), ('Comedy, Kids & Family, Musical & Performing Arts', 4), ('Comedy, Documentary, Musical & Performing Arts, Special Interest', 4), ('Classics, Comedy, Science Fiction & Fantasy', 4), ('Action & Adventure, Art House & International, Comedy, Drama, Romance', 4), ('Comedy, Musical & Performing Arts, Science Fiction & Fantasy', 4), ('Art House & International, Comedy, Musical & Performing Arts', 4), ('Art House & International, Comedy, Science Fiction & Fantasy, Romance', 4), ('Action & Adventure, Classics, Comedy, Drama, Romance', 4), ('Comedy, Special Interest, Romance', 4), ('Classics, Comedy, Drama, Kids & Family, Musical & Performing Arts', 4), ('Art House & International, Comedy, Drama, Science Fiction & Fantasy, Romance', 4), ('Comedy, Horror, Mystery & Suspense, Science Fiction & Fantasy', 4), ('Comedy, Horror, Romance', 4), ('Action & Adventure, Animation, Comedy, Science Fiction & Fantasy', 4), ('Comedy, Drama, Mystery & Suspense, Science Fiction & Fantasy', 4), ('Comedy, Sports & Fitness', 4), ('Comedy, Horror, Musical & Performing Arts', 4), ('Action & Adventure, Art House & International, Comedy, Horror', 4), ('Art House & International, Classics, Comedy, Drama', 4), ('Art House & International, Comedy, Science Fiction & Fantasy', 4), ('Art House & International, Comedy, Documentary, Drama, Special Interest', 4), ('Art House & International, Comedy, Drama, Kids & Family', 4), ('Classics, Comedy, Kids & Family, Science Fiction & Fantasy', 4), ('Animation, Comedy, Kids & Family, Special Interest', 3), ('Classics, Comedy, Kids & Family, Musical & Performing Arts', 3), ('Comedy, Mystery & Suspense, Romance', 3), ('Action & Adventure, Animation, Art House & International, Comedy', 3), ('Action & Adventure, Comedy, Horror, Mystery & Suspense', 3), ('Comedy, Cult Movies', 3), ('Action & Adventure, Comedy, Cult Movies', 3), ('Animation, Comedy, Kids & Family, Musical & Performing Arts', 3), ('Action & Adventure, Classics, Comedy, Kids & Family, Science Fiction & Fantasy', 3), ('Comedy, Drama, Kids & Family, Romance', 3), ('Action & Adventure, Art House & International, Comedy, Romance', 3), ('Art House & International, Comedy, Drama, Mystery & Suspense, Romance', 3), ('Classics, Comedy, Musical & Performing Arts, Western', 3), ('Comedy, Drama, Kids & Family, Musical & Performing Arts', 3), ('Action & Adventure, Comedy, Kids & Family, Romance', 3), ('Comedy, Kids & Family, Special Interest', 3), ('Animation, Comedy, Drama, Kids & Family', 3), ('Classics, Comedy, Drama, Science Fiction & Fantasy, Romance', 3), ('Comedy, Mystery & Suspense, Science Fiction & Fantasy', 3), ('Art House & International, Comedy, Musical & Performing Arts, Romance', 3), ('Action & Adventure, Art House & International, Comedy, Mystery & Suspense', 3), ('Action & Adventure, Comedy, Kids & Family, Musical & Performing Arts', 3), ('Action & Adventure, Comedy, Documentary', 2), ('Comedy, Drama, Mystery & Suspense, Romance', 2), ('Action & Adventure, Comedy, Cult Movies, Western', 2), ('Comedy, Horror, Kids & Family', 2), ('Action & Adventure, Comedy, Drama, Musical & Performing Arts', 2), ('Action & Adventure, Art House & International, Comedy, Drama, Musical & Performing Arts, Romance', 2), ('Classics, Comedy, Horror, Mystery & Suspense', 2), ('Comedy, Drama, Kids & Family, Sports & Fitness', 2), ('Action & Adventure, Comedy, Drama, Mystery & Suspense, Romance', 2), ('Action & Adventure, Comedy, Kids & Family, Television', 2), ('Comedy, Musical & Performing Arts, Gay & Lesbian', 2), ('Action & Adventure, Classics, Comedy, Western, Romance', 2), ('Action & Adventure, Classics, Comedy, Horror', 2), ('Animation, Art House & International, Comedy, Drama, Science Fiction & Fantasy', 2), ('Classics, Comedy, Drama, Horror, Mystery & Suspense', 2), ('Action & Adventure, Classics, Comedy, Mystery & Suspense', 2), ('Action & Adventure, Classics, Comedy, Western', 2), ('Animation, Art House & International, Comedy, Kids & Family', 2), ('Action & Adventure, Animation, Comedy, Drama, Kids & Family', 2), ('Comedy, Drama, Musical & Performing Arts, Special Interest', 2), ('Action & Adventure, Art House & International, Comedy, Mystery & Suspense, Science Fiction & Fantasy', 2), ('Art House & International, Comedy, Drama, Television', 2), ('Animation, Art House & International, Comedy', 2), ('Classics, Comedy, Drama, Musical & Performing Arts, Science Fiction & Fantasy', 2), ('Classics, Comedy, Drama, Kids & Family', 2), ('Animation, Art House & International, Comedy, Drama', 2), ('Comedy, Romance, Gay & Lesbian', 2), ('Art House & International, Comedy, Special Interest', 2), ('Action & Adventure, Art House & International, Comedy, Drama, Horror', 2), ('Art House & International, Comedy, Drama, Romance, Gay & Lesbian', 2), ('Art House & International, Comedy, Drama, Horror', 2), ('Comedy, Drama, Kids & Family, Television', 2), ('Art House & International, Classics, Comedy, Musical & Performing Arts', 2), ('Comedy, Cult Movies, Drama', 2), ('Action & Adventure, Art House & International, Classics, Comedy', 2), ('Art House & International, Comedy, Horror, Science Fiction & Fantasy', 2), ('Classics, Comedy, Kids & Family, Musical & Performing Arts, Science Fiction & Fantasy', 2), ('Comedy, Science Fiction & Fantasy, Special Interest', 2), ('Comedy, Musical & Performing Arts, Mystery & Suspense, Science Fiction & Fantasy', 2), ('Classics, Comedy, Drama, Mystery & Suspense, Romance', 2), ('Art House & International, Classics, Comedy, Drama, Science Fiction & Fantasy', 2), ('Art House & International, Comedy, Documentary, Drama', 2), ('Comedy, Documentary, Special Interest, Sports & Fitness', 2), ('Art House & International, Comedy, Kids & Family, Science Fiction & Fantasy', 2), ('Action & Adventure, Comedy, Mystery & Suspense, Romance', 2), ('Comedy, Documentary, Science Fiction & Fantasy, Special Interest', 2), ('Animation, Comedy, Science Fiction & Fantasy', 2), ('Comedy, Drama, Musical & Performing Arts, Mystery & Suspense', 2), ('Action & Adventure, Comedy, Drama, Western', 2), ('Action & Adventure, Classics, Comedy, Kids & Family', 2), ('Comedy, Drama, Western', 2), ('Comedy, Cult Movies, Horror, Science Fiction & Fantasy', 2), ('Art House & International, Comedy, Drama, Sports & Fitness', 2), ('Classics, Comedy, Horror', 2), ('Action & Adventure, Classics, Comedy, Drama, Mystery & Suspense, Romance', 2), ('Classics, Comedy, Musical & Performing Arts, Western, Romance', 2), ('Action & Adventure, Classics, Comedy, Drama, Musical & Performing Arts', 2), ('Action & Adventure, Art House & International, Comedy, Documentary, Drama', 2), ('Comedy, Cult Movies, Horror, Mystery & Suspense, Science Fiction & Fantasy', 1), ('Action & Adventure, Comedy, Drama, Horror, Mystery & Suspense, Science Fiction & Fantasy, Romance', 1), ('Animation, Comedy, Special Interest', 1), ('Comedy, Television, Romance', 1), ('Action & Adventure, Comedy, Drama, Kids & Family, Science Fiction & Fantasy', 1), ('Comedy, Drama, Kids & Family, Musical & Performing Arts, Television', 1), ('Art House & International, Classics, Comedy, Horror, Science Fiction & Fantasy', 1), ('Art House & International, Comedy, Cult Movies, Musical & Performing Arts', 1), ('Art House & International, Comedy, Romance, Gay & Lesbian', 1), ('Action & Adventure, Comedy, Horror, Science Fiction & Fantasy, Special Interest', 1), ('Comedy, Horror, Kids & Family, Mystery & Suspense, Science Fiction & Fantasy', 1), ('Classics, Comedy, Cult Movies, Horror, Mystery & Suspense', 1), ('Comedy, Cult Movies, Documentary, Drama, Musical & Performing Arts, Special Interest', 1), ('Animation, Comedy, Musical & Performing Arts, Special Interest', 1), ('Animation, Comedy, Drama, Science Fiction & Fantasy', 1), ('Art House & International, Comedy, Drama, Horror, Science Fiction & Fantasy', 1), ('Art House & International, Comedy, Horror, Mystery & Suspense', 1), ('Animation, Classics, Comedy, Kids & Family, Science Fiction & Fantasy', 1), ('Action & Adventure, Animation, Comedy, Kids & Family, Mystery & Suspense', 1), ('Comedy, Drama, Horror, Special Interest', 1), ('Action & Adventure, Comedy, Musical & Performing Arts, Science Fiction & Fantasy, Western', 1), ('Animation, Classics, Comedy, Kids & Family, Special Interest', 1), ('Action & Adventure, Classics, Comedy, Drama, Kids & Family, Special Interest', 1), ('Action & Adventure, Comedy, Musical & Performing Arts, Science Fiction & Fantasy', 1), ('Art House & International, Comedy, Science Fiction & Fantasy, Special Interest', 1), ('Action & Adventure, Comedy, Mystery & Suspense, Science Fiction & Fantasy, Television', 1), ('Art House & International, Comedy, Cult Movies, Drama, Mystery & Suspense', 1), ('Animation, Comedy, Kids & Family, Musical & Performing Arts, Science Fiction & Fantasy, Romance', 1), ('Art House & International, Comedy, Drama, Mystery & Suspense, Science Fiction & Fantasy', 1), ('Animation, Comedy, Science Fiction & Fantasy, Television', 1), ('Comedy, Horror, Kids & Family, Mystery & Suspense', 1), ('Action & Adventure, Comedy, Drama, Horror', 1), ('Classics, Comedy, Drama, Western, Romance', 1), ('Art House & International, Comedy, Gay & Lesbian', 1), ('Comedy, Musical & Performing Arts, Television', 1), ('Action & Adventure, Art House & International, Comedy, Drama, Gay & Lesbian', 1), ('Action & Adventure, Comedy, Drama, Musical & Performing Arts, Romance, Gay & Lesbian', 1), ('Classics, Comedy, Documentary, Musical & Performing Arts, Special Interest', 1), ('Classics, Comedy, Drama, Special Interest', 1), ('Art House & International, Comedy, Drama, Kids & Family, Romance', 1), ('Art House & International, Comedy, Drama, Musical & Performing Arts, Science Fiction & Fantasy', 1), ('Classics, Comedy, Drama, Kids & Family, Romance', 1), ('Classics, Comedy, Musical & Performing Arts, Science Fiction & Fantasy', 1), ('Comedy, Documentary, Horror', 1), ('Comedy, Mystery & Suspense, Special Interest', 1), ('Classics, Comedy, Musical & Performing Arts, Special Interest, Romance', 1), ('Classics, Comedy, Drama, Science Fiction & Fantasy, Romance, Faith & Spirituality', 1), ('Action & Adventure, Art House & International, Classics, Comedy, Cult Movies, Horror, Science Fiction & Fantasy', 1), ('Comedy, Drama, Kids & Family, Science Fiction & Fantasy, Television', 1), ('Comedy, Drama, Horror, Mystery & Suspense, Science Fiction & Fantasy', 1), ('Comedy, Documentary, Drama, Romance, Gay & Lesbian', 1), ('Comedy, Horror, Kids & Family, Science Fiction & Fantasy', 1), ('Action & Adventure, Classics, Comedy, Drama, Musical & Performing Arts, Science Fiction & Fantasy, Romance', 1), ('Art House & International, Comedy, Drama, Musical & Performing Arts, Special Interest', 1), ('Animation, Comedy, Documentary, Drama, Special Interest, Romance', 1), ('Art House & International, Classics, Comedy, Drama, Mystery & Suspense', 1), ('Action & Adventure, Comedy, Musical & Performing Arts', 1), ('Classics, Comedy, Special Interest', 1), ('Action & Adventure, Classics, Comedy, Documentary, Drama, Musical & Performing Arts', 1), ('Action & Adventure, Comedy, Drama, Science Fiction & Fantasy, Television', 1), ('Action & Adventure, Animation, Comedy, Musical & Performing Arts', 1), ('Action & Adventure, Art House & International, Comedy, Kids & Family', 1), ('Animation, Classics, Comedy, Kids & Family, Musical & Performing Arts, Science Fiction & Fantasy', 1), ('Comedy, Drama, Faith & Spirituality, Sports & Fitness', 1), ('Animation, Art House & International, Comedy, Drama, Kids & Family, Science Fiction & Fantasy', 1), ('Art House & International, Classics, Comedy, Gay & Lesbian', 1), ('Action & Adventure, Art House & International, Comedy, Drama, Kids & Family', 1), ('Animation, Classics, Comedy, Horror, Kids & Family', 1), ('Animation, Comedy, Kids & Family, Musical & Performing Arts, Romance', 1), ('Comedy, Cult Movies, Drama, Mystery & Suspense, Science Fiction & Fantasy', 1), ('Comedy, Documentary, Drama', 1), ('Action & Adventure, Comedy, Science Fiction & Fantasy, Romance', 1), ('Action & Adventure, Art House & International, Comedy, Drama, Mystery & Suspense, Science Fiction & Fantasy', 1), ('Action & Adventure, Animation, Comedy, Kids & Family, Musical & Performing Arts, Romance', 1), ('Art House & International, Comedy, Documentary, Drama, Kids & Family, Special Interest', 1), ('Animation, Comedy, Kids & Family, Faith & Spirituality', 1), ('Classics, Comedy, Kids & Family, Mystery & Suspense', 1), ('Classics, Comedy, Drama, Mystery & Suspense, Special Interest, Romance', 1), ('Action & Adventure, Animation, Art House & International, Comedy, Science Fiction & Fantasy', 1), ('Animation, Classics, Comedy, Drama, Kids & Family', 1), ('Art House & International, Comedy, Drama, Television, Romance', 1), ('Art House & International, Comedy, Science Fiction & Fantasy, Gay & Lesbian', 1), ('Art House & International, Comedy, Special Interest, Romance', 1), ('Art House & International, Comedy, Horror, Science Fiction & Fantasy, Special Interest', 1), ('Classics, Comedy, Kids & Family, Television', 1), ('Comedy, Musical & Performing Arts, Special Interest', 1), ('Classics, Comedy, Drama, Western', 1), ('Comedy, Kids & Family, Musical & Performing Arts, Television, Romance', 1), ('Animation, Classics, Comedy, Kids & Family, Mystery & Suspense', 1), ('Classics, Comedy, Cult Movies, Documentary, Drama', 1), ('Action & Adventure, Animation, Comedy, Drama', 1), ('Art House & International, Comedy, Western', 1), ('Action & Adventure, Comedy, Drama, Kids & Family, Mystery & Suspense', 1), ('Comedy, Drama, Faith & Spirituality', 1), ('Action & Adventure, Art House & International, Comedy, Drama, Musical & Performing Arts', 1), ('Comedy, Drama, Horror, Kids & Family', 1), ('Action & Adventure, Classics, Comedy, Drama, Musical & Performing Arts, Western, Romance', 1), ('Art House & International, Comedy, Drama, Romance, Sports & Fitness', 1), ('Comedy, Cult Movies, Drama, Science Fiction & Fantasy', 1), ('Action & Adventure, Comedy, Documentary, Musical & Performing Arts', 1), ('Classics, Comedy, Drama, Musical & Performing Arts, Mystery & Suspense', 1), ('Animation, Comedy, Horror, Romance', 1), ('Comedy, Musical & Performing Arts, Western', 1), ('Art House & International, Classics, Comedy, Drama, Musical & Performing Arts, Science Fiction & Fantasy, Romance', 1), ('Action & Adventure, Comedy, Horror, Musical & Performing Arts', 1), ('Animation, Comedy, Drama, Kids & Family, Musical & Performing Arts', 1), ('Action & Adventure, Comedy, Kids & Family, Science Fiction & Fantasy, Television', 1), ('Action & Adventure, Comedy, Horror, Romance', 1), ('Action & Adventure, Comedy, Cult Movies, Drama, Musical & Performing Arts', 1), ('Action & Adventure, Comedy, Drama, Mystery & Suspense, Western', 1), ('Comedy, Documentary, Kids & Family, Special Interest', 1), ('Classics, Comedy, Cult Movies, Horror, Musical & Performing Arts', 1), ('Comedy, Kids & Family, Western', 1), ('Action & Adventure, Animation, Comedy, Kids & Family, Musical & Performing Arts, Science Fiction & Fantasy', 1), ('Art House & International, Comedy, Drama, Kids & Family, Musical & Performing Arts, Romance', 1), ('Action & Adventure, Art House & International, Comedy, Drama, Science Fiction & Fantasy', 1), ('Art House & International, Comedy, Kids & Family', 1), ('Comedy, Documentary, Kids & Family', 1), ('Comedy, Kids & Family, Musical & Performing Arts, Television', 1), ('Action & Adventure, Comedy, Sports & Fitness', 1), ('Comedy, Cult Movies, Horror', 1), ('Animation, Comedy, Kids & Family, Musical & Performing Arts, Television', 1), ('Classics, Comedy, Documentary, Sports & Fitness', 1), ('Comedy, Documentary, Faith & Spirituality', 1), ('Classics, Comedy, Drama, Mystery & Suspense, Science Fiction & Fantasy, Romance', 1), ('Action & Adventure, Art House & International, Comedy, Science Fiction & Fantasy', 1), ('Action & Adventure, Classics, Comedy, Musical & Performing Arts, Romance', 1), ('Action & Adventure, Comedy, Special Interest', 1), ('Comedy, Science Fiction & Fantasy, Special Interest, Romance', 1), ('Action & Adventure, Animation, Comedy, Documentary, Kids & Family', 1), ('Art House & International, Comedy, Drama, Science Fiction & Fantasy, Special Interest', 1), ('Classics, Comedy, Cult Movies, Horror', 1), ('Action & Adventure, Classics, Comedy, Musical & Performing Arts', 1), ('Action & Adventure, Animation, Comedy, Kids & Family, Musical & Performing Arts', 1), ('Comedy, Cult Movies, Mystery & Suspense, Science Fiction & Fantasy', 1), ('Comedy, Documentary, Special Interest, Television, Sports & Fitness', 1), ('Action & Adventure, Comedy, Drama, Science Fiction & Fantasy, Romance', 1), ('Classics, Comedy, Kids & Family, Western', 1), ('Action & Adventure, Animation, Comedy, Horror, Mystery & Suspense', 1), ('Action & Adventure, Comedy, Documentary, Sports & Fitness', 1), ('Animation, Comedy, Musical & Performing Arts', 1), ('Comedy, Drama, Horror, Romance', 1), ('Action & Adventure, Comedy, Drama, Kids & Family, Mystery & Suspense, Science Fiction & Fantasy', 1), ('Comedy, Musical & Performing Arts, Television, Romance', 1), ('Action & Adventure, Animation, Comedy, Drama, Kids & Family, Musical & Performing Arts', 1), ('Classics, Comedy, Science Fiction & Fantasy, Romance', 1), ('Action & Adventure, Classics, Comedy, Cult Movies, Science Fiction & Fantasy', 1), ('Animation, Classics, Comedy, Kids & Family, Musical & Performing Arts, Television', 1), ('Art House & International, Comedy, Documentary, Drama, Special Interest, Faith & Spirituality', 1), ('Classics, Comedy, Drama, Musical & Performing Arts, Western', 1), ('Classics, Comedy, Drama, Kids & Family, Science Fiction & Fantasy', 1), ('Animation, Classics, Comedy, Kids & Family', 1), ('Action & Adventure, Animation, Classics, Comedy, Kids & Family, Musical & Performing Arts', 1), ('Animation, Comedy, Horror, Science Fiction & Fantasy', 1), ('Action & Adventure, Animation, Comedy, Drama, Kids & Family, Science Fiction & Fantasy', 1), ('Animation, Art House & International, Comedy, Kids & Family, Mystery & Suspense', 1), ('Art House & International, Comedy, Documentary, Special Interest, Television', 1), ('Art House & International, Comedy, Musical & Performing Arts, Science Fiction & Fantasy, Television, Romance', 1), ('Action & Adventure, Classics, Comedy, Drama, Musical & Performing Arts, Mystery & Suspense', 1), ('Comedy, Kids & Family, Science Fiction & Fantasy, Romance', 1), ('Animation, Anime & Manga, Art House & International, Comedy, Kids & Family', 1), ('Action & Adventure, Animation, Comedy, Cult Movies, Kids & Family, Musical & Performing Arts, Science Fiction & Fantasy', 1), ('Action & Adventure, Comedy, Kids & Family, Science Fiction & Fantasy, Romance', 1), ('Classics, Comedy, Drama, Sports & Fitness', 1), ('Action & Adventure, Art House & International, Comedy, Musical & Performing Arts, Mystery & Suspense, Romance', 1), ('Action & Adventure, Classics, Comedy, Kids & Family, Musical & Performing Arts, Science Fiction & Fantasy', 1), ('Comedy, Musical & Performing Arts, Sports & Fitness', 1), ('Comedy, Horror, Mystery & Suspense, Television', 1), ('Comedy, Drama, Romance, Gay & Lesbian, Sports & Fitness', 1), ('Comedy, Documentary, Drama, Special Interest, Romance', 1), ('Comedy, Documentary, Drama, Romance', 1), ('Art House & International, Comedy, Drama, Horror, Musical & Performing Arts', 1), ('Comedy, Science Fiction & Fantasy, Romance, Sports & Fitness', 1), ('Art House & International, Comedy, Musical & Performing Arts, Sports & Fitness', 1), ('Action & Adventure, Art House & International, Classics, Comedy, Documentary, Drama', 1), ('Action & Adventure, Comedy, Cult Movies, Mystery & Suspense', 1), ('Action & Adventure, Art House & International, Comedy, Cult Movies, Drama', 1), ('Action & Adventure, Comedy, Kids & Family, Musical & Performing Arts, Science Fiction & Fantasy', 1), ('Art House & International, Classics, Comedy', 1), ('Action & Adventure, Comedy, Kids & Family, Special Interest', 1), ('Action & Adventure, Art House & International, Comedy, Special Interest', 1), ('Comedy, Drama, Mystery & Suspense, Sports & Fitness', 1), ('Action & Adventure, Comedy, Science Fiction & Fantasy, Special Interest', 1), ('Action & Adventure, Comedy, Kids & Family, Mystery & Suspense, Science Fiction & Fantasy', 1), ('Action & Adventure, Art House & International, Comedy, Cult Movies, Horror, Science Fiction & Fantasy', 1), ('Comedy, Documentary, Drama, Musical & Performing Arts', 1), ('Comedy, Horror, Musical & Performing Arts, Television', 1), ('Action & Adventure, Classics, Comedy, Kids & Family, Romance', 1), ('Comedy, Drama, Horror, Science Fiction & Fantasy', 1), ('Classics, Comedy, Kids & Family, Romance', 1), ('Comedy, Drama, Kids & Family, Mystery & Suspense', 1), ('Action & Adventure, Classics, Comedy, Romance', 1), ('Classics, Comedy, Drama, Kids & Family, Musical & Performing Arts, Science Fiction & Fantasy', 1), ('Comedy, Drama, Science Fiction & Fantasy, Gay & Lesbian', 1), ('Action & Adventure, Comedy, Horror, Television', 1), ('Classics, Comedy, Cult Movies, Horror, Musical & Performing Arts, Science Fiction & Fantasy', 1), ('Comedy, Documentary, Drama, Kids & Family, Faith & Spirituality', 1), ('Action & Adventure, Comedy, Drama, Musical & Performing Arts, Romance', 1), ('Comedy, Mystery & Suspense, Science Fiction & Fantasy, Romance', 1), ('Comedy, Drama, Mystery & Suspense, Science Fiction & Fantasy, Romance', 1), ('Comedy, Horror, Musical & Performing Arts, Science Fiction & Fantasy', 1), ('Art House & International, Comedy, Drama, Kids & Family, Science Fiction & Fantasy', 1), ('Animation, Anime & Manga, Comedy, Romance', 1), ('Art House & International, Comedy, Television, Romance', 1), ('Art House & International, Comedy, Documentary, Drama, Musical & Performing Arts', 1), ('Action & Adventure, Classics, Comedy, Science Fiction & Fantasy', 1), ('Action & Adventure, Animation, Classics, Comedy, Kids & Family', 1), ('Comedy, Documentary, Drama, Television', 1)]\n"
     ]
    }
   ],
   "source": [
    "genres = Counter([movie_lookup[c]['genres'] for c in comedy_ids])\n",
    "print(genres.most_common())"
   ]
  },
  {
   "cell_type": "code",
   "execution_count": 66,
   "id": "3ab5262b",
   "metadata": {},
   "outputs": [
    {
     "name": "stdout",
     "output_type": "stream",
     "text": [
      "[('Comedy', 5674), ('Drama', 2377), ('Romance', 1006), ('Action & Adventure', 806), ('Art House & International', 708), ('Kids & Family', 549), ('Classics', 473), ('Science Fiction & Fantasy', 460), ('Mystery & Suspense', 358), ('Musical & Performing Arts', 337), ('Horror', 271), ('Animation', 240), ('Special Interest', 118), ('Documentary', 109), ('Television', 73), ('Western', 49), ('Gay & Lesbian', 40), ('Cult Movies', 32), ('Sports & Fitness', 31), ('Faith & Spirituality', 7), ('Anime & Manga', 2)]\n"
     ]
    }
   ],
   "source": [
    "genres = Counter()\n",
    "for c in comedy_ids:\n",
    "    genres.update(movie_lookup[c]['genres'].split(', '))\n",
    "print(genres.most_common())"
   ]
  },
  {
   "cell_type": "code",
   "execution_count": 67,
   "id": "aa5f2a81",
   "metadata": {},
   "outputs": [],
   "source": [
    "comedy_reviews = [r for r in review_data if r[ID_LINK] in comedy_ids]"
   ]
  },
  {
   "cell_type": "code",
   "execution_count": 70,
   "id": "d292681c",
   "metadata": {},
   "outputs": [
    {
     "name": "stdout",
     "output_type": "stream",
     "text": [
      "370743\n",
      "{'rotten_tomatoes_link': 'm/10007902-delirious', 'critic_name': 'Peter Calder', 'top_critic': 'False', 'publisher_name': 'New Zealand Herald', 'review_type': 'Rotten', 'review_score': '2/5', 'review_date': '2008-02-08', 'review_content': 'Underwritten and overplayed, it is one that not even Buscemi fans will treasure.'}\n"
     ]
    }
   ],
   "source": [
    "print(len(comedy_reviews))\n",
    "print(comedy_reviews[1000])"
   ]
  },
  {
   "cell_type": "code",
   "execution_count": 72,
   "id": "e6b1f6d8",
   "metadata": {},
   "outputs": [],
   "source": [
    "scores = np.array([cr[TYPE] for cr in comedy_reviews])\n",
    "texts = [cr[TEXT] for cr in comedy_reviews]"
   ]
  },
  {
   "cell_type": "code",
   "execution_count": 78,
   "id": "49d69270",
   "metadata": {},
   "outputs": [
    {
     "name": "stderr",
     "output_type": "stream",
     "text": [
      "IOPub data rate exceeded.\n",
      "The notebook server will temporarily stop sending output\n",
      "to the client in order to avoid crashing it.\n",
      "To change this limit, set the config variable\n",
      "`--NotebookApp.iopub_data_rate_limit`.\n",
      "\n",
      "Current values:\n",
      "NotebookApp.iopub_data_rate_limit=1000000.0 (bytes/sec)\n",
      "NotebookApp.rate_limit_window=3.0 (secs)\n",
      "\n"
     ]
    },
    {
     "name": "stdout",
     "output_type": "stream",
     "text": [
      "(370743, 5935)\n"
     ]
    }
   ],
   "source": [
    "cv = CountVectorizer(texts, min_df=100, max_df=.3)\n",
    "review_data = cv.fit_transform(texts)\n",
    "feature_names = cv.get_feature_names()\n",
    "print(review_data.shape)"
   ]
  },
  {
   "cell_type": "code",
   "execution_count": 79,
   "id": "5e15ec67",
   "metadata": {},
   "outputs": [],
   "source": [
    "# split into train, test, validation\n",
    "features_train, features_test, labels_train, labels_test = train_test_split(review_data, scores, test_size=0.1, random_state=712022)"
   ]
  },
  {
   "cell_type": "markdown",
   "id": "203997b2",
   "metadata": {},
   "source": [
    "<img src=\"https://scikit-learn.org/stable/_images/grid_search_cross_validation.png\" alt=\"Cross validation guide from scikit-learn\" width=\"500\"/>\n"
   ]
  },
  {
   "cell_type": "code",
   "execution_count": 91,
   "id": "9f150e7b",
   "metadata": {},
   "outputs": [
    {
     "name": "stdout",
     "output_type": "stream",
     "text": [
      "[[161697  34296]\n",
      " [ 45021  92654]]\n"
     ]
    }
   ],
   "source": [
    "mnb = MultinomialNB()\n",
    "pred_train = cross_val_predict(mnb, features_train, labels_train, cv=5)\n",
    "cm = confusion_matrix(labels_train, pred_train)\n",
    "print(cm)"
   ]
  },
  {
   "cell_type": "code",
   "execution_count": 96,
   "id": "d14e1104",
   "metadata": {},
   "outputs": [
    {
     "data": {
      "text/plain": [
       "Text(33.0, 0.5, 'Actual')"
      ]
     },
     "execution_count": 96,
     "metadata": {},
     "output_type": "execute_result"
    },
    {
     "data": {
      "image/png": "[encoded data removed]",
      "text/plain": [
       "<Figure size 432x288 with 2 Axes>"
      ]
     },
     "metadata": {
      "needs_background": "light"
     },
     "output_type": "display_data"
    }
   ],
   "source": [
    "ticklabels = [\"Fresh\", \"Rotten\"]\n",
    "ax = seaborn.heatmap(cm,\n",
    "                     # label columns and rows\n",
    "                     xticklabels=ticklabels,\n",
    "                     yticklabels=ticklabels,\n",
    "                     # list numbers\n",
    "                     annot=True,\n",
    "                     # write numbers out normally\n",
    "                     fmt='d')\n",
    "# set axis labels\n",
    "ax.set_xlabel('Predicted')\n",
    "ax.set_ylabel('Actual')"
   ]
  },
  {
   "cell_type": "code",
   "execution_count": null,
   "id": "711b5a72",
   "metadata": {},
   "outputs": [],
   "source": []
  },
  {
   "cell_type": "markdown",
   "id": "8816e0f8",
   "metadata": {},
   "source": [
    "### Creating your table of contents and sections\n",
    "Break down your sections using markdown headings of different sizes (greater or fewer #s). Users will have access to a table of contents automatically generated by headings. To get a preview of this on your local machine, install:\n",
    "\n",
    "`pip install jupyter_contrib_nbextensions`\n",
    "\n",
    "Then install the javascript and css files using:\n",
    "\n",
    "`jupyter contrib nbextension install --user`\n",
    "\n",
    "Reopen Jupyter Notebook to refresh. Then choose **File** > **Open**. Then the \"NBExtensions\" tab. Unselect \"disable configuration for nbextensions...\" and then choose \"Table of Contents (2)\". You may need to reopen or refresh the current notebook. In the header, you will see the toggle button for the table of contents. For more details, see this [video](https://www.youtube.com/watch?v=_3VD289eOtU).\n",
    "\n",
    "### Markdown cheatsheet\n",
    "\n",
    "A [quick cheatsheet](https://www.markdownguide.org/cheat-sheet/) for useful markdown in Jupyter. When adding images, please be sure to include an alternative description for accessibility purposes.\n",
    "\n",
    "### Data/Image/Video hosting\n",
    "\n",
    "Github is not a good place to store images, data, or other large files for your lesson. Please store them somewhere else (Google Drive, Dropbox, Amazon S3, etc.).\n",
    "\n",
    "### Creating screenshots\n",
    "\n",
    "#### Mac\n",
    "I recommend using command-shift-4 to draw a square around the part of the screen you want to screenshot. I often use [paintbrush](https://paintbrush.sourceforge.io/) for basic editing. For moving images (.gifs), I use command-shift-5 then convert the video using [Gifski](https://github.com/sindresorhus/Gifski). Make sure you use very few frames-per-second because gif file size can get large very quickly.\n",
    "\n",
    "#### Windows\n",
    "I recommend capturing a screenshot using the print-screen key on your keyboard, then pasting into Microsoft Paint. At that point, it is easy to crop just the relevant section.\n",
    "\n",
    "___\n",
    "[Proceed to next lesson: Course Title 2/3 ->](./lesson-2.ipynb)"
   ]
  },
  {
   "cell_type": "markdown",
   "id": "5ed71c7d",
   "metadata": {},
   "source": [
    "# Exercises (Optional)\n",
    "\n",
    "`If possible, include practice exercises for users to do on their own. These may have clear solutions or be more open-ended.`"
   ]
  },
  {
   "cell_type": "markdown",
   "id": "de24d5d9",
   "metadata": {},
   "source": [
    "# Solutions (Optional)\n",
    "`Offer some possible solutions for the practice exercises.`\n"
   ]
  },
  {
   "cell_type": "markdown",
   "id": "296b3962",
   "metadata": {},
   "source": []
  },
  {
   "cell_type": "markdown",
   "id": "f3330441",
   "metadata": {},
   "source": [
    "# References (Optional)\n",
    "No citations required but include this if you have cited academic sources. Use whatever format you like, just be consistent. Markdown footnotes are not well-supported in notebooks.[$^{1}$](#1) I suggest using an anchor link with plain html as shown.[$^{2}$](#2)"
   ]
  },
  {
   "cell_type": "markdown",
   "id": "18c5ef87",
   "metadata": {},
   "source": [
    "1. <a id=\"1\"></a> Here is an anchor link footnote.\n",
    "2. <a id=\"2\"></a> D'Ignazio, Catherine and Lauren F. Klein. [*Data Feminism*](https://mitpress.mit.edu/books/data-feminism). MIT Press, 2020."
   ]
  }
 ],
 "metadata": {
  "kernelspec": {
   "display_name": "Python 3 (ipykernel)",
   "language": "python",
   "name": "python3"
  },
  "language_info": {
   "codemirror_mode": {
    "name": "ipython",
    "version": 3
   },
   "file_extension": ".py",
   "mimetype": "text/x-python",
   "name": "python",
   "nbconvert_exporter": "python",
   "pygments_lexer": "ipython3",
   "version": "3.9.7"
  },
  "toc": {
   "base_numbering": 1,
   "nav_menu": {},
   "number_sections": true,
   "sideBar": true,
   "skip_h1_title": false,
   "title_cell": "Table of Contents",
   "title_sidebar": "Contents",
   "toc_cell": false,
   "toc_position": {},
   "toc_section_display": true,
   "toc_window_display": true
  }
 },
 "nbformat": 4,
 "nbformat_minor": 5
}
