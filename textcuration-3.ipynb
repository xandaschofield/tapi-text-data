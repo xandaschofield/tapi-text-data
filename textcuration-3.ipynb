{
 "cells": [
  {
   "cell_type": "markdown",
   "id": "b1863aa2",
   "metadata": {},
   "source": [
    "<img align=\"left\" src=\"https://ithaka-labs.s3.amazonaws.com/static-files/images/tdm/tdmdocs/tapi-logo-small.png\" />\n",
    "\n",
    "This notebook free for educational reuse under [Creative Commons CC BY License](https://creativecommons.org/licenses/by/4.0/).\n",
    "\n",
    "Created by [Xanda Schofield](https://www.cs.hmc.edu/~xanda) for the 2022 Text Analysis Pedagogy Institute, with support from the [National Endowment for the Humanities](https://neh.gov), [JSTOR Labs](https://labs.jstor.org/), and [University of Arizona Libraries](https://new.library.arizona.edu/).\n",
    "\n",
    "For questions/comments/improvements, email xanda@cs.hmc.edu.<br />\n",
    "____"
   ]
  },
  {
   "cell_type": "markdown",
   "id": "fbb73582",
   "metadata": {},
   "source": [
    "# Text Data Curation 3\n",
    "\n",
    "This is lesson 3 of 3 in the educational series on Text Data Curation. This notebook is intended to look at how trained models, such as naive Bayes models and topic models, can actually help the text curation process. \n",
    "\n",
    "**Audience:** `Learners` / `Researchers`\n",
    "\n",
    "**Use case:** [`How-To`](https://constellate.org/docs/documentation-categories#howtoproblemoriented) \n",
    "\n",
    "**Difficulty:** `Intermediate`\n",
    "Assumes users are familiar with Python and have been programming for 6+ months. Code makes up a larger part of the notebook and basic concepts related to Python are not explained.\n",
    "\n",
    "**Completion time:** `90 minutes`\n",
    "\n",
    "**Knowledge Required:** \n",
    "* Python basics (variables, flow control, functions, lists, dictionaries)\n",
    "* How Python libraries work (installation and imports)\n",
    "\n",
    "**Knowledge Recommended:**\n",
    "* Basic file operations (open, close, read, write)\n",
    "* How text is stored on computers\n",
    "\n",
    "**Learning Objectives:**\n",
    "After this lesson, learners will be able to:\n",
    "1. Use a lexicon to retrieve interesting documents\n",
    "2. Augment a lexicon using correlation between words\n",
    "3. Use a simple topic model to check for oddities in a corpus\n",
    "\n",
    "___"
   ]
  },
  {
   "cell_type": "markdown",
   "id": "785b4e29",
   "metadata": {},
   "source": [
    "# Required Python Libraries\n",
    "\n",
    "* `nltk`\n",
    "* `numpy`\n",
    "* `sklearn`\n",
    "\n",
    "## Install Required Libraries"
   ]
  },
  {
   "cell_type": "code",
   "execution_count": 1,
   "id": "9d2cce8d",
   "metadata": {},
   "outputs": [],
   "source": [
    "### Install Libraries ###\n",
    "\n",
    "# # Using !pip installs\n",
    "# !pip install spacy\n",
    "# !python -m spacy download en_core_web_sm"
   ]
  },
  {
   "cell_type": "code",
   "execution_count": 2,
   "id": "f1eb2aa9",
   "metadata": {},
   "outputs": [],
   "source": [
    "### Import Libraries ###\n",
    "from collections import Counter\n",
    "import csv\n",
    "import os\n",
    "import urllib.request\n",
    "\n",
    "from nltk.tokenize import word_tokenize\n",
    "import numpy as np\n",
    "from scipy.stats import spearmanr\n",
    "\n",
    "from sklearn.decomposition import LatentDirichletAllocation\n",
    "from sklearn.feature_extraction.text import CountVectorizer\n",
    "# import spacy"
   ]
  },
  {
   "cell_type": "markdown",
   "id": "4db1a6ae",
   "metadata": {},
   "source": [
    "# Required Data\n",
    "\n",
    "**Data Format:** \n",
    "* comma-separated value (.csv)\n",
    "\n",
    "**Data Source:**\n",
    "* [Rotten Tomatoes Dataset](https://www.kaggle.com/datasets/stefanoleone992/rotten-tomatoes-movies-and-critic-reviews-dataset)\n",
    "\n",
    "\n",
    "## Download Required Data"
   ]
  },
  {
   "cell_type": "code",
   "execution_count": 2,
   "id": "78186209",
   "metadata": {},
   "outputs": [],
   "source": [
    "### Retrieve multiple files using a list ###\n",
    "\n",
    "download_urls = [\n",
    "    'https://cs.hmc.edu/~xanda/data/rotten_tomatoes_critic_reviews_50k.csv',\n",
    "    # https://cs.hmc.edu/~xanda/data/rotten_tomatoes_critic_reviews_50k.csv', # the full dataset\n",
    "    'https://cs.hmc.edu/~xanda/data/rotten_tomatoes_movies.csv',\n",
    "    'https://cs.hmc.edu/~xanda/data/stoplist_en.txt' # a modification of an English stoplist constructed by David Mimno\n",
    "]\n",
    "\n",
    "for url in download_urls:\n",
    "    urllib.request.urlretrieve(url, url.rsplit('/', 1)[-1])"
   ]
  },
  {
   "cell_type": "markdown",
   "id": "6f11c162",
   "metadata": {},
   "source": [
    "# Introduction\n",
    "\n",
    "In the last section, we looked at classic ways to get data prepared to use for analysis. Today, we will do two types of analysis: first, finding terms within a lexicon, and second, running a topic model. However, our goal right now is not going to be finishing analysis, but instead starting to try things out and spot if there are subtler issues with our corpus."
   ]
  },
  {
   "cell_type": "markdown",
   "id": "2a2540b0",
   "metadata": {},
   "source": [
    "# Lesson"
   ]
  },
  {
   "cell_type": "markdown",
   "id": "690034f4",
   "metadata": {},
   "source": [
    "For our third and last lesson, our dataset will be a collection of RottenTomatoes reviews posted on Kaggle. (I sampled 50k reviews so it wouldn't take forever to download and run, but if you'd like the full collection you can comment out the lines above and below to download and load in the whole thing.)\n",
    "\n",
    "## Inspecting and slicing data\n",
    "\n",
    "Before we get far, let's go ahead and inspect our data by loading it in:"
   ]
  },
  {
   "cell_type": "code",
   "execution_count": 55,
   "id": "28ac05e6",
   "metadata": {},
   "outputs": [
    {
     "data": {
      "text/plain": [
       "\"\\nFirst, load in movie review data from RottenTomatoes. Sample will be in a CSV\\nNext, look at data and check features - lengths reasonable? top/bottom features seem normal? Who are our reviewers? What's the fresh vs rotten ratio?\\n+ Develop some hypotheses of things that might cause issues with this data\\nCheck for repeats - should be there (will add some if there aren't)\\nTrain classifier for fresh vs rotten - any obvious features? Find something promising and something weird!\\n+ Specific movie names? (Overrepresent a movie?)\\n+ Unusual features for sentiment?\\nTrain topic model with 5 topics - what do they look like?\\n+ Spot high-frequency unusual features\\n+ Find a weird topic (may need more topics) and look at docs - any sign of why they're together?\\n\\nWhat is the point of this process?\\n+ First, sometimes it's not obvious immediately that something is wrong (ex. unusual feature or copyright text) - that's okay\\n+ Sometimes it's going to be hard to know you need something until you get into it (I need to limit # of each movie) - also okay\\n+ Models fixate on unusual distinguishers so they can actually be good sleuths...so long as you have an evaluation plan afterwards\\n   - Held out test set until the very end\\n   - Human validation (labeling task or comparison task)\\n   \\n   \\nWhat works?\\n+ Keeping a log of choices\\n+ Trying several options at once\\n+ Don't remove stuff unless you have a reason why related to your question\\n+ \\n\""
      ]
     },
     "execution_count": 55,
     "metadata": {},
     "output_type": "execute_result"
    }
   ],
   "source": [
    "\"\"\"\n",
    "First, load in movie review data from RottenTomatoes. Sample will be in a CSV\n",
    "Next, look at data and check features - lengths reasonable? top/bottom features seem normal? Who are our reviewers? What's the fresh vs rotten ratio?\n",
    "+ Develop some hypotheses of things that might cause issues with this data\n",
    "Check for repeats - should be there (will add some if there aren't)\n",
    "Train classifier for fresh vs rotten - any obvious features? Find something promising and something weird!\n",
    "+ Specific movie names? (Overrepresent a movie?)\n",
    "+ Unusual features for sentiment?\n",
    "Train topic model with 5 topics - what do they look like?\n",
    "+ Spot high-frequency unusual features\n",
    "+ Find a weird topic (may need more topics) and look at docs - any sign of why they're together?\n",
    "\n",
    "What is the point of this process?\n",
    "+ First, sometimes it's not obvious immediately that something is wrong (ex. unusual feature or copyright text) - that's okay\n",
    "+ Sometimes it's going to be hard to know you need something until you get into it (I need to limit # of each movie) - also okay\n",
    "+ Models fixate on unusual distinguishers so they can actually be good sleuths...so long as you have an evaluation plan afterwards\n",
    "   - Held out test set until the very end\n",
    "   - Human validation (labeling task or comparison task)\n",
    "   \n",
    "   \n",
    "What works?\n",
    "+ Keeping a log of choices\n",
    "+ Trying several options at once\n",
    "+ Don't remove stuff unless you have a reason why related to your question\n",
    "+ \n",
    "\"\"\""
   ]
  },
  {
   "cell_type": "code",
   "execution_count": 56,
   "id": "d2d8732c",
   "metadata": {},
   "outputs": [],
   "source": [
    "# big file alternative:\n",
    "# with open(\"rotten_tomatoes_critic_reviews.csv\", encoding='utf-8') as reviews_file:\n",
    "with open(\"rotten_tomatoes_critic_reviews_50k.csv\", encoding='utf-8') as reviews_file:\n",
    "    csvr = csv.DictReader(reviews_file)\n",
    "    review_data = [row for row in csvr]"
   ]
  },
  {
   "cell_type": "markdown",
   "id": "bf0b1de6",
   "metadata": {},
   "source": [
    "Let's confirm we do have 50,000 reviews in our reviews file and what data we get with each:"
   ]
  },
  {
   "cell_type": "code",
   "execution_count": 22,
   "id": "fb3cea03",
   "metadata": {
    "scrolled": true
   },
   "outputs": [
    {
     "name": "stdout",
     "output_type": "stream",
     "text": [
      "# of reviews: 50000\n",
      "{'rotten_tomatoes_link': 'm/the_king_of_staten_island', 'critic_name': 'Roger Tennis', 'top_critic': 'False', 'publisher_name': 'Cinemaclips.com', 'review_type': 'Fresh', 'review_score': '3.5/5', 'review_date': '2020-06-11', 'review_content': \"SNL's Pete Davidson is a commanding presence in this appealing comedy/drama.\"}\n"
     ]
    }
   ],
   "source": [
    "print(\"# of reviews:\", len(review_data))\n",
    "print(review_data[0])"
   ]
  },
  {
   "cell_type": "markdown",
   "id": "350a3c48",
   "metadata": {},
   "source": [
    "Interesting - we get the review and reviewer information, but instead of getting a proper movie title or metadata about the movie, we just get a `rotten_tomatoes_link` to the part of the URL where a movie is. That's because there's a second CSV with metadata for each movie. Since we're going to be doing some cross-referencing between multiple dictionaries of things and it'll be easy to mistype, I'm going to leave myself some variables with the keys I need to pull information I care about: a unique ID for each movie, and where the text of the review is."
   ]
  },
  {
   "cell_type": "code",
   "execution_count": 6,
   "id": "b53e8f25",
   "metadata": {},
   "outputs": [],
   "source": [
    "ID_LINK = 'rotten_tomatoes_link'\n",
    "TEXT = 'review_content'"
   ]
  },
  {
   "cell_type": "markdown",
   "id": "819a470f",
   "metadata": {},
   "source": [
    "Now, let's take a look at what's in the second CSV of movie data:"
   ]
  },
  {
   "cell_type": "code",
   "execution_count": 7,
   "id": "52c10f44",
   "metadata": {},
   "outputs": [],
   "source": [
    "with open(\"rotten_tomatoes_movies.csv\", encoding='utf-8') as movies_file:\n",
    "    csvr = csv.DictReader(movies_file)\n",
    "    movie_data = [row for row in csvr]"
   ]
  },
  {
   "cell_type": "code",
   "execution_count": 8,
   "id": "49e00da2",
   "metadata": {},
   "outputs": [
    {
     "name": "stdout",
     "output_type": "stream",
     "text": [
      "# of movies: 17712\n",
      "{'rotten_tomatoes_link': 'm/0814255', 'movie_title': 'Percy Jackson & the Olympians: The Lightning Thief', 'movie_info': \"Always trouble-prone, the life of teenager Percy Jackson (Logan Lerman) gets a lot more complicated when he learns he's the son of the Greek god Poseidon. At a training ground for the children of deities, Percy learns to harness his divine powers and prepare for the adventure of a lifetime: he must prevent a feud among the Olympians from erupting into a devastating war on Earth, and rescue his mother from the clutches of Hades, god of the underworld.\", 'critics_consensus': 'Though it may seem like just another Harry Potter knockoff, Percy Jackson benefits from a strong supporting cast, a speedy plot, and plenty of fun with Greek mythology.', 'content_rating': 'PG', 'genres': 'Action & Adventure, Comedy, Drama, Science Fiction & Fantasy', 'directors': 'Chris Columbus', 'authors': 'Craig Titley, Chris Columbus, Rick Riordan', 'actors': \"Logan Lerman, Brandon T. Jackson, Alexandra Daddario, Jake Abel, Sean Bean, Pierce Brosnan, Steve Coogan, Rosario Dawson, Melina Kanakaredes, Catherine Keener, Kevin Mckidd, Joe Pantoliano, Uma Thurman, Ray Winstone, Julian Richings, Bonita Friedericy, Annie Ilonzeh, Tania Saulnier, Marie Avgeropoulos, Luisa D'Oliveira, Christie Laing, Marielle Jaffe, Elisa King, Chrystal Tisiga, Alexis Knapp, Charlie Gallant, Chelan Simmons, Andrea Brooks, Natassia Malthe, Max Van Ville, Serinda Swan, Dimitri Lekkos, Ona Grauer, Stefanie von Pfetten, Conrad Coates, Erica Cerra, Dylan Neal, Luke Camilleri, Holly Hougham, Ina Geraldine, Raquel Riskin, Yusleidis Oquendo, Janine Edwards, Valerie Tian, Violet Columbus, Sarah Smyth, Merritt Patterson, Julie Luck, Andrea Day, John Stewart, Suzanne Ristic, Deejay Jackson, Matthew Garrick, Stan Carp, Suzanna Ristic, Richard Harmon, Maria Olsen, Robin Lemon, Doyle Devereux, Tom Pickett, VJ Delos-Reyes, Tim Aas, Keith Dallas, Spencer Atkinson, Maya Washington, Loyd Bateman, Victor Ayala, Zane Holtz, Eli Zagoudakis, Matt Reimer, Rob Hayter, Lloyd Bateman, Shawn Beaton, Jarod Joseph, Reilly Dolman, Paul Cummings, Julie Brar, Dejan Loyola, Damian Arman, Mario Casoria, Dorla Bell, Carolyn Adair (II), Jade Pawluk, G. Patrick Currie, Darian Arman, Mariela Zapata, David L. Smith\", 'original_release_date': '2010-02-12', 'streaming_release_date': '2015-11-25', 'runtime': '119', 'production_company': '20th Century Fox', 'tomatometer_status': 'Rotten', 'tomatometer_rating': '49', 'tomatometer_count': '149', 'audience_status': 'Spilled', 'audience_rating': '53', 'audience_count': '254421', 'tomatometer_top_critics_count': '43', 'tomatometer_fresh_critics_count': '73', 'tomatometer_rotten_critics_count': '76'}\n"
     ]
    }
   ],
   "source": [
    "print(\"# of movies:\", len(movie_data))\n",
    "print(movie_data[0])"
   ]
  },
  {
   "cell_type": "markdown",
   "id": "c87e51a9",
   "metadata": {},
   "source": [
    "Here we go: this gives us movie information and, lucky for us, also has a `rotten_tomatoes_link` we can use to cross-reference between the two CSVs. We're going to quickly make a dictionary to help us look up the metadata for each movie using a *dictionary comprehension* (which is a lot like a list comprehension in Python, but generates key-value pairs in a dictionary instead!)"
   ]
  },
  {
   "cell_type": "code",
   "execution_count": 12,
   "id": "25233731",
   "metadata": {},
   "outputs": [],
   "source": [
    "movie_lookup = {md[ID_LINK]: md for md in movie_data}"
   ]
  },
  {
   "cell_type": "code",
   "execution_count": 13,
   "id": "f9c38861",
   "metadata": {
    "scrolled": true
   },
   "outputs": [
    {
     "data": {
      "text/plain": [
       "{'rotten_tomatoes_link': 'm/0814255',\n",
       " 'movie_title': 'Percy Jackson & the Olympians: The Lightning Thief',\n",
       " 'movie_info': \"Always trouble-prone, the life of teenager Percy Jackson (Logan Lerman) gets a lot more complicated when he learns he's the son of the Greek god Poseidon. At a training ground for the children of deities, Percy learns to harness his divine powers and prepare for the adventure of a lifetime: he must prevent a feud among the Olympians from erupting into a devastating war on Earth, and rescue his mother from the clutches of Hades, god of the underworld.\",\n",
       " 'critics_consensus': 'Though it may seem like just another Harry Potter knockoff, Percy Jackson benefits from a strong supporting cast, a speedy plot, and plenty of fun with Greek mythology.',\n",
       " 'content_rating': 'PG',\n",
       " 'genres': 'Action & Adventure, Comedy, Drama, Science Fiction & Fantasy',\n",
       " 'directors': 'Chris Columbus',\n",
       " 'authors': 'Craig Titley, Chris Columbus, Rick Riordan',\n",
       " 'actors': \"Logan Lerman, Brandon T. Jackson, Alexandra Daddario, Jake Abel, Sean Bean, Pierce Brosnan, Steve Coogan, Rosario Dawson, Melina Kanakaredes, Catherine Keener, Kevin Mckidd, Joe Pantoliano, Uma Thurman, Ray Winstone, Julian Richings, Bonita Friedericy, Annie Ilonzeh, Tania Saulnier, Marie Avgeropoulos, Luisa D'Oliveira, Christie Laing, Marielle Jaffe, Elisa King, Chrystal Tisiga, Alexis Knapp, Charlie Gallant, Chelan Simmons, Andrea Brooks, Natassia Malthe, Max Van Ville, Serinda Swan, Dimitri Lekkos, Ona Grauer, Stefanie von Pfetten, Conrad Coates, Erica Cerra, Dylan Neal, Luke Camilleri, Holly Hougham, Ina Geraldine, Raquel Riskin, Yusleidis Oquendo, Janine Edwards, Valerie Tian, Violet Columbus, Sarah Smyth, Merritt Patterson, Julie Luck, Andrea Day, John Stewart, Suzanne Ristic, Deejay Jackson, Matthew Garrick, Stan Carp, Suzanna Ristic, Richard Harmon, Maria Olsen, Robin Lemon, Doyle Devereux, Tom Pickett, VJ Delos-Reyes, Tim Aas, Keith Dallas, Spencer Atkinson, Maya Washington, Loyd Bateman, Victor Ayala, Zane Holtz, Eli Zagoudakis, Matt Reimer, Rob Hayter, Lloyd Bateman, Shawn Beaton, Jarod Joseph, Reilly Dolman, Paul Cummings, Julie Brar, Dejan Loyola, Damian Arman, Mario Casoria, Dorla Bell, Carolyn Adair (II), Jade Pawluk, G. Patrick Currie, Darian Arman, Mariela Zapata, David L. Smith\",\n",
       " 'original_release_date': '2010-02-12',\n",
       " 'streaming_release_date': '2015-11-25',\n",
       " 'runtime': '119',\n",
       " 'production_company': '20th Century Fox',\n",
       " 'tomatometer_status': 'Rotten',\n",
       " 'tomatometer_rating': '49',\n",
       " 'tomatometer_count': '149',\n",
       " 'audience_status': 'Spilled',\n",
       " 'audience_rating': '53',\n",
       " 'audience_count': '254421',\n",
       " 'tomatometer_top_critics_count': '43',\n",
       " 'tomatometer_fresh_critics_count': '73',\n",
       " 'tomatometer_rotten_critics_count': '76'}"
      ]
     },
     "execution_count": 13,
     "metadata": {},
     "output_type": "execute_result"
    }
   ],
   "source": [
    "movie_lookup['m/0814255']"
   ]
  },
  {
   "cell_type": "code",
   "execution_count": 23,
   "id": "6ec1d8da",
   "metadata": {
    "scrolled": true
   },
   "outputs": [
    {
     "name": "stdout",
     "output_type": "stream",
     "text": [
      "m/star_wars_episode_vii_the_force_awakens 48\n",
      "m/solo_a_star_wars_story 46\n",
      "m/suicide_squad_2016 45\n",
      "m/star_wars_the_rise_of_skywalker 44\n",
      "m/spider_man_far_from_home 43\n",
      "m/spider_man_homecoming 42\n",
      "m/ready_player_one 42\n",
      "m/shazam 42\n",
      "m/spotlight_2015 41\n",
      "m/star_wars_the_last_jedi 41\n",
      "m/ready_or_not_2019 37\n",
      "m/star_wars_episode_iii_revenge_of_the_sith 37\n",
      "m/roma_2018 36\n",
      "m/spider_man_into_the_spider_verse 36\n",
      "m/star_trek_11 35\n",
      "m/rocketman_2019 34\n",
      "m/room_2015 34\n",
      "m/split_2017 33\n",
      "m/red_sparrow 33\n",
      "m/sully 33\n",
      "m/rogue_one_a_star_wars_story 31\n",
      "m/sin_city 31\n",
      "m/prometheus_2012 31\n",
      "m/steve_jobs_2015 30\n",
      "m/joker_2019 29\n",
      "m/skyfall 29\n",
      "m/prisoners_2013 29\n",
      "m/shrek_3 29\n",
      "m/richard_jewell 28\n",
      "m/super_8 28\n",
      "m/slumdog_millionaire 28\n",
      "m/spiderman_2 28\n",
      "m/son_of_saul 28\n",
      "m/scott_pilgrims_vs_the_world 28\n",
      "m/san_andreas 27\n",
      "m/star_trek_beyond 27\n",
      "m/silver_linings_playbook 27\n",
      "m/prince_of_persia_sands_of_time 26\n",
      "m/sicario_2015 26\n",
      "m/side_effects_2013 26\n",
      "m/once_upon_a_time_in_hollywood 26\n",
      "m/snowden 26\n",
      "m/avengers_endgame 26\n",
      "m/sideways 26\n",
      "m/sonic_the_hedgehog_2020 25\n",
      "m/a_star_is_born_2018 25\n",
      "m/red_dragon 25\n",
      "m/sorry_to_bother_you_2018 25\n",
      "m/rise_of_the_planet_of_the_apes 25\n",
      "m/shrek_2 25\n",
      "m/spectre_2015 25\n",
      "m/snowpiercer 25\n",
      "m/spiderman 25\n",
      "m/12_years_a_slave 24\n",
      "m/spiderman_3 24\n",
      "m/the_lion_king_2019 24\n",
      "m/captain_marvel 24\n",
      "m/sunshine 24\n",
      "m/speed_racer 24\n",
      "m/saving_mr_banks_2013 23\n",
      "m/seven_psychopaths 23\n",
      "m/star_trek_into_darkness 23\n",
      "m/yesterday_2019 23\n",
      "m/portrait_of_a_lady_on_fire 23\n",
      "m/spy_2015 23\n",
      "m/selma 23\n",
      "m/stuber 23\n",
      "m/snow_white_and_the_huntsman 23\n",
      "m/beauty_and_the_beast_2017 23\n",
      "m/suburbicon 23\n",
      "m/oceans_8 23\n",
      "m/shame_2011 23\n",
      "m/lady_bird 23\n",
      "m/arrival_2016 23\n",
      "m/blade_runner_2049 23\n",
      "m/midsommar 22\n",
      "m/guardians_of_the_galaxy 22\n",
      "m/skyscraper_2018 22\n",
      "m/the_lego_movie_2_the_second_part 22\n",
      "m/blackkklansman 22\n",
      "m/t2_trainspotting 22\n",
      "m/somewhere_2010 22\n",
      "m/birds_of_prey_2020 22\n",
      "m/soloist 22\n",
      "m/get_out 22\n",
      "m/dunkirk_2017 22\n",
      "m/bohemian_rhapsody 22\n",
      "m/sixth_sense 22\n",
      "m/possession 22\n",
      "m/knives_out 22\n",
      "m/rock_of_ages_2012 21\n",
      "m/glass_2019 21\n",
      "m/shaun_of_the_dead 21\n",
      "m/moonlight_2016 21\n",
      "m/1917_2019 21\n",
      "m/district_9 21\n",
      "m/superman_man_of_steel 21\n",
      "m/toy_story_4 21\n",
      "m/us_2019 21\n",
      "m/star_wars_episode_i_the_phantom_menace 21\n"
     ]
    }
   ],
   "source": [
    "num_reviews_by_movie = Counter(rd[ID_LINK] for rd in review_data)\n",
    "top_movies = num_reviews_by_movie.most_common()\n",
    "for movie_title, count in top_movies[:100]:\n",
    "    print(movie_title, count)"
   ]
  },
  {
   "cell_type": "markdown",
   "id": "25704826",
   "metadata": {},
   "source": [
    "**Exercise** What do we notice about the movies here? What's present and what's absent? What gets the most reviews?\n",
    "\n",
    "That's a lot of movies! Can we just pull out the comedies to explore those more? I'm going to generate a *set* of the movie IDs for movies marked as comedies. A set keeps track of distinct elements in a way that makes it quick to check whether or not something is in the set, but without preserving order:"
   ]
  },
  {
   "cell_type": "code",
   "execution_count": 19,
   "id": "1eadae16",
   "metadata": {},
   "outputs": [
    {
     "name": "stdout",
     "output_type": "stream",
     "text": [
      "Number of comedies: 5674\n"
     ]
    }
   ],
   "source": [
    "comedy_ids = set([m[ID_LINK] for m in movie_data if 'Comedy' in m['genres']])\n",
    "print(\"Number of comedies:\", len(comedy_ids))"
   ]
  },
  {
   "cell_type": "markdown",
   "id": "a23d6cfc",
   "metadata": {},
   "source": [
    "Now, let's check which genres this pulled out:"
   ]
  },
  {
   "cell_type": "code",
   "execution_count": 16,
   "id": "b759c7ec",
   "metadata": {
    "scrolled": true
   },
   "outputs": [
    {
     "name": "stdout",
     "output_type": "stream",
     "text": [
      "[('Comedy', 1263), ('Comedy, Drama', 863), ('Comedy, Drama, Romance', 312), ('Comedy, Romance', 273), ('Art House & International, Comedy, Drama', 268), ('Action & Adventure, Comedy', 180), ('Comedy, Kids & Family', 125), ('Comedy, Horror', 96), ('Art House & International, Comedy', 93), ('Action & Adventure, Comedy, Drama', 87), ('Comedy, Drama, Mystery & Suspense', 81), ('Comedy, Science Fiction & Fantasy', 66), ('Animation, Comedy, Kids & Family', 65), ('Art House & International, Comedy, Drama, Romance', 63), ('Classics, Comedy, Drama', 61), ('Classics, Comedy', 59), ('Action & Adventure, Comedy, Science Fiction & Fantasy', 55), ('Comedy, Drama, Musical & Performing Arts', 49), ('Classics, Comedy, Drama, Romance', 46), ('Classics, Comedy, Romance', 42), ('Comedy, Mystery & Suspense', 42), ('Comedy, Musical & Performing Arts', 40), ('Action & Adventure, Animation, Comedy, Kids & Family', 40), ('Action & Adventure, Comedy, Kids & Family', 38), ('Comedy, Drama, Kids & Family', 36), ('Comedy, Horror, Science Fiction & Fantasy', 35), ('Comedy, Drama, Science Fiction & Fantasy', 34), ('Action & Adventure, Comedy, Mystery & Suspense', 32), ('Comedy, Kids & Family, Science Fiction & Fantasy', 31), ('Classics, Comedy, Musical & Performing Arts, Romance', 29), ('Action & Adventure, Comedy, Drama, Mystery & Suspense', 28), ('Action & Adventure, Art House & International, Comedy', 25), ('Art House & International, Comedy, Drama, Mystery & Suspense', 22), ('Animation, Comedy', 21), ('Art House & International, Comedy, Romance', 20), ('Comedy, Documentary', 19), ('Action & Adventure, Comedy, Kids & Family, Science Fiction & Fantasy', 18), ('Action & Adventure, Animation, Comedy', 18), ('Classics, Comedy, Musical & Performing Arts', 18), ('Comedy, Documentary, Special Interest', 18), ('Comedy, Horror, Mystery & Suspense', 17), ('Comedy, Musical & Performing Arts, Romance', 14), ('Art House & International, Comedy, Horror', 14), ('Action & Adventure, Comedy, Romance', 14), ('Action & Adventure, Comedy, Horror', 14), ('Classics, Comedy, Drama, Musical & Performing Arts', 14), ('Comedy, Television', 14), ('Action & Adventure, Art House & International, Comedy, Drama, Mystery & Suspense', 13), ('Comedy, Drama, Musical & Performing Arts, Romance', 12), ('Classics, Comedy, Western', 12), ('Art House & International, Comedy, Drama, Musical & Performing Arts', 12), ('Comedy, Drama, Special Interest', 11), ('Comedy, Science Fiction & Fantasy, Romance', 11), ('Action & Adventure, Animation, Comedy, Kids & Family, Science Fiction & Fantasy', 11), ('Comedy, Drama, Gay & Lesbian', 11), ('Action & Adventure, Comedy, Drama, Romance', 11), ('Comedy, Drama, Science Fiction & Fantasy, Romance', 10), ('Comedy, Kids & Family, Television', 10), ('Action & Adventure, Classics, Comedy, Drama', 10), ('Classics, Comedy, Drama, Musical & Performing Arts, Romance', 10), ('Comedy, Drama, Sports & Fitness', 9), ('Animation, Comedy, Kids & Family, Science Fiction & Fantasy', 9), ('Comedy, Special Interest', 9), ('Animation, Comedy, Drama', 9), ('Action & Adventure, Comedy, Drama, Kids & Family', 9), ('Classics, Comedy, Drama, Mystery & Suspense', 8), ('Action & Adventure, Art House & International, Comedy, Drama', 8), ('Comedy, Documentary, Drama, Special Interest', 8), ('Comedy, Gay & Lesbian', 8), ('Comedy, Drama, Television', 7), ('Art House & International, Comedy, Drama, Special Interest', 7), ('Comedy, Documentary, Musical & Performing Arts', 7), ('Action & Adventure, Classics, Comedy, Drama, Mystery & Suspense', 7), ('Action & Adventure, Comedy, Western', 7), ('Action & Adventure, Comedy, Kids & Family, Mystery & Suspense', 7), ('Comedy, Kids & Family, Romance', 7), ('Comedy, Documentary, Television', 7), ('Action & Adventure, Comedy, Horror, Science Fiction & Fantasy', 7), ('Action & Adventure, Comedy, Mystery & Suspense, Science Fiction & Fantasy', 6), ('Classics, Comedy, Drama, Science Fiction & Fantasy', 6), ('Comedy, Drama, Horror', 6), ('Action & Adventure, Comedy, Drama, Science Fiction & Fantasy', 6), ('Comedy, Drama, Romance, Gay & Lesbian', 6), ('Comedy, Documentary, Special Interest, Television', 6), ('Comedy, Drama, Kids & Family, Science Fiction & Fantasy', 6), ('Art House & International, Comedy, Drama, Science Fiction & Fantasy', 6), ('Art House & International, Classics, Comedy, Drama, Romance', 6), ('Classics, Comedy, Kids & Family', 6), ('Art House & International, Comedy, Drama, Musical & Performing Arts, Romance', 6), ('Classics, Comedy, Mystery & Suspense', 5), ('Classics, Comedy, Horror, Science Fiction & Fantasy', 5), ('Comedy, Western', 5), ('Comedy, Drama, Horror, Mystery & Suspense', 5), ('Art House & International, Comedy, Mystery & Suspense', 5), ('Action & Adventure, Classics, Comedy', 5), ('Classics, Comedy, Drama, Kids & Family, Musical & Performing Arts', 4), ('Action & Adventure, Art House & International, Comedy, Horror', 4), ('Comedy, Horror, Musical & Performing Arts', 4), ('Art House & International, Comedy, Science Fiction & Fantasy, Romance', 4), ('Comedy, Kids & Family, Musical & Performing Arts', 4), ('Art House & International, Comedy, Science Fiction & Fantasy', 4), ('Action & Adventure, Animation, Comedy, Science Fiction & Fantasy', 4), ('Comedy, Musical & Performing Arts, Science Fiction & Fantasy', 4), ('Comedy, Sports & Fitness', 4), ('Art House & International, Comedy, Musical & Performing Arts', 4), ('Art House & International, Comedy, Drama, Science Fiction & Fantasy, Romance', 4), ('Comedy, Horror, Mystery & Suspense, Science Fiction & Fantasy', 4), ('Comedy, Documentary, Musical & Performing Arts, Special Interest', 4), ('Comedy, Drama, Mystery & Suspense, Science Fiction & Fantasy', 4), ('Comedy, Special Interest, Romance', 4), ('Comedy, Horror, Romance', 4), ('Art House & International, Classics, Comedy, Drama', 4), ('Art House & International, Comedy, Drama, Kids & Family', 4), ('Classics, Comedy, Science Fiction & Fantasy', 4), ('Action & Adventure, Classics, Comedy, Drama, Romance', 4), ('Art House & International, Comedy, Documentary, Drama, Special Interest', 4), ('Classics, Comedy, Kids & Family, Science Fiction & Fantasy', 4), ('Action & Adventure, Art House & International, Comedy, Drama, Romance', 4), ('Comedy, Mystery & Suspense, Romance', 3), ('Action & Adventure, Art House & International, Comedy, Romance', 3), ('Action & Adventure, Animation, Art House & International, Comedy', 3), ('Comedy, Kids & Family, Special Interest', 3), ('Action & Adventure, Comedy, Horror, Mystery & Suspense', 3), ('Comedy, Drama, Kids & Family, Romance', 3), ('Comedy, Drama, Kids & Family, Musical & Performing Arts', 3), ('Art House & International, Comedy, Musical & Performing Arts, Romance', 3), ('Art House & International, Comedy, Drama, Mystery & Suspense, Romance', 3), ('Classics, Comedy, Kids & Family, Musical & Performing Arts', 3), ('Action & Adventure, Comedy, Cult Movies', 3), ('Action & Adventure, Comedy, Kids & Family, Romance', 3), ('Animation, Comedy, Drama, Kids & Family', 3), ('Action & Adventure, Comedy, Kids & Family, Musical & Performing Arts', 3), ('Comedy, Cult Movies', 3), ('Classics, Comedy, Musical & Performing Arts, Western', 3), ('Classics, Comedy, Drama, Science Fiction & Fantasy, Romance', 3), ('Animation, Comedy, Kids & Family, Special Interest', 3), ('Action & Adventure, Classics, Comedy, Kids & Family, Science Fiction & Fantasy', 3), ('Comedy, Mystery & Suspense, Science Fiction & Fantasy', 3), ('Action & Adventure, Art House & International, Comedy, Mystery & Suspense', 3), ('Animation, Comedy, Kids & Family, Musical & Performing Arts', 3), ('Animation, Comedy, Science Fiction & Fantasy', 2), ('Classics, Comedy, Drama, Mystery & Suspense, Romance', 2), ('Action & Adventure, Comedy, Drama, Mystery & Suspense, Romance', 2), ('Comedy, Cult Movies, Drama', 2), ('Comedy, Musical & Performing Arts, Mystery & Suspense, Science Fiction & Fantasy', 2), ('Art House & International, Comedy, Kids & Family, Science Fiction & Fantasy', 2), ('Classics, Comedy, Musical & Performing Arts, Western, Romance', 2), ('Action & Adventure, Classics, Comedy, Drama, Mystery & Suspense, Romance', 2), ('Action & Adventure, Art House & International, Classics, Comedy', 2), ('Action & Adventure, Classics, Comedy, Western, Romance', 2), ('Classics, Comedy, Horror, Mystery & Suspense', 2), ('Classics, Comedy, Drama, Musical & Performing Arts, Science Fiction & Fantasy', 2), ('Animation, Art House & International, Comedy, Drama, Science Fiction & Fantasy', 2), ('Action & Adventure, Classics, Comedy, Drama, Musical & Performing Arts', 2), ('Action & Adventure, Art House & International, Comedy, Drama, Horror', 2), ('Action & Adventure, Comedy, Drama, Western', 2), ('Comedy, Drama, Kids & Family, Television', 2), ('Comedy, Drama, Western', 2), ('Classics, Comedy, Drama, Kids & Family', 2), ('Action & Adventure, Comedy, Cult Movies, Western', 2), ('Action & Adventure, Art House & International, Comedy, Mystery & Suspense, Science Fiction & Fantasy', 2), ('Action & Adventure, Art House & International, Comedy, Drama, Musical & Performing Arts, Romance', 2), ('Animation, Art House & International, Comedy', 2), ('Art House & International, Classics, Comedy, Drama, Science Fiction & Fantasy', 2), ('Action & Adventure, Classics, Comedy, Mystery & Suspense', 2), ('Classics, Comedy, Kids & Family, Musical & Performing Arts, Science Fiction & Fantasy', 2), ('Art House & International, Comedy, Special Interest', 2), ('Comedy, Drama, Musical & Performing Arts, Mystery & Suspense', 2), ('Classics, Comedy, Horror', 2), ('Action & Adventure, Comedy, Kids & Family, Television', 2), ('Art House & International, Comedy, Drama, Romance, Gay & Lesbian', 2), ('Action & Adventure, Comedy, Documentary', 2), ('Action & Adventure, Classics, Comedy, Horror', 2), ('Comedy, Drama, Musical & Performing Arts, Special Interest', 2), ('Animation, Art House & International, Comedy, Drama', 2), ('Comedy, Documentary, Science Fiction & Fantasy, Special Interest', 2), ('Comedy, Musical & Performing Arts, Gay & Lesbian', 2), ('Art House & International, Comedy, Drama, Television', 2), ('Action & Adventure, Comedy, Mystery & Suspense, Romance', 2), ('Art House & International, Comedy, Drama, Horror', 2), ('Art House & International, Classics, Comedy, Musical & Performing Arts', 2), ('Art House & International, Comedy, Horror, Science Fiction & Fantasy', 2), ('Art House & International, Comedy, Drama, Sports & Fitness', 2), ('Art House & International, Comedy, Documentary, Drama', 2), ('Action & Adventure, Classics, Comedy, Kids & Family', 2), ('Animation, Art House & International, Comedy, Kids & Family', 2), ('Classics, Comedy, Drama, Horror, Mystery & Suspense', 2), ('Comedy, Romance, Gay & Lesbian', 2), ('Comedy, Documentary, Special Interest, Sports & Fitness', 2), ('Comedy, Science Fiction & Fantasy, Special Interest', 2), ('Action & Adventure, Animation, Comedy, Drama, Kids & Family', 2), ('Action & Adventure, Classics, Comedy, Western', 2), ('Comedy, Cult Movies, Horror, Science Fiction & Fantasy', 2), ('Comedy, Horror, Kids & Family', 2), ('Comedy, Drama, Kids & Family, Sports & Fitness', 2), ('Action & Adventure, Comedy, Drama, Musical & Performing Arts', 2), ('Comedy, Drama, Mystery & Suspense, Romance', 2), ('Action & Adventure, Art House & International, Comedy, Documentary, Drama', 2), ('Comedy, Drama, Horror, Special Interest', 1), ('Classics, Comedy, Cult Movies, Documentary, Drama', 1), ('Animation, Comedy, Science Fiction & Fantasy, Television', 1), ('Comedy, Drama, Mystery & Suspense, Sports & Fitness', 1), ('Animation, Anime & Manga, Art House & International, Comedy, Kids & Family', 1), ('Action & Adventure, Comedy, Horror, Television', 1), ('Action & Adventure, Art House & International, Classics, Comedy, Documentary, Drama', 1), ('Animation, Comedy, Kids & Family, Musical & Performing Arts, Romance', 1), ('Action & Adventure, Animation, Comedy, Kids & Family, Musical & Performing Arts, Science Fiction & Fantasy', 1), ('Comedy, Horror, Musical & Performing Arts, Television', 1), ('Comedy, Musical & Performing Arts, Sports & Fitness', 1), ('Classics, Comedy, Kids & Family, Television', 1), ('Art House & International, Classics, Comedy, Horror, Science Fiction & Fantasy', 1), ('Art House & International, Comedy, Drama, Horror, Science Fiction & Fantasy', 1), ('Action & Adventure, Animation, Classics, Comedy, Kids & Family', 1), ('Action & Adventure, Comedy, Kids & Family, Science Fiction & Fantasy, Television', 1), ('Action & Adventure, Comedy, Special Interest', 1), ('Comedy, Drama, Faith & Spirituality, Sports & Fitness', 1), ('Comedy, Documentary, Special Interest, Television, Sports & Fitness', 1), ('Art House & International, Comedy, Musical & Performing Arts, Science Fiction & Fantasy, Television, Romance', 1), ('Comedy, Musical & Performing Arts, Television, Romance', 1), ('Comedy, Drama, Science Fiction & Fantasy, Gay & Lesbian', 1), ('Action & Adventure, Animation, Comedy, Drama', 1), ('Action & Adventure, Animation, Comedy, Horror, Mystery & Suspense', 1), ('Classics, Comedy, Drama, Musical & Performing Arts, Western', 1), ('Classics, Comedy, Drama, Mystery & Suspense, Special Interest, Romance', 1), ('Action & Adventure, Animation, Comedy, Kids & Family, Musical & Performing Arts, Romance', 1), ('Comedy, Cult Movies, Mystery & Suspense, Science Fiction & Fantasy', 1), ('Art House & International, Classics, Comedy, Drama, Mystery & Suspense', 1), ('Animation, Classics, Comedy, Kids & Family, Mystery & Suspense', 1), ('Art House & International, Comedy, Drama, Television, Romance', 1), ('Action & Adventure, Comedy, Drama, Horror', 1), ('Action & Adventure, Comedy, Drama, Kids & Family, Mystery & Suspense', 1), ('Action & Adventure, Classics, Comedy, Drama, Musical & Performing Arts, Science Fiction & Fantasy, Romance', 1), ('Comedy, Science Fiction & Fantasy, Special Interest, Romance', 1), ('Classics, Comedy, Special Interest', 1), ('Art House & International, Comedy, Documentary, Drama, Special Interest, Faith & Spirituality', 1), ('Classics, Comedy, Drama, Special Interest', 1), ('Action & Adventure, Comedy, Horror, Musical & Performing Arts', 1), ('Action & Adventure, Classics, Comedy, Kids & Family, Romance', 1), ('Action & Adventure, Comedy, Cult Movies, Drama, Musical & Performing Arts', 1), ('Art House & International, Comedy, Science Fiction & Fantasy, Special Interest', 1), ('Comedy, Drama, Kids & Family, Mystery & Suspense', 1), ('Art House & International, Comedy, Special Interest, Romance', 1), ('Action & Adventure, Animation, Comedy, Musical & Performing Arts', 1), ('Classics, Comedy, Musical & Performing Arts, Science Fiction & Fantasy', 1), ('Art House & International, Comedy, Documentary, Drama, Kids & Family, Special Interest', 1), ('Comedy, Television, Romance', 1), ('Comedy, Musical & Performing Arts, Television', 1), ('Classics, Comedy, Science Fiction & Fantasy, Romance', 1), ('Action & Adventure, Comedy, Kids & Family, Musical & Performing Arts, Science Fiction & Fantasy', 1), ('Comedy, Kids & Family, Musical & Performing Arts, Television, Romance', 1), ('Comedy, Horror, Kids & Family, Mystery & Suspense, Science Fiction & Fantasy', 1), ('Classics, Comedy, Cult Movies, Horror, Musical & Performing Arts', 1), ('Art House & International, Comedy, Drama, Romance, Sports & Fitness', 1), ('Action & Adventure, Art House & International, Comedy, Kids & Family', 1), ('Comedy, Drama, Mystery & Suspense, Science Fiction & Fantasy, Romance', 1), ('Action & Adventure, Animation, Art House & International, Comedy, Science Fiction & Fantasy', 1), ('Art House & International, Comedy, Romance, Gay & Lesbian', 1), ('Comedy, Drama, Horror, Romance', 1), ('Comedy, Mystery & Suspense, Science Fiction & Fantasy, Romance', 1), ('Animation, Comedy, Kids & Family, Musical & Performing Arts, Science Fiction & Fantasy, Romance', 1), ('Art House & International, Comedy, Drama, Horror, Musical & Performing Arts', 1), ('Classics, Comedy, Kids & Family, Western', 1), ('Action & Adventure, Art House & International, Classics, Comedy, Cult Movies, Horror, Science Fiction & Fantasy', 1), ('Animation, Comedy, Kids & Family, Faith & Spirituality', 1), ('Action & Adventure, Classics, Comedy, Documentary, Drama, Musical & Performing Arts', 1), ('Classics, Comedy, Drama, Science Fiction & Fantasy, Romance, Faith & Spirituality', 1), ('Classics, Comedy, Documentary, Sports & Fitness', 1), ('Comedy, Kids & Family, Science Fiction & Fantasy, Romance', 1), ('Art House & International, Comedy, Drama, Science Fiction & Fantasy, Special Interest', 1), ('Comedy, Kids & Family, Musical & Performing Arts, Television', 1), ('Action & Adventure, Comedy, Horror, Science Fiction & Fantasy, Special Interest', 1), ('Animation, Classics, Comedy, Horror, Kids & Family', 1), ('Comedy, Horror, Mystery & Suspense, Television', 1), ('Comedy, Documentary, Horror', 1), ('Action & Adventure, Comedy, Drama, Horror, Mystery & Suspense, Science Fiction & Fantasy, Romance', 1), ('Art House & International, Comedy, Kids & Family', 1), ('Comedy, Documentary, Drama, Romance, Gay & Lesbian', 1), ('Art House & International, Classics, Comedy, Drama, Musical & Performing Arts, Science Fiction & Fantasy, Romance', 1), ('Action & Adventure, Animation, Classics, Comedy, Kids & Family, Musical & Performing Arts', 1), ('Action & Adventure, Comedy, Cult Movies, Mystery & Suspense', 1), ('Art House & International, Comedy, Documentary, Drama, Musical & Performing Arts', 1), ('Comedy, Documentary, Kids & Family, Special Interest', 1), ('Art House & International, Comedy, Science Fiction & Fantasy, Gay & Lesbian', 1), ('Comedy, Horror, Kids & Family, Science Fiction & Fantasy', 1), ('Classics, Comedy, Drama, Mystery & Suspense, Science Fiction & Fantasy, Romance', 1), ('Action & Adventure, Classics, Comedy, Cult Movies, Science Fiction & Fantasy', 1), ('Action & Adventure, Comedy, Drama, Musical & Performing Arts, Romance, Gay & Lesbian', 1), ('Action & Adventure, Comedy, Drama, Musical & Performing Arts, Romance', 1), ('Art House & International, Comedy, Cult Movies, Drama, Mystery & Suspense', 1), ('Action & Adventure, Comedy, Science Fiction & Fantasy, Romance', 1), ('Action & Adventure, Art House & International, Comedy, Drama, Mystery & Suspense, Science Fiction & Fantasy', 1), ('Action & Adventure, Comedy, Drama, Science Fiction & Fantasy, Romance', 1), ('Animation, Comedy, Drama, Kids & Family, Musical & Performing Arts', 1), ('Art House & International, Comedy, Gay & Lesbian', 1), ('Comedy, Science Fiction & Fantasy, Romance, Sports & Fitness', 1), ('Art House & International, Comedy, Drama, Musical & Performing Arts, Science Fiction & Fantasy', 1), ('Comedy, Kids & Family, Western', 1), ('Animation, Comedy, Musical & Performing Arts', 1), ('Animation, Classics, Comedy, Kids & Family', 1), ('Art House & International, Comedy, Documentary, Special Interest, Television', 1), ('Classics, Comedy, Drama, Western, Romance', 1), ('Action & Adventure, Comedy, Musical & Performing Arts', 1), ('Art House & International, Comedy, Drama, Kids & Family, Science Fiction & Fantasy', 1), ('Comedy, Musical & Performing Arts, Special Interest', 1), ('Comedy, Documentary, Drama, Musical & Performing Arts', 1), ('Action & Adventure, Animation, Comedy, Drama, Kids & Family, Science Fiction & Fantasy', 1), ('Comedy, Documentary, Faith & Spirituality', 1), ('Animation, Comedy, Musical & Performing Arts, Special Interest', 1), ('Classics, Comedy, Kids & Family, Romance', 1), ('Action & Adventure, Comedy, Musical & Performing Arts, Science Fiction & Fantasy, Western', 1), ('Comedy, Documentary, Drama, Romance', 1), ('Art House & International, Comedy, Horror, Science Fiction & Fantasy, Special Interest', 1), ('Art House & International, Comedy, Drama, Kids & Family, Romance', 1), ('Comedy, Documentary, Drama', 1), ('Art House & International, Classics, Comedy', 1), ('Action & Adventure, Comedy, Sports & Fitness', 1), ('Comedy, Documentary, Drama, Kids & Family, Faith & Spirituality', 1), ('Comedy, Drama, Faith & Spirituality', 1), ('Art House & International, Classics, Comedy, Gay & Lesbian', 1), ('Classics, Comedy, Kids & Family, Mystery & Suspense', 1), ('Comedy, Horror, Kids & Family, Mystery & Suspense', 1), ('Animation, Classics, Comedy, Kids & Family, Musical & Performing Arts, Television', 1), ('Art House & International, Comedy, Drama, Musical & Performing Arts, Special Interest', 1), ('Action & Adventure, Animation, Comedy, Kids & Family, Musical & Performing Arts', 1), ('Classics, Comedy, Drama, Sports & Fitness', 1), ('Animation, Classics, Comedy, Kids & Family, Science Fiction & Fantasy', 1), ('Animation, Comedy, Horror, Romance', 1), ('Action & Adventure, Classics, Comedy, Musical & Performing Arts, Romance', 1), ('Comedy, Cult Movies, Documentary, Drama, Musical & Performing Arts, Special Interest', 1), ('Comedy, Horror, Musical & Performing Arts, Science Fiction & Fantasy', 1), ('Action & Adventure, Art House & International, Comedy, Cult Movies, Horror, Science Fiction & Fantasy', 1), ('Animation, Comedy, Special Interest', 1), ('Art House & International, Comedy, Musical & Performing Arts, Sports & Fitness', 1), ('Action & Adventure, Comedy, Drama, Science Fiction & Fantasy, Television', 1), ('Action & Adventure, Comedy, Drama, Kids & Family, Mystery & Suspense, Science Fiction & Fantasy', 1), ('Classics, Comedy, Drama, Kids & Family, Musical & Performing Arts, Science Fiction & Fantasy', 1), ('Action & Adventure, Art House & International, Comedy, Special Interest', 1), ('Art House & International, Comedy, Western', 1), ('Classics, Comedy, Cult Movies, Horror', 1), ('Action & Adventure, Comedy, Documentary, Sports & Fitness', 1), ('Classics, Comedy, Drama, Musical & Performing Arts, Mystery & Suspense', 1), ('Comedy, Documentary, Kids & Family', 1), ('Action & Adventure, Comedy, Science Fiction & Fantasy, Special Interest', 1), ('Comedy, Drama, Kids & Family, Science Fiction & Fantasy, Television', 1), ('Classics, Comedy, Cult Movies, Horror, Musical & Performing Arts, Science Fiction & Fantasy', 1), ('Action & Adventure, Classics, Comedy, Drama, Musical & Performing Arts, Mystery & Suspense', 1), ('Animation, Classics, Comedy, Kids & Family, Musical & Performing Arts, Science Fiction & Fantasy', 1), ('Comedy, Drama, Horror, Kids & Family', 1), ('Comedy, Cult Movies, Drama, Science Fiction & Fantasy', 1), ('Action & Adventure, Art House & International, Comedy, Drama, Gay & Lesbian', 1), ('Action & Adventure, Animation, Comedy, Documentary, Kids & Family', 1), ('Art House & International, Comedy, Drama, Mystery & Suspense, Science Fiction & Fantasy', 1), ('Comedy, Documentary, Drama, Television', 1), ('Animation, Anime & Manga, Comedy, Romance', 1), ('Action & Adventure, Classics, Comedy, Musical & Performing Arts', 1), ('Comedy, Mystery & Suspense, Special Interest', 1), ('Animation, Classics, Comedy, Kids & Family, Special Interest', 1), ('Action & Adventure, Comedy, Musical & Performing Arts, Science Fiction & Fantasy', 1), ('Action & Adventure, Art House & International, Comedy, Drama, Science Fiction & Fantasy', 1), ('Action & Adventure, Art House & International, Comedy, Cult Movies, Drama', 1), ('Comedy, Documentary, Drama, Special Interest, Romance', 1), ('Action & Adventure, Animation, Comedy, Kids & Family, Mystery & Suspense', 1), ('Animation, Comedy, Horror, Science Fiction & Fantasy', 1), ('Action & Adventure, Art House & International, Comedy, Science Fiction & Fantasy', 1), ('Animation, Comedy, Documentary, Drama, Special Interest, Romance', 1), ('Comedy, Cult Movies, Horror', 1), ('Comedy, Drama, Kids & Family, Musical & Performing Arts, Television', 1), ('Action & Adventure, Comedy, Drama, Kids & Family, Science Fiction & Fantasy', 1), ('Animation, Comedy, Kids & Family, Musical & Performing Arts, Television', 1), ('Action & Adventure, Classics, Comedy, Science Fiction & Fantasy', 1), ('Art House & International, Comedy, Television, Romance', 1), ('Art House & International, Comedy, Drama, Kids & Family, Musical & Performing Arts, Romance', 1), ('Action & Adventure, Animation, Comedy, Drama, Kids & Family, Musical & Performing Arts', 1), ('Animation, Art House & International, Comedy, Kids & Family, Mystery & Suspense', 1), ('Classics, Comedy, Drama, Kids & Family, Science Fiction & Fantasy', 1), ('Action & Adventure, Comedy, Kids & Family, Mystery & Suspense, Science Fiction & Fantasy', 1), ('Animation, Art House & International, Comedy, Drama, Kids & Family, Science Fiction & Fantasy', 1), ('Classics, Comedy, Drama, Kids & Family, Romance', 1), ('Comedy, Drama, Horror, Science Fiction & Fantasy', 1), ('Action & Adventure, Art House & International, Comedy, Drama, Musical & Performing Arts', 1), ('Art House & International, Comedy, Horror, Mystery & Suspense', 1), ('Animation, Comedy, Drama, Science Fiction & Fantasy', 1), ('Animation, Classics, Comedy, Drama, Kids & Family', 1), ('Action & Adventure, Comedy, Drama, Mystery & Suspense, Western', 1), ('Action & Adventure, Comedy, Kids & Family, Science Fiction & Fantasy, Romance', 1), ('Action & Adventure, Classics, Comedy, Romance', 1), ('Comedy, Cult Movies, Drama, Mystery & Suspense, Science Fiction & Fantasy', 1), ('Comedy, Musical & Performing Arts, Western', 1), ('Action & Adventure, Comedy, Kids & Family, Special Interest', 1), ('Comedy, Cult Movies, Horror, Mystery & Suspense, Science Fiction & Fantasy', 1), ('Action & Adventure, Art House & International, Comedy, Drama, Kids & Family', 1), ('Classics, Comedy, Documentary, Musical & Performing Arts, Special Interest', 1), ('Action & Adventure, Comedy, Horror, Romance', 1), ('Comedy, Drama, Romance, Gay & Lesbian, Sports & Fitness', 1), ('Action & Adventure, Classics, Comedy, Drama, Kids & Family, Special Interest', 1), ('Action & Adventure, Comedy, Mystery & Suspense, Science Fiction & Fantasy, Television', 1), ('Comedy, Drama, Horror, Mystery & Suspense, Science Fiction & Fantasy', 1), ('Action & Adventure, Classics, Comedy, Drama, Musical & Performing Arts, Western, Romance', 1), ('Classics, Comedy, Cult Movies, Horror, Mystery & Suspense', 1), ('Classics, Comedy, Musical & Performing Arts, Special Interest, Romance', 1), ('Action & Adventure, Classics, Comedy, Kids & Family, Musical & Performing Arts, Science Fiction & Fantasy', 1), ('Action & Adventure, Art House & International, Comedy, Musical & Performing Arts, Mystery & Suspense, Romance', 1), ('Action & Adventure, Comedy, Documentary, Musical & Performing Arts', 1), ('Art House & International, Comedy, Cult Movies, Musical & Performing Arts', 1), ('Action & Adventure, Animation, Comedy, Cult Movies, Kids & Family, Musical & Performing Arts, Science Fiction & Fantasy', 1), ('Classics, Comedy, Drama, Western', 1)]\n"
     ]
    }
   ],
   "source": [
    "genres = Counter([movie_lookup[c]['genres'] for c in comedy_ids])\n",
    "print(genres.most_common())"
   ]
  },
  {
   "cell_type": "markdown",
   "id": "de19e130",
   "metadata": {},
   "source": [
    "Whoops, okay, that's not super readable. It looks like because most movies have multiple genres and \"Comedy\" has a lot of overlap, this gives us a huge list of different options. Looking through, it looks like genres are separated by `\", \"`, so let's use that to split them up and then count those!"
   ]
  },
  {
   "cell_type": "code",
   "execution_count": 17,
   "id": "3ab5262b",
   "metadata": {},
   "outputs": [
    {
     "name": "stdout",
     "output_type": "stream",
     "text": [
      "[('Comedy', 5674), ('Drama', 2377), ('Romance', 1006), ('Action & Adventure', 806), ('Art House & International', 708), ('Kids & Family', 549), ('Classics', 473), ('Science Fiction & Fantasy', 460), ('Mystery & Suspense', 358), ('Musical & Performing Arts', 337), ('Horror', 271), ('Animation', 240), ('Special Interest', 118), ('Documentary', 109), ('Television', 73), ('Western', 49), ('Gay & Lesbian', 40), ('Cult Movies', 32), ('Sports & Fitness', 31), ('Faith & Spirituality', 7), ('Anime & Manga', 2)]\n"
     ]
    }
   ],
   "source": [
    "genres = Counter()\n",
    "for c in comedy_ids:\n",
    "    genres.update(movie_lookup[c]['genres'].split(', '))\n",
    "print(genres.most_common())"
   ]
  },
  {
   "cell_type": "markdown",
   "id": "1e25a752",
   "metadata": {},
   "source": [
    "Better. There are some weird things we notice (for instance, we have a large Animation category but a small Anime and Manga category), but reassuringly, the number of times Comedy shows up is the same as the number of movies we grabbed. Phew.\n",
    "\n",
    "Let's grab the reviews that go with these movies and verify it seems to be working:"
   ]
  },
  {
   "cell_type": "code",
   "execution_count": 24,
   "id": "aa5f2a81",
   "metadata": {},
   "outputs": [],
   "source": [
    "comedy_reviews = [r for r in review_data if r[ID_LINK] in comedy_ids]"
   ]
  },
  {
   "cell_type": "code",
   "execution_count": 25,
   "id": "d292681c",
   "metadata": {},
   "outputs": [
    {
     "name": "stdout",
     "output_type": "stream",
     "text": [
      "16434\n",
      "{'rotten_tomatoes_link': 'm/men_in_black', 'critic_name': 'Mike Massie', 'top_critic': 'False', 'publisher_name': 'Gone With The Twins', 'review_type': 'Fresh', 'review_score': '9/10', 'review_date': '2020-09-14', 'review_content': \"Choosing to go the route of puppets and primarily practical effects, the film's look remains striking, even after years of advancing computer graphics.\"}\n"
     ]
    }
   ],
   "source": [
    "print(len(comedy_reviews))\n",
    "print(comedy_reviews[1000])"
   ]
  },
  {
   "cell_type": "markdown",
   "id": "268d2767",
   "metadata": {},
   "source": [
    "Yup - Men in Black is an action comedy, so this checks out. Now it's time to featurize the text. Since this is in a highly processed dataset, we're not going to start with much cleaning - let's just see how well it does as it is."
   ]
  },
  {
   "cell_type": "code",
   "execution_count": 26,
   "id": "e6b1f6d8",
   "metadata": {},
   "outputs": [],
   "source": [
    "texts = [cr[TEXT] for cr in comedy_reviews]"
   ]
  },
  {
   "cell_type": "markdown",
   "id": "d3f7a9d8",
   "metadata": {},
   "source": [
    "Since these review excerpts are very short, it turns out the threshold I recommend for nontrivial-length documents (e.g. .3, .5) aren't going to work well here to remove stopwords. So I'm going to use a small stopword file of my own to help clean out some words I don't anticipate needing today:"
   ]
  },
  {
   "cell_type": "code",
   "execution_count": 28,
   "id": "b8012d84",
   "metadata": {},
   "outputs": [
    {
     "name": "stdout",
     "output_type": "stream",
     "text": [
      "['the', 'and', 'of', 'for', 'in', 'a', 'on', 'is', 'an', 'this', 'to', 'by', 'our', 'that', 'will', 'have', 'are', 'with', 'all', 'must', 'not', 'more', 'their', 'has', 'but', 'can', 'people', 'new', 'world', 'from', 'year', 'which', 'they', 'these', 'you', 'years', 'now', 'than', 'been', 'who', 'should', 'its', 'one', 'make', 'every', 'other', 'those', 'them', 'time', 'was', 'also', 'there', 'many', 'great', 'last', 'first', 'only', 'would', 'when', 'most', 'need', 'own', 'what', 'because']\n"
     ]
    }
   ],
   "source": [
    "with open('stoplist_en.txt') as stop_file:\n",
    "    stoplist = [line.strip() for line in stop_file]\n",
    "print(stoplist)"
   ]
  },
  {
   "cell_type": "markdown",
   "id": "ef128c01",
   "metadata": {},
   "source": [
    "This is a fairly conservative list - I might have missed some words I later will not be interested in. But for now, let's keep it conservative - we'll also keep any feature that shows up in three distinct review snippets. I'll give my stoplist to my CountVectorizer to proceed:"
   ]
  },
  {
   "cell_type": "code",
   "execution_count": 29,
   "id": "49d69270",
   "metadata": {
    "scrolled": false
   },
   "outputs": [
    {
     "name": "stdout",
     "output_type": "stream",
     "text": [
      "Documents by features: (16434, 9207)\n"
     ]
    }
   ],
   "source": [
    "cv = CountVectorizer(input=texts, min_df=3, stop_words=stoplist)\n",
    "review_features = cv.fit_transform(texts)\n",
    "feature_names = cv.get_feature_names()\n",
    "print(\"Documents by features:\", review_features.shape)"
   ]
  },
  {
   "cell_type": "markdown",
   "id": "e69bf300",
   "metadata": {},
   "source": [
    "As previously mentioned, CountVectorizers generate sparse matrices - that is, they only represent the entries in our 2D data structure of numbers that are nonzero. For some math we're about to do, I'm going to want the dense matrix, or a representation with all of the zeros where they should be. I'll call `toarray()` to make that happen, then look at how the data looks:"
   ]
  },
  {
   "cell_type": "code",
   "execution_count": 30,
   "id": "56a3aae9",
   "metadata": {
    "scrolled": false
   },
   "outputs": [
    {
     "name": "stdout",
     "output_type": "stream",
     "text": [
      "192934 words\n",
      "0.1235% nonzero\n",
      "['000', '007', '10', '100', '11', '110', '12', '13', '14', '15']\n",
      "[[0 0 0 0 0 0 0 0 0 0]\n",
      " [0 0 0 0 0 0 0 0 0 0]\n",
      " [0 0 0 0 0 0 0 0 0 0]\n",
      " [0 0 0 0 0 0 0 0 0 0]\n",
      " [0 0 0 0 0 0 0 0 0 0]\n",
      " [0 0 0 0 0 0 0 0 0 0]\n",
      " [0 0 0 0 0 0 0 0 0 0]\n",
      " [0 0 0 0 0 0 0 0 0 0]\n",
      " [0 0 0 0 0 0 0 0 0 0]\n",
      " [0 0 0 0 0 0 0 0 0 0]\n",
      " [0 0 0 0 0 0 0 0 0 0]\n",
      " [0 0 0 0 0 0 0 0 0 0]\n",
      " [0 0 0 0 0 0 0 0 0 0]\n",
      " [0 0 0 0 0 0 0 0 0 0]\n",
      " [0 0 0 0 0 0 0 0 0 0]\n",
      " [0 0 0 0 0 0 0 0 0 0]\n",
      " [0 0 0 0 0 0 0 0 0 0]\n",
      " [0 0 0 0 0 0 0 0 0 0]\n",
      " [0 0 0 0 0 0 0 0 0 0]\n",
      " [0 0 0 0 0 0 0 0 0 0]]\n"
     ]
    }
   ],
   "source": [
    "dense_review_features = review_features.toarray()\n",
    "print(dense_review_features.sum(), \"words\")\n",
    "nonzero_prop = len(dense_review_features.nonzero()[0])/(dense_review_features.shape[0]*dense_review_features.shape[1])\n",
    "print(\"{:.4f}% nonzero\".format(nonzero_prop*100))\n",
    "\n",
    "print(feature_names[:10])\n",
    "print(dense_review_features[:20,:10])"
   ]
  },
  {
   "cell_type": "markdown",
   "id": "c7d5e476",
   "metadata": {},
   "source": [
    "As we can see, a little over one in a thousand of the entries in our matrix are nonzero - wild! For example, for the first features in our list (\n",
    "\n",
    "**Exercise:** Find the index `i` of the word \"the\" in the features, then look at the counts in each review for that feature by selecting `dense_review_features[:, i]`. Can you figure out how to compute the average value in that matrix? What is it? ([This](https://numpy.org/doc/stable/reference/generated/numpy.mean.html) may help).\n",
    "\n",
    "## Finding interesting documents with lexicons\n",
    "\n",
    "Let's narrow our search further - maybe we're interested in how people talk about money in conjunction with comedies. (Maybe we'll compare that with how it looks for other genres.) Let's start by coming up with a few words that we're interested in, then finding the list of documents that contain those words."
   ]
  },
  {
   "cell_type": "code",
   "execution_count": 31,
   "id": "7efbc061",
   "metadata": {},
   "outputs": [
    {
     "name": "stdout",
     "output_type": "stream",
     "text": [
      "[5307, 2539, 1238]\n",
      "['money', 'earning', 'cash']\n"
     ]
    }
   ],
   "source": [
    "money_lexicon = ['money', 'earning', 'cash', 'income']\n",
    "money_lexicon_idxs = [feature_names.index(w) for w in money_lexicon if w in feature_names]\n",
    "print(money_lexicon_idxs)\n",
    "print([feature_names[i] for i in money_lexicon_idxs])"
   ]
  },
  {
   "cell_type": "markdown",
   "id": "1dad3b03",
   "metadata": {},
   "source": [
    "We notice that not all the features we were looking for are actually in our data. If we knew we should have expected a feature that didn't show up, then we could go back through and check our data processing for why documents that should contain that word aren't registering as having that feature...but in this case, I'm not surprised \"income\" isn't something people mention in review snippets, so we won't worry about it. Let's start by just getting the list of reviews that mention any of these three things:"
   ]
  },
  {
   "cell_type": "code",
   "execution_count": 44,
   "id": "260255f0",
   "metadata": {},
   "outputs": [],
   "source": [
    "def find_reviews_by_lexicon(lexicon, feature_names, feature_matrix, data_entries):\n",
    "    \"\"\"Use the words that show up in a lexicon to find documents with nonzero lexicon items in them\"\"\"\n",
    "    # get all the lexicon indices for the items present\n",
    "    lexicon_idxs = [feature_names.index(w) for w in lexicon if w in feature_names]\n",
    "    # sum across all the different words for each dictionary (that is, across columns - which are counted in shape[1])\n",
    "    lexicon_sums = np.sum(feature_matrix[:, lexicon_idxs], axis=1)\n",
    "    # find all the indices of documents with nonzero counts\n",
    "    doc_idxs = np.argwhere(lexicon_sums > 0)[:,0]\n",
    "    \n",
    "    return [data_entries[i] for i in doc_idxs]"
   ]
  },
  {
   "cell_type": "code",
   "execution_count": 46,
   "id": "d2d239fd",
   "metadata": {
    "scrolled": true
   },
   "outputs": [
    {
     "name": "stdout",
     "output_type": "stream",
     "text": [
      "Number of money docs: 67\n",
      "{'rotten_tomatoes_link': 'm/10009083-land_of_the_lost', 'critic_name': 'Erik Childress', 'top_critic': 'False', 'publisher_name': 'eFilmCritic.com', 'review_type': 'Rotten', 'review_score': '1.5/4', 'review_date': '2009-06-05', 'review_content': 'Land of the Lost will have kids asking if they can just go see Up again. Hopefully mom and dad have a little money left after blowing it on this.'}\n",
      "{'rotten_tomatoes_link': 'm/1188347-mad_money', 'critic_name': 'Tricia Olszewski', 'top_critic': 'False', 'publisher_name': \"Let's Not Listen\", 'review_type': 'Fresh', 'review_score': '', 'review_date': '2008-02-29', 'review_content': \"Keaton and Latifah lend enough intelligence, wit, and charm to their characters that Mad Money often feels like an ovarian Ocean's Eleven.\"}\n",
      "{'rotten_tomatoes_link': 'm/the_hangover_2', 'critic_name': 'Nick Schager', 'top_critic': 'False', 'publisher_name': 'Slant Magazine', 'review_type': 'Rotten', 'review_score': '1/4', 'review_date': '2011-05-25', 'review_content': 'Todd Phillips directs with increased confidence, but in every respect, The Hangover Part II is a cowardly cash-in, devoid of novelty or daring.'}\n",
      "{'rotten_tomatoes_link': 'm/cars_3', 'critic_name': 'James Plath', 'top_critic': 'False', 'publisher_name': 'Family Home Theater', 'review_type': 'Fresh', 'review_score': 'B', 'review_date': '2018-01-16', 'review_content': 'For the first 15 minutes or so Cars 3 seems like a dash-for-the-cash affair. Then Disney does what they do best: they get viewers emotionally involved with the characters.'}\n",
      "{'rotten_tomatoes_link': 'm/pirates_of_the_caribbean_on_stranger_tides', 'critic_name': 'Rene Rodriguez', 'top_critic': 'True', 'publisher_name': 'Miami Herald', 'review_type': 'Rotten', 'review_score': '1/4', 'review_date': '2011-05-18', 'review_content': \"A nonsensical contraption designed simply to take your money. Don't give it up so easily.\"}\n"
     ]
    }
   ],
   "source": [
    "money_docs = find_reviews_by_lexicon(lexicon=money_lexicon,\n",
    "                                     feature_names=feature_names,\n",
    "                                     feature_matrix=dense_review_features,\n",
    "                                     data_entries=comedy_reviews)\n",
    "\n",
    "print(\"Number of money docs:\", len(money_docs))\n",
    "for doc in money_docs[:5]:\n",
    "    print(doc)"
   ]
  },
  {
   "cell_type": "markdown",
   "id": "c865616f",
   "metadata": {},
   "source": [
    "Okay, we're down to 67 reviews, which is...not much. What if we could expand our lexicon? Unfortunately, brainstorming lexicon words from scratch is kind of hard. Lucky for us, we can write programs to help!\n",
    "\n",
    "Without going into too much detail: this program uses one kind of correlation metric, Spearman rho, to see whether the occurrences of each word in the vocabulary follow a similar pattern to the lexicon counts for our smaller lexicon. It'll sort the resulting words in decreasing order by the amount they're correlated. You can do this with lots of metrics (I often use PMI) with different results, but the general idea is that we can use word correlations to help suggest other lexicon words we might not have come up with:"
   ]
  },
  {
   "cell_type": "code",
   "execution_count": 50,
   "id": "bf487603",
   "metadata": {},
   "outputs": [],
   "source": [
    "def find_words_by_spearman(lexicon, feature_names, feature_matrix):\n",
    "    \"\"\"uses Spearman rho correlation to find words that are correlated with our lexicon\"\"\"\n",
    "    lexicon_idxs = [feature_names.index(w) for w in lexicon if w in feature_names]\n",
    "    lexicon_sums = np.sum(dense_review_features[:, money_lexicon_idxs], axis=1)\n",
    "    n_features = len(feature_names)\n",
    "    # for each word, check how correlated it is with the lexicon counts\n",
    "    feature_scores = [(spearmanr(lexicon_sums, feature_matrix[:,i]).correlation, feature_names[i]) for i in range(n_features)]\n",
    "    return sorted(feature_scores, reverse=True)"
   ]
  },
  {
   "cell_type": "markdown",
   "id": "5b672433",
   "metadata": {},
   "source": [
    "Let's see what this suggests for our money lexicon (warning, this is slow):"
   ]
  },
  {
   "cell_type": "code",
   "execution_count": 51,
   "id": "a4bd2e4d",
   "metadata": {},
   "outputs": [],
   "source": [
    "money_scores = find_words_by_spearman(money_lexicon, feature_names, dense_review_features)"
   ]
  },
  {
   "cell_type": "code",
   "execution_count": 52,
   "id": "dcdb97bd",
   "metadata": {},
   "outputs": [
    {
     "name": "stdout",
     "output_type": "stream",
     "text": [
      "money 0.8891\n",
      "cash 0.4400\n",
      "earning 0.2112\n",
      "grab 0.1618\n",
      "buy 0.1398\n",
      "fork 0.1214\n",
      "spend 0.0917\n",
      "sent 0.0912\n",
      "happiness 0.0722\n",
      "zealand 0.0698\n",
      "tickets 0.0698\n",
      "stoned 0.0698\n",
      "sale 0.0698\n",
      "sack 0.0698\n",
      "rudo 0.0698\n",
      "robbins 0.0698\n",
      "pretending 0.0698\n",
      "plotless 0.0698\n",
      "novella 0.0698\n",
      "losers 0.0698\n",
      "limitless 0.0698\n",
      "individuals 0.0698\n",
      "id 0.0698\n",
      "horny 0.0698\n",
      "hollowness 0.0698\n",
      "fold 0.0698\n",
      "feelgood 0.0698\n",
      "extras 0.0698\n",
      "drillbit 0.0698\n",
      "dreamy 0.0698\n",
      "dispensing 0.0698\n",
      "disasters 0.0698\n",
      "cursi 0.0698\n",
      "contraption 0.0698\n",
      "congeniality 0.0698\n",
      "basement 0.0698\n",
      "produce 0.0690\n",
      "joyous 0.0690\n",
      "15 0.0690\n",
      "quality 0.0665\n",
      "corporate 0.0614\n",
      "confidence 0.0613\n",
      "garcia 0.0605\n",
      "hoary 0.0605\n",
      "terry 0.0602\n",
      "stranded 0.0602\n",
      "soda 0.0602\n",
      "sexist 0.0602\n",
      "resources 0.0602\n",
      "replace 0.0602\n",
      "provided 0.0602\n",
      "property 0.0602\n",
      "poise 0.0602\n",
      "pointlessly 0.0602\n",
      "millions 0.0602\n",
      "madison 0.0602\n",
      "lend 0.0602\n",
      "laced 0.0602\n",
      "katz 0.0602\n",
      "juggling 0.0602\n",
      "incoherent 0.0602\n",
      "harbor 0.0602\n",
      "grabbing 0.0602\n",
      "gigli 0.0602\n",
      "excrement 0.0602\n",
      "dash 0.0602\n",
      "cost 0.0602\n",
      "converted 0.0602\n",
      "bought 0.0602\n",
      "actively 0.0602\n",
      "2013 0.0602\n",
      "staggering 0.0602\n",
      "timely 0.0592\n",
      "ten 0.0592\n",
      "direct 0.0556\n",
      "substantial 0.0536\n",
      "reprise 0.0536\n",
      "realise 0.0536\n",
      "montana 0.0536\n",
      "monologues 0.0536\n",
      "miraculously 0.0536\n",
      "mint 0.0536\n",
      "incessant 0.0536\n",
      "emoji 0.0536\n",
      "delectable 0.0536\n",
      "blown 0.0536\n",
      "aaron 0.0536\n",
      "mad 0.0526\n",
      "rating 0.0525\n",
      "hope 0.0508\n",
      "cher 0.0490\n",
      "bothered 0.0490\n",
      "flesh 0.0490\n",
      "warrant 0.0488\n",
      "showdown 0.0488\n",
      "shape 0.0488\n",
      "puzzle 0.0488\n",
      "modestly 0.0488\n",
      "midst 0.0488\n",
      "hundred 0.0488\n"
     ]
    }
   ],
   "source": [
    "for score, wd in money_scores[:100]:\n",
    "    print(wd, \"{:.4f}\".format(score))"
   ]
  },
  {
   "cell_type": "markdown",
   "id": "5c0b4b8e",
   "metadata": {},
   "source": [
    "While I could have removed my \"seed words\" from the list, I like keeping them in there to verify my algorithm is working how I expect - if \"money\" wasn't at the top of the list, that'd tell me I had a bug in my code!\n",
    "\n",
    "**Exercise** Let's add some of these suggested words to our lexicon and see the effect:"
   ]
  },
  {
   "cell_type": "code",
   "execution_count": 53,
   "id": "a2501b34",
   "metadata": {},
   "outputs": [
    {
     "name": "stdout",
     "output_type": "stream",
     "text": [
      "Number of new money docs: 75\n",
      "{'rotten_tomatoes_link': 'm/10009083-land_of_the_lost', 'critic_name': 'Erik Childress', 'top_critic': 'False', 'publisher_name': 'eFilmCritic.com', 'review_type': 'Rotten', 'review_score': '1.5/4', 'review_date': '2009-06-05', 'review_content': 'Land of the Lost will have kids asking if they can just go see Up again. Hopefully mom and dad have a little money left after blowing it on this.'}\n",
      "{'rotten_tomatoes_link': 'm/1188347-mad_money', 'critic_name': 'Tricia Olszewski', 'top_critic': 'False', 'publisher_name': \"Let's Not Listen\", 'review_type': 'Fresh', 'review_score': '', 'review_date': '2008-02-29', 'review_content': \"Keaton and Latifah lend enough intelligence, wit, and charm to their characters that Mad Money often feels like an ovarian Ocean's Eleven.\"}\n",
      "{'rotten_tomatoes_link': 'm/the_hangover_2', 'critic_name': 'Nick Schager', 'top_critic': 'False', 'publisher_name': 'Slant Magazine', 'review_type': 'Rotten', 'review_score': '1/4', 'review_date': '2011-05-25', 'review_content': 'Todd Phillips directs with increased confidence, but in every respect, The Hangover Part II is a cowardly cash-in, devoid of novelty or daring.'}\n",
      "{'rotten_tomatoes_link': 'm/cars_3', 'critic_name': 'James Plath', 'top_critic': 'False', 'publisher_name': 'Family Home Theater', 'review_type': 'Fresh', 'review_score': 'B', 'review_date': '2018-01-16', 'review_content': 'For the first 15 minutes or so Cars 3 seems like a dash-for-the-cash affair. Then Disney does what they do best: they get viewers emotionally involved with the characters.'}\n",
      "{'rotten_tomatoes_link': 'm/pirates_of_the_caribbean_on_stranger_tides', 'critic_name': 'Rene Rodriguez', 'top_critic': 'True', 'publisher_name': 'Miami Herald', 'review_type': 'Rotten', 'review_score': '1/4', 'review_date': '2011-05-18', 'review_content': \"A nonsensical contraption designed simply to take your money. Don't give it up so easily.\"}\n"
     ]
    }
   ],
   "source": [
    "new_money_lexicon = [\"money\", \"cash\", \"earning\", \"buy\"]\n",
    "new_money_docs = find_reviews_by_lexicon(lexicon=new_money_lexicon,\n",
    "                                     feature_names=feature_names,\n",
    "                                     feature_matrix=dense_review_features,\n",
    "                                     data_entries=comedy_reviews)\n",
    "\n",
    "print(\"Number of new money docs:\", len(new_money_docs))\n",
    "for doc in new_money_docs[:5]:\n",
    "    print(doc)"
   ]
  },
  {
   "cell_type": "markdown",
   "id": "d0df1593",
   "metadata": {},
   "source": [
    "I find lexicons to be underrated: they're a really helpful tool to make it easy to document a particular filtering or counting task. They're often a pain because they have to be made manually, and since machine learning researchers don't usually count as experts in the domains of the data they study, there's not as much discussion in the places I publish papers about how to do this effectively. However, if you have expertise in the data, you can (and should) use it to help develop things like lexicons to help check and filter things as needed.\n",
    "\n",
    "## Rough topic models for rough-draft datasets\n",
    "\n",
    "When I don't know much about a dataset, one of the first things I'll often do is train an LDA topic model on it - sometimes before many of the steps we've talked about in the other two lessons.\n",
    "\n",
    "Why would I do that? Well, first, let's briefly talk about what an LDA topic model does. If you haven't run into these before, I recommend sources like [Lisa Rhody's Digital Humanities article](http://journalofdigitalhumanities.org/2-1/topic-modeling-and-figurative-language-by-lisa-m-rhody/) and [Ted Underwood's blog post](https://tedunderwood.com/category/methodology/topic-modeling/) to get some of the intuitions. Once you've gotten at the intuition of these models, it can be good to dig into tutorials, like the existing [topic modeling course on Constellate](https://constellate.org/tutorials/topic-modeling) or other variations online, to explore what you can do with these.\n",
    "\n",
    "First, in this context, a *topic* is just a probability distribution of words (for instance, a topic could have high probabilities of the words \"great\", \"cool\", and \"fun\" and low probabilities of the words \"boring\", \"dinosaur\", and \"edward\"). Every topic will have at least some tiny probability of every word in the vocabulary of the text collection, but there should be a small subset of the vocabulary with high probability and very little probability of the majority of the vocabulary. A topic *model* describes a collection of texts using a fixed number of different topics: each document is described as having proportions of each topic, and each topic is described as having proportions of each word.\n",
    "\n",
    "To *infer* a topic model is to run an algorithm that knows the list of documents and the words in them (think of the data in our CountVectorizer - no order information, just word counts) and to try to find a fixed number of topics that can best describe the actual words present in the documents when combined together. Not all documents necessarily have one dominant topic - a document #372 could be 15% about topic 1, 80% about topic 2, and ~5% distributed over everything else. However, our topic model is working well if between topics 1 and 2, we get high probabilities of the words that actually show up in document #372, and likewise for the topics present in each of our other documents.\n",
    "\n",
    "A topic model has two major outputs: topic-word distributions, which describe how often each word shows up in each topic, and document-topic distributions, which describe the topic breakdown of each document. The nice thing is that all we need to infer one of these models is some way to get word counts by document (again, our CountVectorizer is great at that) and some existing code that trains a model.\n",
    "\n",
    "Notably, since finding the \"best\" topics is an impossibly hard math problem, we instead have programs that use randomness and iteration to eventually converge to \"good\" topics. You should expect the outputs of standard topic modeling software to change each time you run it. But that aside, usually you'll see some shuffling of topic order and the order of top words in each topic but a fair amount of consistency in what topics and words are present.\n",
    "\n",
    "Now, hot take time: most people training topic models in Python will probably turn to a library called `gensim`. I'm instead using the implementation that's built into scikit-learn, not because it's better (the interface is actually worse) but because\n",
    "1. we've been using sklearn already, and\n",
    "2. while gensim has nicer interfaces for some parts of this, both scikit-learn and gensim don't train good LDA topic models on normal-size text collections.\n",
    "\n",
    "What? That's right - with the libraries currently available, I do not recommend using Python to train topic models for your actual analysis. Both gensim and scikit-learn use a strategy called batch/online LDA to find the \"best\" topic model for a corpus that is meant to work well for very large collections (think millions of documents). On even tens of thousands, the topics they learn tend to be pretty iffy. Without digging into the math of why, when you train a topic model on a non-massive corpus, you probably want to use something that says \"MCMC\" or \"Gibbs sampling\" in how it does inference. [MALLET](https://mimno.github.io/Mallet/) (a command-line tool) and the R package [topicmodels](https://cran.r-project.org/web/packages/topicmodels/index.html) both support this and will give you better analyses and have plenty of tutorials available online. If you want help getting MALLET set up, check out [Melanie Walsh's tutorial](https://melaniewalsh.github.io/Intro-Cultural-Analytics/05-Text-Analysis/06-Topic-Modeling-Overview.html).\n",
    "\n",
    "Since we're in Python-land for this tutorial and just exploring how to use topic models to notice if something's up with the corpus, we'll make do with what we've got. Let's train a 25-topic model and pull out our document-topic and topic-word information."
   ]
  },
  {
   "cell_type": "code",
   "execution_count": 58,
   "id": "711b5a72",
   "metadata": {
    "scrolled": true
   },
   "outputs": [],
   "source": [
    "n_topics = 25\n",
    "lda = LatentDirichletAllocation(n_components=n_topics,batch_size=len(comedy_reviews))\n",
    "doc_topic_vecs = lda.fit_transform(review_features)\n",
    "topic_word_vecs = lda.components_"
   ]
  },
  {
   "cell_type": "markdown",
   "id": "2664d662",
   "metadata": {},
   "source": [
    "To look at our topics, we generally want to pull out highest-probability words for each topic. We can do this using numpy's `argsort`, which takes in data and, rather than just sorting the data, puts the *indices* of different elements of the data in order based on the values present. So, when we *argsort* the list of word proportions for a particular topic below, we're listing indices of words in our vocabulary in order of how present they are in the topic. (The `[::-1]` syntax is a weird way of saying \"put these elements highest to lowest instead of lowest to highest\".)"
   ]
  },
  {
   "cell_type": "code",
   "execution_count": 59,
   "id": "ca453404",
   "metadata": {
    "scrolled": true
   },
   "outputs": [
    {
     "name": "stdout",
     "output_type": "stream",
     "text": [
      "0 it too at enough or comedy be much movie good\n",
      "1 his movie he it neither nor as about or enough\n",
      "2 it movie no as be film about comedy how just\n",
      "3 it film movie story just as worth so be about\n",
      "4 full review it spanish as film good so comedy be\n",
      "5 as it about at much ve film be we he\n",
      "6 it film as movie at or way be into doesn\n",
      "7 as it be film animated like movie his out anderson\n",
      "8 film it family comedy about plot be action movie quality\n",
      "9 it film fun like movie kids family at adults out\n",
      "10 it your or don if at out we movie be\n",
      "11 as film movie over some it he live good comedy\n",
      "12 it he little be no comedy never movie film really\n",
      "13 it as like her film much movie so be movies\n",
      "14 comedy romantic rom charming com love drama performances teen funny\n",
      "15 it funny movie film comedy into too little so smart\n",
      "16 it so as movie up just if re big out\n",
      "17 it at as film be really movie like we re\n",
      "18 funny as it comedy film his director best very up\n",
      "19 it movie about comedy director film as thought writer we\n",
      "20 it movie be de like bad at film even movies\n",
      "21 it as movie at her she out director way about\n",
      "22 it movie film about entertaining funny very if be or\n",
      "23 it if coming movie be how so big boring age\n",
      "24 it be film like as movie if at about out\n"
     ]
    }
   ],
   "source": [
    "n_words_to_print = 10\n",
    "for topic in range(n_topics):\n",
    "    top_word_idxs = np.argsort(topic_word_vecs[topic])[-n_words_to_print:][::-1]\n",
    "    top_words = [feature_names[i] for i in top_word_idxs]\n",
    "    print(topic, ' '.join(top_words))\n",
    "    "
   ]
  },
  {
   "cell_type": "markdown",
   "id": "f99778b0",
   "metadata": {},
   "source": [
    "At this point, everyone I know has the instinct to say \"Our stoplist is incomplete - let's go back and fix it and then retrain our model again.\" This commences a very long loop of changing the stoplist, then retraining, then changing again, then retraining again...it's one of many pre-processing loops that happens, and it can require revisiting over and over if you change your tokenization or other things about your corpus.\n",
    "\n",
    "I'm here to bear good news: aside from extremely frequent words, most stopwords aren't actually affecting how well your topic model distinguishes documents or themes. They look like they do, because they interfere with your ability to guess what a topic might be about based on the top words, but you can just grab more words and ignore the ones you don't care about instead of retraining. In English, \"the\", \"was\", etc. are likely to be important to remove before training, but most won't affect what happens to the rest of the text...so you can just write a function like the one below to ignore those words after the fact. (I [wrote a paper](https://aclanthology.org/E17-2069/) showing this works out fine for a few different Latin-based languages.)\n",
    "\n",
    "**Exercise** Add some words to the `post_stoplist` and modify `n_words_to_print` until you feel like the topics look distinct. Anything stick out as unusual about the topics?"
   ]
  },
  {
   "cell_type": "code",
   "execution_count": 61,
   "id": "68f8188a",
   "metadata": {
    "scrolled": true
   },
   "outputs": [
    {
     "name": "stdout",
     "output_type": "stream",
     "text": [
      "0 too enough or comedy much good down even as least something\n",
      "\n",
      "1 his he neither nor as about or enough made debut do characters so\n",
      "\n",
      "2 no as about comedy how just still good family if so\n",
      "\n",
      "3 story just as worth so about makes over up his laughs\n",
      "\n",
      "4 full review spanish as good so comedy bad content up some parents\n",
      "\n",
      "5 as about much ve we he seen his just so up\n",
      "\n",
      "6 as or way into doesn out while comedy enough well\n",
      "\n",
      "7 as animated like his out anderson off some humor still work\n",
      "\n",
      "8 family comedy about plot action quality if us performances like characters\n",
      "\n",
      "9 fun like kids family adults out comedy funny good high\n",
      "\n",
      "10 your or don if out we little re so laugh\n",
      "\n",
      "11 as over some he live good comedy his nothing self even\n",
      "\n",
      "12 he little no comedy never really good better story does two\n",
      "\n",
      "13 as like her much so movies about his watching over just\n",
      "\n",
      "14 comedy romantic rom charming com love drama performances teen funny perfect like age some strong\n",
      "\n",
      "15 funny comedy into too little so smart heart if no stupid often\n",
      "\n",
      "16 so as up just if re big out like characters much going\n",
      "\n",
      "17 as really like we re very look old or characters\n",
      "\n",
      "18 funny as comedy his director best very up low well love\n",
      "\n",
      "19 about comedy director as thought writer we fun romantic something up\n",
      "\n",
      "20 de like bad even movies good definitely la into if\n",
      "\n",
      "21 as her she out director way about so his life comedy\n",
      "\n",
      "22 about entertaining funny very if or light comedy place some while\n",
      "\n",
      "23 if coming how so big boring age terrible cast script worthy\n",
      "\n",
      "24 like as if about out see few just feels so\n",
      "\n"
     ]
    }
   ],
   "source": [
    "def print_topic_keys(topic_word_vecs, n_words_to_print=20, post_stoplist=[]):\n",
    "    for topic in range(n_topics):\n",
    "        top_word_idxs = np.argsort(topic_word_vecs[topic])[-n_words_to_print+len(post_stoplist):][::-1]\n",
    "        top_words = [feature_names[i] for i in top_word_idxs if feature_names[i] not in post_stoplist]\n",
    "        print(topic, ' '.join(top_words[:n_words_to_print]))\n",
    "        print()\n",
    "    \n",
    "print_topic_keys(topic_word_vecs, n_words_to_print=20, post_stoplist=['it', 'be', 'at', 'movie', 'film'])"
   ]
  },
  {
   "cell_type": "markdown",
   "id": "fb0e45b1",
   "metadata": {},
   "source": [
    "Generally speaking, these top words can help you start to get at some broad themes -- we expect to see things like rom-coms, or clear positive or negative words, as signals of topics. However, it's worth taking a skim through to see if there's anything unusual in our top words that sets off alarm bells, or any topics where we can't clear discern why that would be a topic. Again, our topic model is probably not super great on this data since we're only using a few thousand documents, but we might notice some words that are weird as high-probability parts of topics. In those cases, what we should do is look at the documents with the highest proportion of a topic and see if we can figure out in what context those words are showing up.\n",
    "\n",
    "**Exercise** Pick a couple of topics that look odd and inspect their top documents using the code below. See if you can figure out which documents are producing the words that looked odd, and whether the cause of their oddness is benign or something that might require further intervention."
   ]
  },
  {
   "cell_type": "code",
   "execution_count": 34,
   "id": "662b6081",
   "metadata": {},
   "outputs": [
    {
     "name": "stdout",
     "output_type": "stream",
     "text": [
      "Topic proportion: 0.9657142857094732\n",
      "{'rotten_tomatoes_link': 'm/the_five_year_engagement', 'critic_name': 'Jason Best', 'top_critic': 'False', 'publisher_name': 'Movie Talk', 'review_type': 'Fresh', 'review_score': '', 'review_date': '2012-06-25', 'review_content': \"The Five-Year Engagement seems at times to have taken its title literally - it's way too long. But though the pace sometimes drags, Blunt and Segal are amiable companions and the lack of gross-out gags makes a refreshing change.\"}\n",
      "\n",
      "Topic proportion: 0.9657142857057369\n",
      "{'rotten_tomatoes_link': 'm/donovans_reef', 'critic_name': 'Emanuel Levy', 'top_critic': 'False', 'publisher_name': 'EmanuelLevy.Com', 'review_type': 'Fresh', 'review_score': '', 'review_date': '2008-03-11', 'review_content': 'Though not in top form, director John Ford and star John Wayne, building on previous and better collaborations in this easy-going (and lazy) adventure set in the Pacific, offering good old fun with the Duke, Jack Warden, Dorothy Lamour and Lee Marvin.'}\n",
      "\n",
      "Topic proportion: 0.9657142856682599\n",
      "{'rotten_tomatoes_link': 'm/emma_2020', 'critic_name': 'Michael Phillips', 'top_critic': 'True', 'publisher_name': 'Chicago Tribune', 'review_type': 'Fresh', 'review_score': '3/4', 'review_date': '2020-02-25', 'review_content': 'The movie strains at the outset; the early scenes are dominated by a brisk procession of tidy, somewhat static shots, set into motion by some intrusive music and editing. Then, rather miraculously, it starts getting better and better.'}\n",
      "\n",
      "Topic proportion: 0.9644444444404566\n",
      "{'rotten_tomatoes_link': 'm/the_happytime_murders_2017', 'critic_name': 'Brandon Judell', 'top_critic': 'False', 'publisher_name': 'CultureCatch', 'review_type': 'Fresh', 'review_score': '', 'review_date': '2018-08-26', 'review_content': \"Sort of 'The Big Sleep' meets 'Basic Instinct' meets 'Pee-Wee's Playhouse,' 'The Happytime Murders' wants you to laugh while never letting you forget that here is a hard-hitting parody of our racist, misogynistic society. Well, almost.\"}\n",
      "\n",
      "Topic proportion: 0.9630769230717142\n",
      "{'rotten_tomatoes_link': 'm/the_dictator_2012', 'critic_name': 'Eric Kohn', 'top_critic': 'True', 'publisher_name': 'indieWire', 'review_type': 'Fresh', 'review_score': '', 'review_date': '2012-05-14', 'review_content': 'Transitioning back into a scripted dynamic after his quasi-documentary performance excursions with \"Bruno\" and \"Borat,\" Baron Cohen loses none of his edge, combining slapstick inspiration and social commentary into a hilariously provocative blend.'}\n",
      "\n",
      "Topic proportion: 0.9630769230711052\n",
      "{'rotten_tomatoes_link': 'm/dolittle', 'critic_name': 'Perri Nemiroff', 'top_critic': 'False', 'publisher_name': 'Collider Video', 'review_type': 'Rotten', 'review_score': '4/10', 'review_date': '2020-02-05', 'review_content': \"There's a lot wrong with Dolittle but one of the most shocking of the bunch is that Downey Jr.'s performance doesn't work at all. One might expect him to be well suited to play a lovable jerk, but there's no charm in his rendition of the character.\"}\n",
      "\n",
      "Topic proportion: 0.9630769230704187\n",
      "{'rotten_tomatoes_link': 'm/10009624-promotion', 'critic_name': 'Elizabeth Weitzman', 'top_critic': 'True', 'publisher_name': 'New York Daily News', 'review_type': 'Rotten', 'review_score': '3/5', 'review_date': '2008-06-06', 'review_content': \"There's still a lot to like here, but ultimately the movie reflects its hapless hero a little too well. While we're constantly rooting for it to succeed, the finish line seems forever out of reach.\"}\n",
      "\n",
      "Topic proportion: 0.9615999999945953\n",
      "{'rotten_tomatoes_link': 'm/ice_age_continental_drift', 'critic_name': 'Brian Gibson', 'top_critic': 'False', 'publisher_name': 'Vue Weekly (Edmonton, Alberta)', 'review_type': 'Rotten', 'review_score': '', 'review_date': '2012-07-24', 'review_content': 'Fossilized in a syrupy, always-stick-by-your-family-and-friends formula. Scrat provides the only constant humour. The surrealism and manic slapstick that animation can do so well are dwarfed by adventures with pirates and a clichd teen-fitting-in story.'}\n",
      "\n",
      "Topic proportion: 0.9615999999942533\n",
      "{'rotten_tomatoes_link': 'm/troop_beverly_hills', 'critic_name': 'Roger Ebert', 'top_critic': 'True', 'publisher_name': 'Chicago Sun-Times', 'review_type': 'Rotten', 'review_score': '2/4', 'review_date': '2000-01-01', 'review_content': \"Instead of being a merciless evisceration of the lifestyles of the rich, it's a little morality play in which Long transforms herself into a warm and useful person. Nobody within a mile of this project seems to have possessed an ounce of irony.\"}\n",
      "\n",
      "Topic proportion: 0.961599999993687\n",
      "{'rotten_tomatoes_link': 'm/girl_cut_in_two', 'critic_name': 'Dan Sallitt', 'top_critic': 'False', 'publisher_name': 'Senses of Cinema', 'review_type': 'Rotten', 'review_score': '', 'review_date': '2018-10-12', 'review_content': \"A few flashes of insight or giddy humour, conveyed via portentous close-ups or fast cutting, remind us of Chabrol's directorial power; but he seems rather too casual behind the camera lately.\"}\n",
      "\n",
      "Topic proportion: 0.9615999999922056\n",
      "{'rotten_tomatoes_link': 'm/war_of_the_roses', 'critic_name': 'Rob Vaux', 'top_critic': 'False', 'publisher_name': 'Flipside Movie Emporium', 'review_type': 'Fresh', 'review_score': '4/5', 'review_date': '2002-07-26', 'review_content': \"For anyone who ever spent Valentine's Day alone with a bottle of scotch, for anyone who ever watched the love of their life go stomping out the door, for anyone who ever gazed in hatred at the happy couple spooning in public... this is the movie for you.\"}\n",
      "\n",
      "Topic proportion: 0.959999999993874\n",
      "{'rotten_tomatoes_link': 'm/the_best_exotic_marigold_hotel_2012', 'critic_name': 'Elizabeth Weitzman', 'top_critic': 'True', 'publisher_name': 'New York Daily News', 'review_type': 'Rotten', 'review_score': '2/5', 'review_date': '2012-05-03', 'review_content': \"Madden and screenwriter Ol Parker take the easiest, most familiar paths (we're still doing Viagra jokes?), dropping every opportunity to explore issues like culture clash, loneliness and mortality.\"}\n",
      "\n",
      "Topic proportion: 0.9599999999803239\n",
      "{'rotten_tomatoes_link': 'm/hancock', 'critic_name': 'John Beifuss', 'top_critic': 'False', 'publisher_name': 'Commercial Appeal (Memphis, TN)', 'review_type': 'Rotten', 'review_score': '2.5/4', 'review_date': '2008-07-07', 'review_content': \"Fatally compromised (but) ambitious and clever... It reminds us of the way majority America treats black men in particular, with a humiliating mistrust that's never far behind the admiration expressed for those who 'earn' approval through their talents...\"}\n",
      "\n",
      "Topic proportion: 0.9582608695584703\n",
      "{'rotten_tomatoes_link': 'm/practical_magic', 'critic_name': 'Peg Aloi', 'top_critic': 'False', 'publisher_name': 'Boston Phoenix', 'review_type': 'Fresh', 'review_score': '', 'review_date': '2002-03-24', 'review_content': \"Griffin Dunne's cunningly crafted romp bears only slight resemblance to Alice Hoffman's romantic novel, but its wry humor and lush imagery make for a fun, feel-good movie just in time for Halloween.\"}\n",
      "\n",
      "Topic proportion: 0.9582608695576657\n",
      "{'rotten_tomatoes_link': 'm/about_a_boy', 'critic_name': 'Alex Sandell', 'top_critic': 'False', 'publisher_name': 'Juicy Cerebellum', 'review_type': 'Fresh', 'review_score': '6/10', 'review_date': '2002-05-13', 'review_content': \"A fun motion picture worthy of a matinee viewing after you've memorized all of the lines from Attack of the Clones and are still busy waiting for Men in Black II. It's summer in Hollywood; did you expect anything more?\"}\n",
      "\n",
      "Topic proportion: 0.9582608695468646\n",
      "{'rotten_tomatoes_link': 'm/secretary', 'critic_name': 'Ken Fox', 'top_critic': 'False', 'publisher_name': 'TV Guide', 'review_type': 'Rotten', 'review_score': '2.5/5', 'review_date': '2002-09-20', 'review_content': \"Before it takes a sudden turn and devolves into a bizarre sort of romantic comedy, Steven Shainberg's adaptation of Mary Gaitskill's harrowing short story ... is a brilliantly played, deeply unsettling experience.\"}\n",
      "\n",
      "Topic proportion: 0.9563636363581676\n",
      "{'rotten_tomatoes_link': 'm/toy_story_4', 'critic_name': 'Utibe Gautt Ate', 'top_critic': 'False', 'publisher_name': 'Black Girl Nerds', 'review_type': 'Fresh', 'review_score': '3.5/5', 'review_date': '2019-06-17', 'review_content': \"'Toy Story 4' seems aimed at those of us who grew up with the franchise that first graced silver screens twenty-four years ago. However, it also re-opens the story for an entirely new generation.\"}\n",
      "\n",
      "Topic proportion: 0.956363636357373\n",
      "{'rotten_tomatoes_link': 'm/wish_i_was_here', 'critic_name': 'J. R. Jones', 'top_critic': 'True', 'publisher_name': 'Chicago Reader', 'review_type': 'Fresh', 'review_score': '', 'review_date': '2014-07-17', 'review_content': \"The earlier, comedic scenes work a lot better than the later, dramatic ones, thanks mainly to Braff's wide-eyed, deadpan performance and good supporting work from Kate Hudson.\"}\n",
      "\n",
      "Topic proportion: 0.9563636363570961\n",
      "{'rotten_tomatoes_link': 'm/long_shot_2019', 'critic_name': 'Sara Clements', 'top_critic': 'False', 'publisher_name': 'The Simple Cinephile', 'review_type': 'Fresh', 'review_score': '', 'review_date': '2019-05-06', 'review_content': \"Rogen's awkward and comedic charm is ever present and with Theron's first turn at comedy, she delivers a hilarious performance worthy of a mic drop, proving she can do it all.\"}\n",
      "\n",
      "Topic proportion: 0.9563636363559693\n",
      "{'rotten_tomatoes_link': 'm/american_reunion_2012', 'critic_name': 'William Bibbiani', 'top_critic': 'False', 'publisher_name': 'CraveOnline', 'review_type': 'Rotten', 'review_score': '4/10', 'review_date': '2012-08-22', 'review_content': \"Tries so hard to be this generation's The Big Chill that the very reason why it exists - sexy, gross out, adolescent fun - feels thoroughly out of place.\"}\n",
      "\n",
      "Topic proportion: 0.9563636363547124\n",
      "{'rotten_tomatoes_link': 'm/antman', 'critic_name': 'Allen Almachar', 'top_critic': 'False', 'publisher_name': 'The MacGuffin', 'review_type': 'Fresh', 'review_score': 'B+', 'review_date': '2020-07-15', 'review_content': \"The performances of the main cast, the refreshing display of Ant-Man's abilities, Michael Pena's superb comedic role, and a weird yet dynamic finale make this a superhero blockbuster worth checking out.\"}\n",
      "\n",
      "Topic proportion: 0.9542857142791146\n",
      "{'rotten_tomatoes_link': 'm/buffalo_66', 'critic_name': 'Emanuel Levy', 'top_critic': 'False', 'publisher_name': 'EmanuelLevy.Com', 'review_type': 'Fresh', 'review_score': 'B-', 'review_date': '2009-07-15', 'review_content': 'Actor Vincent Gallo makes a feature directing debut with this bizarre, self-indulgent tale of a troubled guy, played by him in a narcissistic mode, who has never reconciled his unhappy childhood.'}\n",
      "\n",
      "Topic proportion: 0.9542857142776471\n",
      "{'rotten_tomatoes_link': 'm/my_old_lady', 'critic_name': 'Stella Papamichael', 'top_critic': 'False', 'publisher_name': 'Radio Times', 'review_type': 'Fresh', 'review_score': '3/5', 'review_date': '2014-11-21', 'review_content': \"Skeletons tumble out of the closet in rather a clumsy fashion, so it's just as well that Horovitz has managed to attract a refined cast who are able to put some meat on those old bones.\"}\n",
      "\n",
      "Topic proportion: 0.9542857142775771\n",
      "{'rotten_tomatoes_link': 'm/1100039-bait', 'critic_name': 'James Sanford', 'top_critic': 'False', 'publisher_name': 'Kalamazoo Gazette', 'review_type': 'Rotten', 'review_score': '', 'review_date': '2002-06-10', 'review_content': 'includes all the key ingredients for what Hollywood passes off as an \"urban comedy.\" ... The finale of \"Bait\" finds a screaming infant and his drugged mother strapped to a bomb -- funny stuff, huh?'}\n",
      "\n",
      "Topic proportion: 0.9542857142707268\n",
      "{'rotten_tomatoes_link': 'm/10009596-old_dogs', 'critic_name': 'Matt Soergel', 'top_critic': 'False', 'publisher_name': 'Florida Times-Union', 'review_type': 'Rotten', 'review_score': '1.5/4', 'review_date': '2009-11-25', 'review_content': 'As if to compensate, \"Old Dogs\" continually cuts away from Williams\\' antics to \"cute\" reaction shots from an actual old dog. That\\'s a really bad sign for a movie.'}\n",
      "\n",
      "Topic proportion: 0.9542857142642442\n",
      "{'rotten_tomatoes_link': 'm/god_bless_america_2011', 'critic_name': 'Austin Kennedy', 'top_critic': 'False', 'publisher_name': 'Sin Magazine', 'review_type': 'Fresh', 'review_score': '3.5/4', 'review_date': '2012-05-12', 'review_content': \"It's jawdroppingly hilarious! You'll laugh, but then will feel guilty for laughing. I love movies that make me uncomfortable. Remember how dark HEATHERS was? Well, this is 10 times darker!\"}\n",
      "\n",
      "Topic proportion: 0.9542857142492855\n",
      "{'rotten_tomatoes_link': 'm/sunshine_cleaning', 'critic_name': 'Ty Burr', 'top_critic': 'True', 'publisher_name': 'Boston Globe', 'review_type': 'Fresh', 'review_score': '2.5/4', 'review_date': '2009-03-19', 'review_content': \"It's an honest little movie, well written by Megan Holley, well directed by Christine Jeffs, and very well played by Amy Adams and Emily Blunt as the sisters.\"}\n",
      "\n",
      "Topic proportion: 0.9519999999937803\n",
      "{'rotten_tomatoes_link': 'm/youth_in_revolt', 'critic_name': 'Kurt Loder', 'top_critic': 'False', 'publisher_name': 'MTV', 'review_type': 'Fresh', 'review_score': '4/5', 'review_date': '2010-01-08', 'review_content': 'It has all the hallmarks of a Michael Cera movie. This time out, though, Cera opens up his familiar whimsical-nerd character, inserts a grenade (well, a small grenade) and pulls the pin.'}\n",
      "\n",
      "Topic proportion: 0.9519999999936755\n",
      "{'rotten_tomatoes_link': 'm/jack_and_jill_2011', 'critic_name': 'Marc Savlov', 'top_critic': 'False', 'publisher_name': 'Austin Chronicle', 'review_type': 'Rotten', 'review_score': '0.5/5', 'review_date': '2011-11-18', 'review_content': \"It's front-loaded with enough cameos from the likes of Regis Philbin and Drew Carey to sink most crappy comedies, and, indeed, this one finally makes it to an actual pleasure cruise, - the pleasure.\"}\n",
      "\n",
      "Topic proportion: 0.9519999999927548\n",
      "{'rotten_tomatoes_link': 'm/rv', 'critic_name': 'Mike Sage', 'top_critic': 'False', 'publisher_name': 'Peterborough This Week', 'review_type': 'Rotten', 'review_score': '2/5', 'review_date': '2006-04-28', 'review_content': 'if getting rained on by fecal matter and fisticuffs with ferocious raccoons (played by three tracks of off-camera Foley-SFX) tickle your funny-bone, then by all means board this trailer-park dump.'}\n",
      "\n",
      "Topic proportion: 0.9519999999912017\n",
      "{'rotten_tomatoes_link': 'm/severance', 'critic_name': 'Bruce Westbrook', 'top_critic': 'True', 'publisher_name': 'Houston Chronicle', 'review_type': 'Fresh', 'review_score': '2.5/4', 'review_date': '2007-06-08', 'review_content': 'The cast shows spark and gusto, especially Laura Harris as a vulnerable yet intrepid survivor type and Danny Dyer as a bent druggie who straightens out long enough to fight back.'}\n",
      "\n",
      "Topic proportion: 0.9519999999885327\n",
      "{'rotten_tomatoes_link': 'm/all_stars', 'critic_name': 'Henry Fitzherbert', 'top_critic': 'False', 'publisher_name': 'Daily Express (UK)', 'review_type': 'Rotten', 'review_score': '3/5', 'review_date': '2020-05-07', 'review_content': \"It's formulaic but fun and energetically performed with an engaging performance by Ashley Jensen as the centres sparky supervisor. The dance sequences are well staged, including some inventive fantasy sequences.\"}\n",
      "\n",
      "Topic proportion: 0.9519999999883342\n",
      "{'rotten_tomatoes_link': 'm/knight_and_day', 'critic_name': \"Clint O'Connor\", 'top_critic': 'False', 'publisher_name': 'Cleveland Plain Dealer', 'review_type': 'Rotten', 'review_score': 'C+', 'review_date': '2010-06-23', 'review_content': 'Though it boasts the shiny white teeth star power of Tom Cruise and Cameron Diaz and offers a cute premise, Knight and Day is a flimsy enterprise.'}\n",
      "\n",
      "Topic proportion: 0.9494736842039828\n",
      "{'rotten_tomatoes_link': 'm/when_in_rome', 'critic_name': 'Andrea Gronvall', 'top_critic': 'True', 'publisher_name': 'Chicago Reader', 'review_type': 'Rotten', 'review_score': '', 'review_date': '2010-01-29', 'review_content': 'Josh Duhamel plays the smitten sports reporter who helps Kristen Bell mount her big art show, \"Pain\"-a fitting title, given the agony induced by this godawful comedy.'}\n",
      "\n",
      "Topic proportion: 0.9494736842037075\n",
      "{'rotten_tomatoes_link': 'm/ted_2', 'critic_name': \"David 'Mad Dog' Bradley\", 'top_critic': 'False', 'publisher_name': 'Rip It Up', 'review_type': 'Rotten', 'review_score': '2.5/5', 'review_date': '2015-12-31', 'review_content': \"Director and Ted voicer Seth MacFarlane's follow-up to 2012's Ted has plenty of his trademark crude humour but it all feels rather desperate and silly.\"}\n",
      "\n",
      "Topic proportion: 0.9494736842032184\n",
      "{'rotten_tomatoes_link': 'm/micmacs', 'critic_name': 'Philip Martin', 'top_critic': 'False', 'publisher_name': 'Arkansas Democrat-Gazette', 'review_type': 'Fresh', 'review_score': '86/100', 'review_date': '2010-07-26', 'review_content': \"As a filmmaker, [Jeunet's] prime virtues have to do with textural details, discursive forays into character, little grace notes that accrete into rueful human - and humane - comedy.\"}\n",
      "\n",
      "Topic proportion: 0.9494736842003797\n",
      "{'rotten_tomatoes_link': 'm/the_hummingbird_project', 'critic_name': 'David Parkinson', 'top_critic': 'False', 'publisher_name': 'Radio Times', 'review_type': 'Fresh', 'review_score': '3/5', 'review_date': '2019-06-17', 'review_content': \"But, while it falls some way below the standards set by Nguyen's Oscar-nominated child-soldier saga, War Witch (2012), this has a cockeyed conviction that keeps you watching.\"}\n",
      "\n",
      "Topic proportion: 0.9494736842001167\n",
      "{'rotten_tomatoes_link': 'm/1208806-its_complicated', 'critic_name': 'Moira MacDonald', 'top_critic': 'True', 'publisher_name': 'Seattle Times', 'review_type': 'Rotten', 'review_score': '2.5/4', 'review_date': '2009-12-25', 'review_content': \"There's nothing inherently wrong with a little fantasy; indeed, a lot of us like gazing at lavishly set tables and meticulously chosen throw pillows. But It's Complicated suffers from terminal niceness.\"}\n",
      "\n",
      "Topic proportion: 0.9494736841977006\n",
      "{'rotten_tomatoes_link': 'm/real_genius', 'critic_name': 'Kate Hudson', 'top_critic': 'False', 'publisher_name': 'Pajiba', 'review_type': 'Fresh', 'review_score': '', 'review_date': '2019-06-06', 'review_content': \"Friends, the world is a wacky, wonderful tapestry of opinions and taste. However, there is one universal truth that I must insist we all acknowledge: Real Genius is the best movie of 1985. If you disagree, I'll see you in hell.\"}\n",
      "\n",
      "Topic proportion: 0.9494736841888528\n",
      "{'rotten_tomatoes_link': 'm/hyde_park_on_hudson', 'critic_name': 'Matt Patches', 'top_critic': 'False', 'publisher_name': 'Hollywood.com', 'review_type': 'Rotten', 'review_score': '1.5/5', 'review_date': '2012-12-04', 'review_content': 'Hyde Park on Hudson always goes back to ... a vapid core idea that only offers the filmmakers an opportunity to shoot dynamic driving scenes through scenic upstate New York.'}\n",
      "\n",
      "Topic proportion: 0.949473683823568\n",
      "{'rotten_tomatoes_link': 'm/school_of_rock', 'critic_name': 'Bill Pearis', 'top_critic': 'False', 'publisher_name': 'Citysearch', 'review_type': 'Fresh', 'review_score': '9/10', 'review_date': '2003-10-02', 'review_content': 'Jack Black has played the in-your-face slacker many times before, but with a script written specifically to showcase his particular genius, he completely aces this exam.'}\n",
      "\n",
      "Topic proportion: 0.9466666666626196\n",
      "{'rotten_tomatoes_link': 'm/harold_and_kumar_go_to_white_castle', 'critic_name': 'Derek Adams', 'top_critic': 'True', 'publisher_name': 'Time Out', 'review_type': 'Fresh', 'review_score': '', 'review_date': '2006-02-09', 'review_content': 'Behind all the Farrelly-esque gross-out humour and Cheech & Chong-isms lies a sensitive little picture with a deftly handled anti-racism slant.'}\n",
      "\n",
      "Topic proportion: 0.9466666666607015\n",
      "{'rotten_tomatoes_link': 'm/brothers_of_the_head', 'critic_name': 'David Ansen', 'top_critic': 'True', 'publisher_name': 'Newsweek', 'review_type': 'Fresh', 'review_score': '', 'review_date': '2018-02-07', 'review_content': \"The twins are played by 19-year-old real-life brothers Luke and Harry Treadaway. They're sexy, touching and macabre, and you can't keep your eyes off them.\"}\n",
      "\n",
      "Topic proportion: 0.9466666666591042\n",
      "{'rotten_tomatoes_link': 'm/finding_forrester', 'critic_name': 'James Sanford', 'top_critic': 'False', 'publisher_name': 'Kalamazoo Gazette', 'review_type': 'Fresh', 'review_score': '', 'review_date': '2002-06-15', 'review_content': 'Granted, Connery has done the act many times before, and yet he always seems to pull it off with uncommon grace and good humor.'}\n",
      "\n",
      "Topic proportion: 0.9466666666578294\n",
      "{'rotten_tomatoes_link': 'm/baby_mama', 'critic_name': 'Wesley Morris', 'top_critic': 'True', 'publisher_name': 'Boston Globe', 'review_type': 'Fresh', 'review_score': '3/4', 'review_date': '2008-04-25', 'review_content': 'The movie was written and directed by a man, Michael McCullers. But it cuts out the obligatory middleman and lets two women make us laugh, often very hard.'}\n",
      "\n",
      "Topic proportion: 0.9466666666578102\n",
      "{'rotten_tomatoes_link': 'm/miss_congeniality_2', 'critic_name': 'MaryAnn Johanson', 'top_critic': 'False', 'publisher_name': 'Flick Filosopher', 'review_type': 'Rotten', 'review_score': '', 'review_date': '2005-03-24', 'review_content': \"Bullock['s]... phony 'adorableness' [is] half laughable Hollywood concept of what it means to be 'bohemian' and half deep self-hatred of the attempt at individuality...\"}\n",
      "\n",
      "Topic proportion: 0.9466666666574222\n",
      "{'rotten_tomatoes_link': 'm/ace_ventura_pet_detective', 'critic_name': 'Jonathan Rosenbaum', 'top_critic': 'True', 'publisher_name': 'Chicago Reader', 'review_type': 'Rotten', 'review_score': '', 'review_date': '2010-11-08', 'review_content': 'The most obnoxious case of masculine swagger since Andrew Dice Clay, with just a tad of Paul Lynde thrown in for spice, Jim Carrey defies you not to bolt for the exit.'}\n",
      "\n",
      "Topic proportion: 0.946666666657264\n",
      "{'rotten_tomatoes_link': 'm/before_we_go', 'critic_name': 'Brian Orndorf', 'top_critic': 'False', 'publisher_name': 'Blu-ray.com', 'review_type': 'Rotten', 'review_score': 'C-', 'review_date': '2015-09-02', 'review_content': '\"Before We Go\" contracts a case of the cutes one too many times, hunting for a way to be likeable and romantic when the material demands restraint, trusting in the nature of basic human decency.'}\n",
      "\n",
      "Topic proportion: 0.9466666666556048\n",
      "{'rotten_tomatoes_link': 'm/quartet_2012', 'critic_name': 'Mark Adams', 'top_critic': 'False', 'publisher_name': 'Screen International', 'review_type': 'Fresh', 'review_score': '', 'review_date': '2013-12-22', 'review_content': \"Dustin Hoffman's directorial debut is an affectionate, moving and charming film that offers a series of wonderful roles for a distinguished cast of veteran British performers.\"}\n",
      "\n",
      "Topic proportion: 0.9466666666546278\n",
      "{'rotten_tomatoes_link': 'm/1016819-producers', 'critic_name': 'Bob Bloom', 'top_critic': 'False', 'publisher_name': 'Journal and Courier (Lafayette, IN)', 'review_type': 'Fresh', 'review_score': '5/5', 'review_date': '2003-03-21', 'review_content': 'Great, great, great! \"Springtime for Hitler,\" one of the funniest sequences ever put on film! Wilder is great, Mostel, a force of nature. Always fresh, no matter how often you see it.'}\n",
      "\n"
     ]
    }
   ],
   "source": [
    "def get_top_docs_by_topic(docs, doc_topic_vecs, topic, n_top_docs=50):\n",
    "    doc_idxs = doc_topic_vecs[:,topic].argsort()[:-n_top_docs-1:-1]\n",
    "    for idx in doc_idxs:\n",
    "        print(\"Topic proportion:\", doc_topic_vecs[idx][topic])\n",
    "        print(docs[idx])\n",
    "        print()\n",
    "\n",
    "get_top_docs_by_topic(comedy_reviews, doc_topic_vecs, 0)"
   ]
  },
  {
   "cell_type": "markdown",
   "id": "5ebbc265",
   "metadata": {},
   "source": [
    "Topic models are very good at finding words that show up together, which is actually a perk for us when we're cleaning a text collection: if there's a systematic issue that causes repeated text to appear or that means a subset of the data is fundamentally very different from the rest, the topic model will almost always put the words that indicate that issue together in a topic. Since topic models try to represent the whole text as well as possible, even when things are working well, we expect some topics may not look interesting - but if you see sequences of words that aren't just boring but actually puzzling (or if you're trying to label topics) it's always important to go look at the documents!\n",
    "\n",
    "With that, we wrap up this brief overview of text curation. One thing we didn't do in this lesson that I'd hoped to was to show that the use of a model to detect issues in data isn't limited to topic models: supervised text classifiers like Naive Bayes classifiers learn weights on how much certain features matter, so one could train a classifier to predict which reviews are fresh versus rotten, then inspect whether some of the words that are considered good indicators of that are indicating a systamtic issue. If you have time to explore more, I recommend checking out [Susan Li's tutorial](https://towardsdatascience.com/multi-class-text-classification-with-scikit-learn-12f1e60e0a9f) for an idea of how to use scikit-learn's multinomial Naive Bayes classifier `MultinomialNB` to do analyses."
   ]
  },
  {
   "cell_type": "markdown",
   "id": "8816e0f8",
   "metadata": {},
   "source": [
    "___\n",
    "\n",
    "Thank you! For access to the source code of all three lessons, go to [https://github.com/xandaschofield/tapi-text-data]"
   ]
  },
  {
   "cell_type": "code",
   "execution_count": null,
   "id": "fc9dfb64",
   "metadata": {},
   "outputs": [],
   "source": []
  }
 ],
 "metadata": {
  "kernelspec": {
   "display_name": "Python 3 (ipykernel)",
   "language": "python",
   "name": "python3"
  },
  "language_info": {
   "codemirror_mode": {
    "name": "ipython",
    "version": 3
   },
   "file_extension": ".py",
   "mimetype": "text/x-python",
   "name": "python",
   "nbconvert_exporter": "python",
   "pygments_lexer": "ipython3",
   "version": "3.9.7"
  },
  "toc": {
   "base_numbering": 1,
   "nav_menu": {},
   "number_sections": true,
   "sideBar": true,
   "skip_h1_title": false,
   "title_cell": "Table of Contents",
   "title_sidebar": "Contents",
   "toc_cell": false,
   "toc_position": {},
   "toc_section_display": true,
   "toc_window_display": true
  }
 },
 "nbformat": 4,
 "nbformat_minor": 5
}
